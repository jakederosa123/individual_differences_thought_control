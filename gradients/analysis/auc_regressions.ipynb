{
 "cells": [
  {
   "cell_type": "code",
   "execution_count": 16,
   "metadata": {},
   "outputs": [],
   "source": [
    "import sys \n",
    "sys.path.append('/pl/active/banich/studies/Relevantstudies/abcd/env/lib/python3.7/site-packages')\n",
    "sys.path.append('/pl/active/banich/studies/Clearvale/jake_scripts/Amy_flywheel_scripts/')\n",
    "\n",
    "import numpy as np\n",
    "import pandas as pd\n",
    "import os"
   ]
  },
  {
   "cell_type": "code",
   "execution_count": 17,
   "metadata": {},
   "outputs": [],
   "source": [
    "z_data = pd.read_csv('/pl/active/banich/studies/wmem/fmri/operation_rsa/grp/gradients/analysis/ClearMem_Z_Average.csv')\n",
    "z_data = z_data[['SubID', 'z_ave', 'PSWQ_total', 'WBSI_total', 'RRS_total', 'RRS_depression', 'RRS_brooding', 'RRS_reflection']]\n",
    "z_data = z_data.dropna()\n",
    "\n",
    "from scipy.stats import zscore\n",
    "z_data['br_z_ave'] = z_data['z_ave']\n",
    "z_data.drop('z_ave', axis=1, inplace=True)\n",
    "z_data['b_z_ave'] = (zscore(z_data['PSWQ_total']) + zscore(z_data['WBSI_total']) + zscore(z_data['RRS_brooding']))/3\n",
    "z_data['brd_z_ave'] = (zscore(z_data['PSWQ_total']) + zscore(z_data['WBSI_total']) + zscore(z_data['RRS_brooding']) + zscore(z_data['RRS_reflection']) + zscore(z_data['RRS_depression']))/5"
   ]
  },
  {
   "cell_type": "code",
   "execution_count": 18,
   "metadata": {},
   "outputs": [],
   "source": [
    "#z_data"
   ]
  },
  {
   "cell_type": "code",
   "execution_count": 23,
   "metadata": {},
   "outputs": [],
   "source": [
    "subj_accuracy = pd.read_csv('/pl/active/banich/studies/wmem/fmri/operation_rsa/grp/gradients/subj/predictions/classifiers/accuracy.csv').iloc[:, 1:7]\n",
    "subj_evidence = pd.read_csv('/pl/active/banich/studies/wmem/fmri/operation_rsa/grp/gradients/subj/predictions/classifiers/evidence.csv').iloc[:, 1:6]"
   ]
  },
  {
   "cell_type": "code",
   "execution_count": 24,
   "metadata": {},
   "outputs": [],
   "source": [
    "subj_accuracy.subject_id = subj_accuracy.subject_id.str.replace('clearmem_v1_sub', '').astype(int)\n",
    "subj_evidence.subject_id = subj_evidence.subject_id.str.replace('clearmem_v1_sub', '').astype(int)\n",
    "\n",
    "subj_accuracy.columns = ['SubID', 'maintain_acc', 'replace_acc', 'suppress_acc', 'clear_acc', 'total_acc']\n",
    "subj_evidence.columns = ['SubID', 'maintain_ev', 'replace_ev', 'suppress_ev', 'clear_ev']\n",
    "\n",
    "acc_ev = pd.merge(subj_accuracy, subj_evidence, on='SubID')"
   ]
  },
  {
   "cell_type": "code",
   "execution_count": 26,
   "metadata": {},
   "outputs": [],
   "source": [
    "acc_ev.to_csv('/pl/active/banich/studies/wmem/fmri/operation_rsa/grp/gradients/dispersion_data/derosa_task_classifiers.csv')"
   ]
  },
  {
   "cell_type": "code",
   "execution_count": 27,
   "metadata": {},
   "outputs": [],
   "source": [
    "acc_ev_z = pd.merge(acc_ev, z_data, on='SubID')\n",
    "#acc_ev_z"
   ]
  },
  {
   "cell_type": "code",
   "execution_count": 28,
   "metadata": {},
   "outputs": [],
   "source": [
    "def run_regression(data, target, y_vars, interaction=None):\n",
    "    import pandas as pd\n",
    "    import statsmodels.api as sm\n",
    "    import statsmodels.formula.api as smf\n",
    "\n",
    "    if interaction is not None:\n",
    "        # Creating the formula with interaction terms if there are multiple y_vars\n",
    "        if len(y_vars) > 1:\n",
    "            joined_vars = ' * '.join(y_vars)\n",
    "        else:\n",
    "            joined_vars = y_vars[0]\n",
    "        \n",
    "        new_y_vars = [joined_vars]\n",
    "        formula = f'{target[0]} ~ {joined_vars}'\n",
    "\n",
    "    else:\n",
    "        joined_vars = ' + '.join(y_vars)\n",
    "        new_y_vars = [joined_vars]\n",
    "        formula = f'{target[0]} ~ {joined_vars}'\n",
    "\n",
    "    # Fit the regression model using the formula\n",
    "    model = smf.ols(formula=formula, data=data).fit()\n",
    "\n",
    "    # Print the full regression output\n",
    "    summary = model.summary()\n",
    "\n",
    "    var = pd.DataFrame(summary.tables[0].data).iloc[0, 1]\n",
    "\n",
    "    table1 = pd.DataFrame(summary.tables[0].data).iloc[:4, 3:].T.assign(var=var)\n",
    "    table1.columns = ['r2', 'adjr2', 'fstat', 'pval', 'var']\n",
    "    table1 = table1[['var', 'r2', 'adjr2', 'fstat', 'pval']]\n",
    "\n",
    "    table2_cols = pd.DataFrame(summary.tables[1].data).loc[0].to_list() + ['var']\n",
    "    table2_cols[0] = 'parameter'\n",
    "    table2 = pd.DataFrame(summary.tables[1].data).iloc[1:].assign(var=var)\n",
    "    table2.columns = table2_cols\n",
    "    table2 = table2[['var', 'parameter', 'coef', 'std err', 't', 'P>|t|']]\n",
    "\n",
    "    df = pd.merge(table1, table2, how='outer', left_on='var', right_on='parameter')\n",
    "\n",
    "    # Combine 'var_x' and 'var_y' into a new column 'var'\n",
    "    df['var'] = df['var_x'].fillna(df['var_y'])\n",
    "\n",
    "    # Drop the original 'var_x' and 'var_y' columns\n",
    "    df.drop(columns=['var_x', 'var_y'], inplace=True)\n",
    "\n",
    "    # Reorder columns to place 'var' at the front\n",
    "    cols = ['var'] + [col for col in df.columns if col != 'var']\n",
    "    df = df[cols]\n",
    "    df = df.assign(formula=formula)\n",
    "\n",
    "    return df\n",
    "\n",
    "\n",
    "def regression_function(data, variable_list, interaction):\n",
    "\n",
    "    import itertools\n",
    "\n",
    "    # Given list\n",
    "    variables = variable_list\n",
    "    targets = [['PSWQ_total'], ['brd_z_ave']]\n",
    "\n",
    "    # Create a list to hold all combinations\n",
    "    all_combinations = []\n",
    "\n",
    "    # Generate combinations for each length from 1 to the length of the list\n",
    "    for r in range(1, len(variables) + 1):\n",
    "        combinations = list(itertools.combinations(variables, r))\n",
    "        all_combinations.extend(combinations)\n",
    "\n",
    "    # Convert each tuple to a list\n",
    "    list_combinations = [list(item) for item in all_combinations]\n",
    "\n",
    "    regression_combinations = []\n",
    "    for i in targets:\n",
    "        for j in list_combinations:\n",
    "            regression_combinations.append(run_regression(data, i, j, interaction))\n",
    "\n",
    "    output_regressions = pd.concat(regression_combinations)\n",
    "\n",
    "    # List of columns to convert\n",
    "    columns_to_convert = ['r2', 'adjr2', 'fstat', 'pval', 'coef', 'std err', 't', 'P>|t|']\n",
    "\n",
    "    # Convert each specified column to numeric, handling non-numeric values by converting them to NaN\n",
    "    for column in columns_to_convert:\n",
    "        output_regressions[column] = pd.to_numeric(output_regressions[column], errors='coerce')\n",
    "\n",
    "    return output_regressions"
   ]
  },
  {
   "cell_type": "code",
   "execution_count": 29,
   "metadata": {},
   "outputs": [],
   "source": [
    "acc_mean_list = ['maintain_acc', 'replace_acc', 'suppress_acc', 'clear_acc', 'total_acc']\n",
    "acc_mean_reg = regression_function(acc_ev_z, acc_mean_list, interaction=None)"
   ]
  },
  {
   "cell_type": "code",
   "execution_count": 30,
   "metadata": {},
   "outputs": [
    {
     "data": {
      "text/plain": [
       "['brd_z_ave ~ clear_acc',\n",
       " 'brd_z_ave ~ suppress_acc',\n",
       " 'brd_z_ave ~ total_acc',\n",
       " 'brd_z_ave ~ maintain_acc',\n",
       " 'brd_z_ave ~ replace_acc + total_acc']"
      ]
     },
     "execution_count": 30,
     "metadata": {},
     "output_type": "execute_result"
    }
   ],
   "source": [
    "(acc_mean_reg.query('pval < .05')\n",
    " .query('var == \"brd_z_ave\"')\n",
    " .sort_values('fstat', ascending=False)\n",
    " .formula.to_list()\n",
    ")"
   ]
  },
  {
   "cell_type": "code",
   "execution_count": 31,
   "metadata": {},
   "outputs": [],
   "source": [
    "ev_mean_list = ['maintain_ev', 'replace_ev', 'suppress_ev', 'clear_ev']\n",
    "ev_mean_reg = regression_function(acc_ev_z, ev_mean_list, interaction=None)"
   ]
  },
  {
   "cell_type": "code",
   "execution_count": 32,
   "metadata": {},
   "outputs": [
    {
     "data": {
      "text/plain": [
       "['brd_z_ave ~ maintain_ev', 'brd_z_ave ~ clear_ev', 'brd_z_ave ~ suppress_ev']"
      ]
     },
     "execution_count": 32,
     "metadata": {},
     "output_type": "execute_result"
    }
   ],
   "source": [
    "(ev_mean_reg.query('pval < .05')\n",
    " .query('var == \"brd_z_ave\"')\n",
    " .sort_values('fstat', ascending=False)\n",
    " .formula.to_list()\n",
    ")"
   ]
  },
  {
   "cell_type": "code",
   "execution_count": 13,
   "metadata": {},
   "outputs": [],
   "source": [
    "#acc_ev_mean_list = ['maintain_acc', 'replace_acc', 'suppress_acc', 'clear_acc', 'total_acc', 'maintain_ev', 'replace_ev', 'suppress_ev', 'clear_ev']\n",
    "#acc_ev_mean_reg = regression_function(acc_ev_z, acc_ev_mean_list, interaction=None)"
   ]
  },
  {
   "cell_type": "code",
   "execution_count": 14,
   "metadata": {},
   "outputs": [],
   "source": [
    "#(acc_ev_mean_reg.query('pval < .05')\n",
    "# .query('var == \"brd_z_ave\"')\n",
    "# .sort_values('fstat', ascending=False)\n",
    " #.formula.to_list()\n",
    "#)"
   ]
  },
  {
   "cell_type": "code",
   "execution_count": 11,
   "metadata": {},
   "outputs": [],
   "source": [
    "sub_disp_ecc_means = pd.read_csv('/pl/active/banich/studies/wmem/fmri/operation_rsa/grp/gradients/analysis/sub_disp_ecc_means_z.csv')\n",
    "\n",
    "\n",
    "sub_disp_ecc_acc_ev_means = pd.merge(sub_disp_ecc_means, acc_ev, on='SubID')"
   ]
  },
  {
   "cell_type": "code",
   "execution_count": 19,
   "metadata": {},
   "outputs": [],
   "source": [
    "sub_disp_ecc_acc_ev_means.to_csv('/pl/active/banich/studies/wmem/fmri/operation_rsa/grp/gradients/analysis/sub_disp_ecc_acc_ev_means.csv', index=False)"
   ]
  },
  {
   "cell_type": "code",
   "execution_count": null,
   "metadata": {},
   "outputs": [],
   "source": [
    "all_list = [ 'vn_fpcn_mean', 'vn_dmn_mean', \n",
    "'fpcn_dmn_mean', 'vn_mean', 'fpcn_mean',\n",
    "'dmn_mean', 'overall_mean', 'main_mean', 'replace_mean',\n",
    "'suppress_mean', 'clear_mean', 'vn_mean_ecc',\n",
    "'fpcn_mean_ecc', 'dmn_mean_ecc', 'overall_mean_ecc', 'maintain_acc',\n",
    "'replace_acc', 'suppress_acc', 'clear_acc', 'total_acc', 'maintain_ev',\n",
    "'replace_ev', 'suppress_ev', 'clear_ev']\n",
    "\n",
    "all_mean_reg = regression_function(sub_disp_ecc_acc_ev_means, all_list, interaction=None)"
   ]
  },
  {
   "cell_type": "code",
   "execution_count": null,
   "metadata": {},
   "outputs": [],
   "source": [
    "cor_matt = sub_disp_ecc_acc_ev_means[['dmn_mean', 'replace_mean', 'vn_mean_ecc', 'dmn_mean_ecc', 'clear_acc', 'maintain_ev', 'fpcn_dmn_mean']].corr(method='spearman')\n",
    "\n",
    "import seaborn as sns\n",
    "sns.clustermap(cor_matt, center=0, cmap='bwr', annot=True)\n"
   ]
  },
  {
   "cell_type": "code",
   "execution_count": null,
   "metadata": {},
   "outputs": [],
   "source": [
    "(all_mean_reg.query('pval < .05')\n",
    " .query('var == \"brd_z_ave\"')\n",
    " .sort_values('pval', ascending=True)\n",
    " #.formula.to_list()\n",
    ")"
   ]
  },
  {
   "cell_type": "code",
   "execution_count": 26,
   "metadata": {},
   "outputs": [
    {
     "name": "stdout",
     "output_type": "stream",
     "text": [
      "Selected features indices: [ 9 12 15 18 23 25]\n",
      "Coefficients of selected features: [-0.07928836 -0.00832382  0.09785993 -0.06844785 -0.0304262  -0.07307126]\n",
      "Names of selected features: Index(['dmn_mean', 'replace_mean', 'vn_mean_ecc', 'dmn_mean_ecc', 'global_acc',\n",
      "       'maintain_ev'],\n",
      "      dtype='object')\n"
     ]
    }
   ],
   "source": [
    "import numpy as np\n",
    "from sklearn.linear_model import LassoCV\n",
    "from sklearn.model_selection import RepeatedKFold\n",
    "from sklearn.preprocessing import StandardScaler\n",
    "\n",
    "# Assuming sub_disp_ecc_acc_ev_means is your DataFrame\n",
    "X = sub_disp_ecc_acc_ev_means.drop(['SubID', 'PSWQ_total', 'WBSI_total', 'RRS_total', \n",
    "                                    'RRS_depression', 'RRS_brooding', 'RRS_reflection', \n",
    "                                    'br_z_ave', 'b_z_ave', 'brd_z_ave'], axis=1)\n",
    "y = sub_disp_ecc_acc_ev_means['brd_z_ave'].values.ravel()  # Using .ravel() to create a 1D array\n",
    "\n",
    "# Standardizing the features\n",
    "scaler = StandardScaler()\n",
    "X_scaled = scaler.fit_transform(X)\n",
    "\n",
    "# Setting up cross-validation\n",
    "cv = RepeatedKFold(n_splits=10, n_repeats=3, random_state=1)\n",
    "\n",
    "# Define the LassoCV model\n",
    "model = LassoCV(cv=cv, max_iter=10000)  # Removed normalize parameter\n",
    "\n",
    "# Fit model\n",
    "model.fit(X_scaled, y)\n",
    "\n",
    "# Check coefficients\n",
    "coef = model.coef_\n",
    "\n",
    "# Identifying non-zero coefficients (selected features)\n",
    "selected_features = np.where(coef != 0)[0]\n",
    "\n",
    "print(\"Selected features indices:\", selected_features)\n",
    "print(\"Coefficients of selected features:\", coef[selected_features])\n",
    "\n",
    "# Mapping selected indices to feature names based on remaining columns in X\n",
    "feature_names = X.columns[selected_features]\n",
    "print(\"Names of selected features:\", feature_names)\n"
   ]
  },
  {
   "cell_type": "code",
   "execution_count": 83,
   "metadata": {},
   "outputs": [],
   "source": [
    "import pandas as pd\n",
    "import numpy as np\n",
    "\n",
    "def bootstrap_regression(data, columns, n_iterations=100):\n",
    "    # Store results in a list of DataFrames\n",
    "    \n",
    "    global regression_function\n",
    "    \n",
    "    results = []\n",
    "    # Perform bootstrapping\n",
    "    for i in range(n_iterations):\n",
    "        \n",
    "        # Sample with replacement\n",
    "        sample = data.sample(n=len(data), replace=True)\n",
    "\n",
    "        # Run the regression function\n",
    "        result = regression_function(sample, columns, interaction=None)\n",
    "        print\n",
    "        # Append the result to the list\n",
    "        results.append(result)\n",
    "    \n",
    "    # Concatenate all results into a single DataFrame\n",
    "    final_results = pd.concat(results, ignore_index=True)\n",
    "    \n",
    "    return final_results\n",
    "\n",
    "\n",
    "# Assuming sub_disp_ecc_acc_ev_means is your DataFrame and all_list is defined as before\n",
    "all_list = ['dmn_mean', 'replace_mean', 'vn_mean_ecc', 'dmn_mean_ecc', 'clear_acc', 'maintain_ev', 'fpcn_dmn_mean']\n",
    "\n",
    "# Call the bootstrap function with your dataset, regression function, and the list of all features\n",
    "bootstrapped_results = bootstrap_regression(sub_disp_ecc_acc_ev_means, all_list, n_iterations=100)"
   ]
  },
  {
   "cell_type": "code",
   "execution_count": 84,
   "metadata": {},
   "outputs": [],
   "source": [
    "bootstrapped_results.to_csv('/pl/active/banich/studies/wmem/fmri/operation_rsa/grp/gradients/analysis/operation_regressions/bootstrap_regressions/boot_results.csv')"
   ]
  },
  {
   "cell_type": "code",
   "execution_count": 32,
   "metadata": {},
   "outputs": [],
   "source": [
    "#all_list = [ 'vn_fpcn_mean', 'vn_dmn_mean', \n",
    "#'fpcn_dmn_mean', 'vn_mean', 'fpcn_mean',\n",
    "#'dmn_mean', 'overall_mean', 'main_mean', 'replace_mean',\n",
    "#'suppress_mean', 'clear_mean', 'vn_mean_ecc',\n",
    "#'fpcn_mean_ecc', 'dmn_mean_ecc', 'overall_mean_ecc', 'maintain_acc',\n",
    "#'replace_acc', 'suppress_acc', 'clear_acc', 'total_acc', 'maintain_ev',\n",
    "#'replace_ev', 'suppress_ev', 'clear_ev']"
   ]
  },
  {
   "cell_type": "code",
   "execution_count": 82,
   "metadata": {},
   "outputs": [],
   "source": [
    "import pandas as pd\n",
    "import seaborn as sns\n",
    "# Assuming bootstrapped_results is already loaded as a DataFrame\n",
    "# First, let's group by 'formula' and calculate the mean and standard deviation of 'pval'\n",
    "# Assuming 'fstat' and 'adjr2' are columns in bootstrapped_results DataFrame\n",
    "# Group by 'formula' and calculate the mean and standard deviation of 'pval', and mean of 'fstat' and 'adjr2'\n",
    "stats = bootstrapped_results.groupby('formula').agg({\n",
    "    'pval': ['mean', 'std'],\n",
    "    'fstat': ['mean', 'std'],\n",
    "    'adjr2': ['mean', 'std']\n",
    "})\n",
    "\n",
    "# Rename columns for clarity\n",
    "stats.columns = ['mean_pval', 'std_pval', 'mean_fstat', 'std_fstat', 'mean_adjr2', 'std_adjr2']\n",
    "\n",
    "# Sort the formulas first by mean_pval in ascending order (lower means better),\n",
    "# and then by std_pval in ascending order (lower variability is better)\n",
    "sorted_stats = stats.sort_values(by=['mean_pval', 'std_pval'])\n",
    "\n",
    "# Now, select the top 10 formulas\n",
    "top_10_formulas = sorted_stats.head(10).reset_index()\n",
    "\n",
    "top_10_formulas.formula = top_10_formulas.formula.str.replace('brd_z_ave ~', '')\n",
    "top_10_formulas.to_csv('/pl/active/banich/studies/wmem/fmri/operation_rsa/grp/gradients/analysis/operation_regressions/bootstrap_regressions/top_10_formulas.csv')\n",
    "\n"
   ]
  },
  {
   "cell_type": "code",
   "execution_count": null,
   "metadata": {},
   "outputs": [],
   "source": []
  }
 ],
 "metadata": {
  "kernelspec": {
   "display_name": "Python 3 (ipykernel)",
   "language": "python",
   "name": "python3"
  },
  "language_info": {
   "codemirror_mode": {
    "name": "ipython",
    "version": 3
   },
   "file_extension": ".py",
   "mimetype": "text/x-python",
   "name": "python",
   "nbconvert_exporter": "python",
   "pygments_lexer": "ipython3",
   "version": "3.7.12"
  }
 },
 "nbformat": 4,
 "nbformat_minor": 4
}
