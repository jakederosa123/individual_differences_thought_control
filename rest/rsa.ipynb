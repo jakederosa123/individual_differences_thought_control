{
 "cells": [
  {
   "cell_type": "code",
   "execution_count": 14,
   "metadata": {},
   "outputs": [],
   "source": [
    "import sys \n",
    "sys.path.append('/pl/active/banich/studies/Relevantstudies/abcd/env/lib/python3.7/site-packages')\n",
    "sys.path.append('/pl/active/banich/studies/Clearvale/jake_scripts/Amy_flywheel_scripts/')\n",
    "\n"
   ]
  },
  {
   "cell_type": "code",
   "execution_count": 15,
   "metadata": {},
   "outputs": [],
   "source": [
    "#%ls /pl/active/banich/studies/wmem/fmri/subjects/rest_results/001/"
   ]
  },
  {
   "cell_type": "code",
   "execution_count": 16,
   "metadata": {},
   "outputs": [
    {
     "name": "stdout",
     "output_type": "stream",
     "text": [
      "Processing subject 001 with files: ['/pl/active/banich/studies/wmem/fmri/subjects/rest_results/001/swaurestrun1.nii', '/pl/active/banich/studies/wmem/fmri/subjects/rest_results/001/swaurestrun2.nii']\n",
      "Using a window size of 65 time points, which corresponds to 30.0 seconds.\n",
      "Number of windows: 23\n",
      "Saved RSA matrix for subject 001 to /pl/active/banich/studies/wmem/fmri/operation_rsa/grp/rest/rsa_matrices/001_rsa_matrix.csv\n",
      "Processing subject 002 with files: ['/pl/active/banich/studies/wmem/fmri/subjects/rest_results/002/swaurestrun1.nii', '/pl/active/banich/studies/wmem/fmri/subjects/rest_results/002/swaurestrun2.nii']\n",
      "Using a window size of 65 time points, which corresponds to 30.0 seconds.\n",
      "Number of windows: 23\n",
      "Saved RSA matrix for subject 002 to /pl/active/banich/studies/wmem/fmri/operation_rsa/grp/rest/rsa_matrices/002_rsa_matrix.csv\n",
      "Processing subject 004 with files: ['/pl/active/banich/studies/wmem/fmri/subjects/rest_results/004/swaurestrun1.nii', '/pl/active/banich/studies/wmem/fmri/subjects/rest_results/004/swaurestrun2.nii']\n",
      "Using a window size of 65 time points, which corresponds to 30.0 seconds.\n",
      "Number of windows: 23\n",
      "Saved RSA matrix for subject 004 to /pl/active/banich/studies/wmem/fmri/operation_rsa/grp/rest/rsa_matrices/004_rsa_matrix.csv\n",
      "Processing subject 005 with files: ['/pl/active/banich/studies/wmem/fmri/subjects/rest_results/005/swaurestrun1.nii']\n",
      "Using a window size of 65 time points, which corresponds to 30.0 seconds.\n",
      "Number of windows: 11\n",
      "Saved RSA matrix for subject 005 to /pl/active/banich/studies/wmem/fmri/operation_rsa/grp/rest/rsa_matrices/005_rsa_matrix.csv\n",
      "Processing subject 006 with files: ['/pl/active/banich/studies/wmem/fmri/subjects/rest_results/006/swaurestrun1.nii']\n",
      "Using a window size of 65 time points, which corresponds to 30.0 seconds.\n",
      "Number of windows: 11\n",
      "Saved RSA matrix for subject 006 to /pl/active/banich/studies/wmem/fmri/operation_rsa/grp/rest/rsa_matrices/006_rsa_matrix.csv\n",
      "Processing subject 008 with files: ['/pl/active/banich/studies/wmem/fmri/subjects/rest_results/008/swaurestrun1.nii', '/pl/active/banich/studies/wmem/fmri/subjects/rest_results/008/swaurestrun2.nii']\n",
      "Using a window size of 65 time points, which corresponds to 30.0 seconds.\n",
      "Number of windows: 23\n",
      "Saved RSA matrix for subject 008 to /pl/active/banich/studies/wmem/fmri/operation_rsa/grp/rest/rsa_matrices/008_rsa_matrix.csv\n",
      "Processing subject 009 with files: ['/pl/active/banich/studies/wmem/fmri/subjects/rest_results/009/swaurestrun1.nii', '/pl/active/banich/studies/wmem/fmri/subjects/rest_results/009/swaurestrun2.nii']\n",
      "Using a window size of 65 time points, which corresponds to 30.0 seconds.\n",
      "Number of windows: 23\n",
      "Saved RSA matrix for subject 009 to /pl/active/banich/studies/wmem/fmri/operation_rsa/grp/rest/rsa_matrices/009_rsa_matrix.csv\n",
      "Processing subject 010 with files: ['/pl/active/banich/studies/wmem/fmri/subjects/rest_results/010/swaurestrun1.nii', '/pl/active/banich/studies/wmem/fmri/subjects/rest_results/010/swaurestrun2.nii']\n",
      "Using a window size of 65 time points, which corresponds to 30.0 seconds.\n",
      "Number of windows: 23\n",
      "Saved RSA matrix for subject 010 to /pl/active/banich/studies/wmem/fmri/operation_rsa/grp/rest/rsa_matrices/010_rsa_matrix.csv\n",
      "Processing subject 011 with files: ['/pl/active/banich/studies/wmem/fmri/subjects/rest_results/011/swaurestrun1.nii', '/pl/active/banich/studies/wmem/fmri/subjects/rest_results/011/swaurestrun2.nii']\n",
      "Using a window size of 65 time points, which corresponds to 30.0 seconds.\n",
      "Number of windows: 23\n",
      "Saved RSA matrix for subject 011 to /pl/active/banich/studies/wmem/fmri/operation_rsa/grp/rest/rsa_matrices/011_rsa_matrix.csv\n",
      "Processing subject 012 with files: ['/pl/active/banich/studies/wmem/fmri/subjects/rest_results/012/swaurestrun1.nii']\n",
      "Using a window size of 65 time points, which corresponds to 30.0 seconds.\n",
      "Number of windows: 11\n",
      "Saved RSA matrix for subject 012 to /pl/active/banich/studies/wmem/fmri/operation_rsa/grp/rest/rsa_matrices/012_rsa_matrix.csv\n",
      "Processing subject 013 with files: ['/pl/active/banich/studies/wmem/fmri/subjects/rest_results/013/swaurestrun1.nii', '/pl/active/banich/studies/wmem/fmri/subjects/rest_results/013/swaurestrun2.nii']\n",
      "Using a window size of 65 time points, which corresponds to 30.0 seconds.\n",
      "Number of windows: 23\n",
      "Saved RSA matrix for subject 013 to /pl/active/banich/studies/wmem/fmri/operation_rsa/grp/rest/rsa_matrices/013_rsa_matrix.csv\n",
      "Processing subject 015 with files: ['/pl/active/banich/studies/wmem/fmri/subjects/rest_results/015/swaurestrun1.nii', '/pl/active/banich/studies/wmem/fmri/subjects/rest_results/015/swaurestrun2.nii']\n",
      "Using a window size of 65 time points, which corresponds to 30.0 seconds.\n",
      "Number of windows: 23\n",
      "Saved RSA matrix for subject 015 to /pl/active/banich/studies/wmem/fmri/operation_rsa/grp/rest/rsa_matrices/015_rsa_matrix.csv\n",
      "Processing subject 017 with files: ['/pl/active/banich/studies/wmem/fmri/subjects/rest_results/017/swaurestrun1.nii', '/pl/active/banich/studies/wmem/fmri/subjects/rest_results/017/swaurestrun2.nii']\n",
      "Using a window size of 65 time points, which corresponds to 30.0 seconds.\n",
      "Number of windows: 23\n",
      "Saved RSA matrix for subject 017 to /pl/active/banich/studies/wmem/fmri/operation_rsa/grp/rest/rsa_matrices/017_rsa_matrix.csv\n",
      "Processing subject 018 with files: ['/pl/active/banich/studies/wmem/fmri/subjects/rest_results/018/swaurestrun1.nii', '/pl/active/banich/studies/wmem/fmri/subjects/rest_results/018/swaurestrun2.nii']\n",
      "Using a window size of 65 time points, which corresponds to 30.0 seconds.\n",
      "Number of windows: 23\n",
      "Saved RSA matrix for subject 018 to /pl/active/banich/studies/wmem/fmri/operation_rsa/grp/rest/rsa_matrices/018_rsa_matrix.csv\n",
      "Processing subject 020 with files: ['/pl/active/banich/studies/wmem/fmri/subjects/rest_results/020/swaurestrun1.nii', '/pl/active/banich/studies/wmem/fmri/subjects/rest_results/020/swaurestrun2.nii']\n",
      "Using a window size of 65 time points, which corresponds to 30.0 seconds.\n",
      "Number of windows: 23\n",
      "Saved RSA matrix for subject 020 to /pl/active/banich/studies/wmem/fmri/operation_rsa/grp/rest/rsa_matrices/020_rsa_matrix.csv\n",
      "Processing subject 021 with files: ['/pl/active/banich/studies/wmem/fmri/subjects/rest_results/021/swaurestrun1.nii', '/pl/active/banich/studies/wmem/fmri/subjects/rest_results/021/swaurestrun2.nii']\n",
      "Using a window size of 65 time points, which corresponds to 30.0 seconds.\n",
      "Number of windows: 23\n",
      "Saved RSA matrix for subject 021 to /pl/active/banich/studies/wmem/fmri/operation_rsa/grp/rest/rsa_matrices/021_rsa_matrix.csv\n",
      "Processing subject 022 with files: ['/pl/active/banich/studies/wmem/fmri/subjects/rest_results/022/swaurestrun1.nii', '/pl/active/banich/studies/wmem/fmri/subjects/rest_results/022/swaurestrun2.nii']\n",
      "Using a window size of 65 time points, which corresponds to 30.0 seconds.\n",
      "Number of windows: 23\n",
      "Saved RSA matrix for subject 022 to /pl/active/banich/studies/wmem/fmri/operation_rsa/grp/rest/rsa_matrices/022_rsa_matrix.csv\n",
      "Processing subject 023 with files: ['/pl/active/banich/studies/wmem/fmri/subjects/rest_results/023/swaurestrun1.nii']\n",
      "Using a window size of 65 time points, which corresponds to 30.0 seconds.\n",
      "Number of windows: 11\n",
      "Saved RSA matrix for subject 023 to /pl/active/banich/studies/wmem/fmri/operation_rsa/grp/rest/rsa_matrices/023_rsa_matrix.csv\n",
      "Processing subject 027 with files: ['/pl/active/banich/studies/wmem/fmri/subjects/rest_results/027/swaurestrun1.nii', '/pl/active/banich/studies/wmem/fmri/subjects/rest_results/027/swaurestrun2.nii']\n",
      "Using a window size of 65 time points, which corresponds to 30.0 seconds.\n",
      "Number of windows: 23\n",
      "Saved RSA matrix for subject 027 to /pl/active/banich/studies/wmem/fmri/operation_rsa/grp/rest/rsa_matrices/027_rsa_matrix.csv\n",
      "Processing subject 029 with files: ['/pl/active/banich/studies/wmem/fmri/subjects/rest_results/029/swaurestrun1.nii', '/pl/active/banich/studies/wmem/fmri/subjects/rest_results/029/swaurestrun2.nii']\n",
      "Using a window size of 65 time points, which corresponds to 30.0 seconds.\n",
      "Number of windows: 23\n",
      "Saved RSA matrix for subject 029 to /pl/active/banich/studies/wmem/fmri/operation_rsa/grp/rest/rsa_matrices/029_rsa_matrix.csv\n",
      "Processing subject 031 with files: ['/pl/active/banich/studies/wmem/fmri/subjects/rest_results/031/swaurestrun1.nii']\n",
      "Using a window size of 65 time points, which corresponds to 30.0 seconds.\n",
      "Number of windows: 11\n",
      "Saved RSA matrix for subject 031 to /pl/active/banich/studies/wmem/fmri/operation_rsa/grp/rest/rsa_matrices/031_rsa_matrix.csv\n",
      "Processing subject 032 with files: ['/pl/active/banich/studies/wmem/fmri/subjects/rest_results/032/swaurestrun1.nii']\n",
      "Using a window size of 65 time points, which corresponds to 30.0 seconds.\n",
      "Number of windows: 11\n",
      "Saved RSA matrix for subject 032 to /pl/active/banich/studies/wmem/fmri/operation_rsa/grp/rest/rsa_matrices/032_rsa_matrix.csv\n",
      "Processing subject 033 with files: ['/pl/active/banich/studies/wmem/fmri/subjects/rest_results/033/swaurestrun1.nii']\n",
      "Using a window size of 65 time points, which corresponds to 30.0 seconds.\n",
      "Number of windows: 11\n",
      "Saved RSA matrix for subject 033 to /pl/active/banich/studies/wmem/fmri/operation_rsa/grp/rest/rsa_matrices/033_rsa_matrix.csv\n",
      "Processing subject 034 with files: ['/pl/active/banich/studies/wmem/fmri/subjects/rest_results/034/swaurestrun1.nii', '/pl/active/banich/studies/wmem/fmri/subjects/rest_results/034/swaurestrun2.nii']\n",
      "Using a window size of 65 time points, which corresponds to 30.0 seconds.\n",
      "Number of windows: 23\n",
      "Saved RSA matrix for subject 034 to /pl/active/banich/studies/wmem/fmri/operation_rsa/grp/rest/rsa_matrices/034_rsa_matrix.csv\n",
      "Processing subject 035 with files: ['/pl/active/banich/studies/wmem/fmri/subjects/rest_results/035/swaurestrun1.nii', '/pl/active/banich/studies/wmem/fmri/subjects/rest_results/035/swaurestrun2.nii']\n",
      "Using a window size of 65 time points, which corresponds to 30.0 seconds.\n",
      "Number of windows: 23\n",
      "Saved RSA matrix for subject 035 to /pl/active/banich/studies/wmem/fmri/operation_rsa/grp/rest/rsa_matrices/035_rsa_matrix.csv\n",
      "Processing subject 036 with files: ['/pl/active/banich/studies/wmem/fmri/subjects/rest_results/036/swaurestrun1.nii', '/pl/active/banich/studies/wmem/fmri/subjects/rest_results/036/swaurestrun2.nii']\n",
      "Using a window size of 65 time points, which corresponds to 30.0 seconds.\n",
      "Number of windows: 23\n",
      "Saved RSA matrix for subject 036 to /pl/active/banich/studies/wmem/fmri/operation_rsa/grp/rest/rsa_matrices/036_rsa_matrix.csv\n",
      "Processing subject 040 with files: ['/pl/active/banich/studies/wmem/fmri/subjects/rest_results/040/swaurestrun1.nii']\n",
      "Using a window size of 65 time points, which corresponds to 30.0 seconds.\n",
      "Number of windows: 11\n",
      "Saved RSA matrix for subject 040 to /pl/active/banich/studies/wmem/fmri/operation_rsa/grp/rest/rsa_matrices/040_rsa_matrix.csv\n",
      "Processing subject 042 with files: ['/pl/active/banich/studies/wmem/fmri/subjects/rest_results/042/swaurestrun1.nii', '/pl/active/banich/studies/wmem/fmri/subjects/rest_results/042/swaurestrun2.nii']\n",
      "Using a window size of 65 time points, which corresponds to 30.0 seconds.\n",
      "Number of windows: 16\n",
      "Saved RSA matrix for subject 042 to /pl/active/banich/studies/wmem/fmri/operation_rsa/grp/rest/rsa_matrices/042_rsa_matrix.csv\n",
      "Processing subject 044 with files: ['/pl/active/banich/studies/wmem/fmri/subjects/rest_results/044/swaurestrun1.nii']\n",
      "Using a window size of 65 time points, which corresponds to 30.0 seconds.\n",
      "Number of windows: 11\n",
      "Saved RSA matrix for subject 044 to /pl/active/banich/studies/wmem/fmri/operation_rsa/grp/rest/rsa_matrices/044_rsa_matrix.csv\n",
      "Processing subject 045 with files: ['/pl/active/banich/studies/wmem/fmri/subjects/rest_results/045/swaurestrun1.nii', '/pl/active/banich/studies/wmem/fmri/subjects/rest_results/045/swaurestrun2.nii']\n",
      "Using a window size of 65 time points, which corresponds to 30.0 seconds.\n",
      "Number of windows: 23\n",
      "Saved RSA matrix for subject 045 to /pl/active/banich/studies/wmem/fmri/operation_rsa/grp/rest/rsa_matrices/045_rsa_matrix.csv\n",
      "Processing subject 046 with files: ['/pl/active/banich/studies/wmem/fmri/subjects/rest_results/046/swaurestrun1.nii', '/pl/active/banich/studies/wmem/fmri/subjects/rest_results/046/swaurestrun2.nii']\n",
      "Using a window size of 65 time points, which corresponds to 30.0 seconds.\n",
      "Number of windows: 23\n",
      "Saved RSA matrix for subject 046 to /pl/active/banich/studies/wmem/fmri/operation_rsa/grp/rest/rsa_matrices/046_rsa_matrix.csv\n",
      "Processing subject 047 with files: ['/pl/active/banich/studies/wmem/fmri/subjects/rest_results/047/swaurestrun1.nii', '/pl/active/banich/studies/wmem/fmri/subjects/rest_results/047/swaurestrun2.nii']\n",
      "Using a window size of 65 time points, which corresponds to 30.0 seconds.\n",
      "Number of windows: 23\n",
      "Saved RSA matrix for subject 047 to /pl/active/banich/studies/wmem/fmri/operation_rsa/grp/rest/rsa_matrices/047_rsa_matrix.csv\n",
      "Processing subject 050 with files: ['/pl/active/banich/studies/wmem/fmri/subjects/rest_results/050/swaurestrun1.nii']\n",
      "Using a window size of 65 time points, which corresponds to 30.0 seconds.\n",
      "Number of windows: 11\n",
      "Saved RSA matrix for subject 050 to /pl/active/banich/studies/wmem/fmri/operation_rsa/grp/rest/rsa_matrices/050_rsa_matrix.csv\n",
      "Processing subject 052 with files: ['/pl/active/banich/studies/wmem/fmri/subjects/rest_results/052/swaurestrun1.nii', '/pl/active/banich/studies/wmem/fmri/subjects/rest_results/052/swaurestrun2.nii']\n",
      "Using a window size of 65 time points, which corresponds to 30.0 seconds.\n",
      "Number of windows: 23\n",
      "Saved RSA matrix for subject 052 to /pl/active/banich/studies/wmem/fmri/operation_rsa/grp/rest/rsa_matrices/052_rsa_matrix.csv\n",
      "Processing subject 053 with files: ['/pl/active/banich/studies/wmem/fmri/subjects/rest_results/053/swaurestrun1.nii', '/pl/active/banich/studies/wmem/fmri/subjects/rest_results/053/swaurestrun2.nii']\n",
      "Using a window size of 65 time points, which corresponds to 30.0 seconds.\n",
      "Number of windows: 23\n",
      "Saved RSA matrix for subject 053 to /pl/active/banich/studies/wmem/fmri/operation_rsa/grp/rest/rsa_matrices/053_rsa_matrix.csv\n",
      "Processing subject 054 with files: ['/pl/active/banich/studies/wmem/fmri/subjects/rest_results/054/swaurestrun1.nii', '/pl/active/banich/studies/wmem/fmri/subjects/rest_results/054/swaurestrun2.nii']\n",
      "Using a window size of 65 time points, which corresponds to 30.0 seconds.\n",
      "Number of windows: 23\n",
      "Saved RSA matrix for subject 054 to /pl/active/banich/studies/wmem/fmri/operation_rsa/grp/rest/rsa_matrices/054_rsa_matrix.csv\n",
      "Processing subject 055 with files: ['/pl/active/banich/studies/wmem/fmri/subjects/rest_results/055/swaurestrun1.nii', '/pl/active/banich/studies/wmem/fmri/subjects/rest_results/055/swaurestrun2.nii']\n",
      "Using a window size of 65 time points, which corresponds to 30.0 seconds.\n",
      "Number of windows: 23\n",
      "Saved RSA matrix for subject 055 to /pl/active/banich/studies/wmem/fmri/operation_rsa/grp/rest/rsa_matrices/055_rsa_matrix.csv\n",
      "Processing subject 057 with files: ['/pl/active/banich/studies/wmem/fmri/subjects/rest_results/057/swaurestrun1.nii', '/pl/active/banich/studies/wmem/fmri/subjects/rest_results/057/swaurestrun2.nii']\n",
      "Using a window size of 65 time points, which corresponds to 30.0 seconds.\n",
      "Number of windows: 23\n",
      "Saved RSA matrix for subject 057 to /pl/active/banich/studies/wmem/fmri/operation_rsa/grp/rest/rsa_matrices/057_rsa_matrix.csv\n",
      "Processing subject 059 with files: ['/pl/active/banich/studies/wmem/fmri/subjects/rest_results/059/swaurestrun1.nii', '/pl/active/banich/studies/wmem/fmri/subjects/rest_results/059/swaurestrun2.nii']\n",
      "Using a window size of 65 time points, which corresponds to 30.0 seconds.\n",
      "Number of windows: 23\n",
      "Saved RSA matrix for subject 059 to /pl/active/banich/studies/wmem/fmri/operation_rsa/grp/rest/rsa_matrices/059_rsa_matrix.csv\n",
      "Processing subject 061 with files: ['/pl/active/banich/studies/wmem/fmri/subjects/rest_results/061/swaurestrun1.nii', '/pl/active/banich/studies/wmem/fmri/subjects/rest_results/061/swaurestrun2.nii']\n",
      "Using a window size of 65 time points, which corresponds to 30.0 seconds.\n",
      "Number of windows: 23\n",
      "Saved RSA matrix for subject 061 to /pl/active/banich/studies/wmem/fmri/operation_rsa/grp/rest/rsa_matrices/061_rsa_matrix.csv\n",
      "Processing subject 062 with files: ['/pl/active/banich/studies/wmem/fmri/subjects/rest_results/062/swaurestrun1.nii', '/pl/active/banich/studies/wmem/fmri/subjects/rest_results/062/swaurestrun2.nii']\n",
      "Using a window size of 65 time points, which corresponds to 30.0 seconds.\n",
      "Number of windows: 23\n",
      "Saved RSA matrix for subject 062 to /pl/active/banich/studies/wmem/fmri/operation_rsa/grp/rest/rsa_matrices/062_rsa_matrix.csv\n",
      "Processing subject 063 with files: ['/pl/active/banich/studies/wmem/fmri/subjects/rest_results/063/swaurestrun1.nii']\n",
      "Using a window size of 65 time points, which corresponds to 30.0 seconds.\n",
      "Number of windows: 11\n",
      "Saved RSA matrix for subject 063 to /pl/active/banich/studies/wmem/fmri/operation_rsa/grp/rest/rsa_matrices/063_rsa_matrix.csv\n",
      "Processing subject 064 with files: ['/pl/active/banich/studies/wmem/fmri/subjects/rest_results/064/swaurestrun1.nii', '/pl/active/banich/studies/wmem/fmri/subjects/rest_results/064/swaurestrun2.nii']\n",
      "Using a window size of 65 time points, which corresponds to 30.0 seconds.\n",
      "Number of windows: 23\n",
      "Saved RSA matrix for subject 064 to /pl/active/banich/studies/wmem/fmri/operation_rsa/grp/rest/rsa_matrices/064_rsa_matrix.csv\n",
      "Processing subject 065 with files: ['/pl/active/banich/studies/wmem/fmri/subjects/rest_results/065/swaurestrun1.nii', '/pl/active/banich/studies/wmem/fmri/subjects/rest_results/065/swaurestrun2.nii']\n",
      "Using a window size of 65 time points, which corresponds to 30.0 seconds.\n",
      "Number of windows: 23\n",
      "Saved RSA matrix for subject 065 to /pl/active/banich/studies/wmem/fmri/operation_rsa/grp/rest/rsa_matrices/065_rsa_matrix.csv\n",
      "Processing subject 067 with files: ['/pl/active/banich/studies/wmem/fmri/subjects/rest_results/067/swaurestrun1.nii', '/pl/active/banich/studies/wmem/fmri/subjects/rest_results/067/swaurestrun2.nii']\n",
      "Using a window size of 65 time points, which corresponds to 30.0 seconds.\n",
      "Number of windows: 23\n",
      "Saved RSA matrix for subject 067 to /pl/active/banich/studies/wmem/fmri/operation_rsa/grp/rest/rsa_matrices/067_rsa_matrix.csv\n",
      "Processing subject 068 with files: ['/pl/active/banich/studies/wmem/fmri/subjects/rest_results/068/swaurestrun1.nii', '/pl/active/banich/studies/wmem/fmri/subjects/rest_results/068/swaurestrun2.nii']\n",
      "Using a window size of 65 time points, which corresponds to 30.0 seconds.\n",
      "Number of windows: 23\n",
      "Saved RSA matrix for subject 068 to /pl/active/banich/studies/wmem/fmri/operation_rsa/grp/rest/rsa_matrices/068_rsa_matrix.csv\n",
      "Processing subject 069 with files: ['/pl/active/banich/studies/wmem/fmri/subjects/rest_results/069/swaurestrun1.nii']\n",
      "Using a window size of 65 time points, which corresponds to 30.0 seconds.\n",
      "Number of windows: 11\n",
      "Saved RSA matrix for subject 069 to /pl/active/banich/studies/wmem/fmri/operation_rsa/grp/rest/rsa_matrices/069_rsa_matrix.csv\n",
      "Processing subject 072 with files: ['/pl/active/banich/studies/wmem/fmri/subjects/rest_results/072/swaurestrun1.nii', '/pl/active/banich/studies/wmem/fmri/subjects/rest_results/072/swaurestrun2.nii']\n",
      "Using a window size of 65 time points, which corresponds to 30.0 seconds.\n",
      "Number of windows: 23\n",
      "Saved RSA matrix for subject 072 to /pl/active/banich/studies/wmem/fmri/operation_rsa/grp/rest/rsa_matrices/072_rsa_matrix.csv\n",
      "Processing subject 075 with files: ['/pl/active/banich/studies/wmem/fmri/subjects/rest_results/075/swaurestrun1.nii']\n",
      "Using a window size of 65 time points, which corresponds to 30.0 seconds.\n",
      "Number of windows: 11\n",
      "Saved RSA matrix for subject 075 to /pl/active/banich/studies/wmem/fmri/operation_rsa/grp/rest/rsa_matrices/075_rsa_matrix.csv\n",
      "Processing subject 076 with files: ['/pl/active/banich/studies/wmem/fmri/subjects/rest_results/076/swaurestrun1.nii', '/pl/active/banich/studies/wmem/fmri/subjects/rest_results/076/swaurestrun2.nii']\n",
      "Using a window size of 65 time points, which corresponds to 30.0 seconds.\n",
      "Number of windows: 23\n",
      "Saved RSA matrix for subject 076 to /pl/active/banich/studies/wmem/fmri/operation_rsa/grp/rest/rsa_matrices/076_rsa_matrix.csv\n",
      "Processing subject 077 with files: ['/pl/active/banich/studies/wmem/fmri/subjects/rest_results/077/swaurestrun1.nii', '/pl/active/banich/studies/wmem/fmri/subjects/rest_results/077/swaurestrun2.nii']\n",
      "Using a window size of 65 time points, which corresponds to 30.0 seconds.\n",
      "Number of windows: 23\n",
      "Saved RSA matrix for subject 077 to /pl/active/banich/studies/wmem/fmri/operation_rsa/grp/rest/rsa_matrices/077_rsa_matrix.csv\n",
      "Processing subject 078 with files: ['/pl/active/banich/studies/wmem/fmri/subjects/rest_results/078/swaurestrun1.nii', '/pl/active/banich/studies/wmem/fmri/subjects/rest_results/078/swaurestrun2.nii']\n",
      "Using a window size of 65 time points, which corresponds to 30.0 seconds.\n",
      "Number of windows: 23\n",
      "Saved RSA matrix for subject 078 to /pl/active/banich/studies/wmem/fmri/operation_rsa/grp/rest/rsa_matrices/078_rsa_matrix.csv\n",
      "Processing subject 079 with files: ['/pl/active/banich/studies/wmem/fmri/subjects/rest_results/079/swaurestrun1.nii', '/pl/active/banich/studies/wmem/fmri/subjects/rest_results/079/swaurestrun2.nii']\n",
      "Using a window size of 65 time points, which corresponds to 30.0 seconds.\n",
      "Number of windows: 23\n",
      "Saved RSA matrix for subject 079 to /pl/active/banich/studies/wmem/fmri/operation_rsa/grp/rest/rsa_matrices/079_rsa_matrix.csv\n",
      "Processing subject 080 with files: ['/pl/active/banich/studies/wmem/fmri/subjects/rest_results/080/swaurestrun1.nii']\n",
      "Using a window size of 65 time points, which corresponds to 30.0 seconds.\n",
      "Number of windows: 11\n",
      "Saved RSA matrix for subject 080 to /pl/active/banich/studies/wmem/fmri/operation_rsa/grp/rest/rsa_matrices/080_rsa_matrix.csv\n",
      "Processing subject 081 with files: ['/pl/active/banich/studies/wmem/fmri/subjects/rest_results/081/swaurestrun1.nii', '/pl/active/banich/studies/wmem/fmri/subjects/rest_results/081/swaurestrun2.nii']\n",
      "Using a window size of 65 time points, which corresponds to 30.0 seconds.\n",
      "Number of windows: 23\n",
      "Saved RSA matrix for subject 081 to /pl/active/banich/studies/wmem/fmri/operation_rsa/grp/rest/rsa_matrices/081_rsa_matrix.csv\n",
      "Processing subject 082 with files: ['/pl/active/banich/studies/wmem/fmri/subjects/rest_results/082/swaurestrun1.nii', '/pl/active/banich/studies/wmem/fmri/subjects/rest_results/082/swaurestrun2.nii']\n",
      "Using a window size of 65 time points, which corresponds to 30.0 seconds.\n",
      "Number of windows: 23\n",
      "Saved RSA matrix for subject 082 to /pl/active/banich/studies/wmem/fmri/operation_rsa/grp/rest/rsa_matrices/082_rsa_matrix.csv\n",
      "Processing subject 083 with files: ['/pl/active/banich/studies/wmem/fmri/subjects/rest_results/083/swaurestrun1.nii', '/pl/active/banich/studies/wmem/fmri/subjects/rest_results/083/swaurestrun2.nii']\n",
      "Using a window size of 65 time points, which corresponds to 30.0 seconds.\n",
      "Number of windows: 23\n",
      "Saved RSA matrix for subject 083 to /pl/active/banich/studies/wmem/fmri/operation_rsa/grp/rest/rsa_matrices/083_rsa_matrix.csv\n",
      "Processing subject 084 with files: ['/pl/active/banich/studies/wmem/fmri/subjects/rest_results/084/swaurestrun1.nii']\n",
      "Using a window size of 65 time points, which corresponds to 30.0 seconds.\n",
      "Number of windows: 11\n",
      "Saved RSA matrix for subject 084 to /pl/active/banich/studies/wmem/fmri/operation_rsa/grp/rest/rsa_matrices/084_rsa_matrix.csv\n"
     ]
    }
   ],
   "source": [
    "import nibabel as nib\n",
    "import numpy as np\n",
    "from nilearn.input_data import NiftiLabelsMasker\n",
    "import pandas as pd\n",
    "import glob\n",
    "import os\n",
    "\n",
    "# Define file paths\n",
    "glasser_file = '/pl/active/banich/studies/wmem/fmri/operation_rsa/grp/glasser360MNI.nii.gz'\n",
    "subject_pattern_1 = '/pl/active/banich/studies/wmem/fmri/subjects/rest_results/*/swaurestrun1.nii'\n",
    "subject_pattern_2 = '/pl/active/banich/studies/wmem/fmri/subjects/rest_results/*/swaurestrun2.nii'\n",
    "output_folder = '/pl/active/banich/studies/wmem/fmri/operation_rsa/grp/rest/rsa_matrices'\n",
    "\n",
    "# TR value in seconds (replace with actual TR of your dataset)\n",
    "TR = 0.46  # Replace with the actual TR of your dataset\n",
    "\n",
    "# Load Glasser parcellation file\n",
    "glasser_img = nib.load(glasser_file)\n",
    "\n",
    "# Initialize NiftiLabelsMasker to extract time series from each parcel\n",
    "masker = NiftiLabelsMasker(labels_img=glasser_img, standardize=True)\n",
    "\n",
    "# Function to create windows from the combined resting-state files\n",
    "def create_combined_windows(resting_files, masker, target_window_duration):\n",
    "    combined_time_series = []\n",
    "    for file in resting_files:\n",
    "        rest_img = nib.load(file)\n",
    "        time_series = masker.fit_transform(rest_img)\n",
    "        combined_time_series.append(time_series)\n",
    "    \n",
    "    combined_time_series = np.vstack(combined_time_series)\n",
    "    n_timepoints = combined_time_series.shape[0]\n",
    "\n",
    "    # Calculate the number of windows based on the target window duration\n",
    "    window_size = int(target_window_duration / TR)\n",
    "    n_windows = n_timepoints // window_size\n",
    "\n",
    "    print(f'Using a window size of {window_size} time points, which corresponds to {target_window_duration} seconds.')\n",
    "    print(f'Number of windows: {n_windows}')\n",
    "\n",
    "    windows = [combined_time_series[i * window_size:(i + 1) * window_size, :] for i in range(n_windows)]\n",
    "    \n",
    "    return windows\n",
    "\n",
    "# Function to compute the correlation matrices for each parcel\n",
    "def compute_correlation_matrices(windows):\n",
    "    n_parcels = windows[0].shape[1]\n",
    "    correlation_matrices = []\n",
    "    for parcel in range(n_parcels):\n",
    "        parcel_activations = [window[:, parcel] for window in windows]\n",
    "        corr_matrix = np.corrcoef(parcel_activations)\n",
    "        correlation_matrices.append(corr_matrix)\n",
    "    return correlation_matrices\n",
    "\n",
    "# Function to extract and return the lower half of the diagonal of a correlation matrix as a list of tuples\n",
    "def extract_lower_triangle_as_tuples(correlation_matrix):\n",
    "    lower_triangle_indices = np.tril_indices_from(correlation_matrix, k=-1)\n",
    "    lower_triangle_values = correlation_matrix[lower_triangle_indices]\n",
    "    return lower_triangle_values\n",
    "\n",
    "# Main function to process all subjects and save RSA matrices\n",
    "def process_all_subjects(subject_pattern_1, subject_pattern_2, masker, output_folder, target_window_duration):\n",
    "    subject_files_1 = sorted(glob.glob(subject_pattern_1))\n",
    "    subject_files_2 = sorted(glob.glob(subject_pattern_2))\n",
    "\n",
    "    # Create a dictionary to handle cases where subjects only have one rest file\n",
    "    subject_files_dict = {}\n",
    "\n",
    "    for file in subject_files_1:\n",
    "        subject_id = os.path.basename(os.path.dirname(file))\n",
    "        subject_files_dict[subject_id] = [file]\n",
    "    \n",
    "    for file in subject_files_2:\n",
    "        subject_id = os.path.basename(os.path.dirname(file))\n",
    "        if subject_id in subject_files_dict:\n",
    "            subject_files_dict[subject_id].append(file)\n",
    "        else:\n",
    "            subject_files_dict[subject_id] = [file]\n",
    "\n",
    "    if not os.path.exists(output_folder):\n",
    "        os.makedirs(output_folder)\n",
    "\n",
    "    for subject_id, resting_state_files in subject_files_dict.items():\n",
    "        print(f\"Processing subject {subject_id} with files: {resting_state_files}\")\n",
    "        \n",
    "        # Create windows from the combined resting-state data\n",
    "        windows = create_combined_windows(resting_state_files, masker, target_window_duration)\n",
    "\n",
    "        # Compute the correlation matrices for each parcel\n",
    "        correlation_matrices = compute_correlation_matrices(windows)\n",
    "\n",
    "        # Extract lower triangle correlations for each parcel\n",
    "        parc_cors = []\n",
    "        for matrix in correlation_matrices:\n",
    "            parc_cors.append(extract_lower_triangle_as_tuples(matrix))\n",
    "        \n",
    "        # Create a DataFrame for the current subject's RDM\n",
    "        subject_rdm = pd.DataFrame(parc_cors).T.corr()\n",
    "        \n",
    "        # Save the RSA matrix to the output folder\n",
    "        output_file = os.path.join(output_folder, f'{subject_id}_rsa_matrix.csv')\n",
    "        subject_rdm.to_csv(output_file)\n",
    "        print(f\"Saved RSA matrix for subject {subject_id} to {output_file}\")\n",
    "\n",
    "# Set the target window duration in seconds\n",
    "target_window_duration = 30.0  # Adjust this value as needed for your analysis\n",
    "\n",
    "# Run the process for all subjects and save the matrices\n",
    "process_all_subjects(subject_pattern_1, subject_pattern_2, masker, output_folder, target_window_duration)\n"
   ]
  },
  {
   "cell_type": "code",
   "execution_count": 17,
   "metadata": {},
   "outputs": [],
   "source": [
    "import sys\n",
    "# adding Folder_2 to the system path\n",
    "sys.path.insert(0, '/pl/active/banich/studies/wmem/fmri/operation_rsa/grp/leiden/analysis/')\n",
    "from clearmem_my_functions import *\n",
    "\n",
    "import sys\n",
    "sys.path.append('/home/jade6100/.local/lib/python3.7/site-packages')\n",
    "import scikit_posthocs as sp\n",
    "import itertools\n",
    "\n",
    "import statsmodels.api as sm\n",
    "from statsmodels.formula.api import ols\n",
    "from scipy import stats\n",
    "\n",
    "import warnings\n",
    "import sys \n",
    "if not sys.warnoptions:\n",
    "    warnings.simplefilter(\"ignore\")\n",
    "import os\n",
    "import numpy as np\n",
    "import pandas as pd\n",
    "import scipy.io\n",
    "from scipy import stats\n",
    "from sklearn.manifold import MDS\n",
    "import scipy.spatial.distance as sp_distance\n",
    "import matplotlib.pyplot as plt\n",
    "import seaborn as sns \n",
    "from mpl_toolkits.mplot3d import Axes3D\n",
    "from matplotlib import animation\n",
    "\n",
    "#import statsmodels.api as sm\n",
    "#from statsmodels.formula.api import ols\n",
    "#from scipy import stats\n",
    "#import scikit_posthocs as sp\n",
    "\n",
    "import numpy as np\n",
    "import matplotlib.pyplot as plt\n",
    "from mpl_toolkits.mplot3d import Axes3D\n",
    "from sklearn import manifold\n",
    "\n",
    "def getF(data, var, group):\n",
    "    data[var] = data[var].astype('float')\n",
    "    model = ols(var + '~ C('+group+')', data=data).fit()\n",
    "    anova_table = np.array(sm.stats.anova_lm(model, type=2)[['F', 'PR(>F)']])[0]\n",
    "    return anova_table.round(4)\n",
    "\n",
    "def getposthoc(data, var, group):\n",
    "    data[var] = data[var].astype('float')\n",
    "    model = ols(var + '~ C('+group+')', data=data).fit()\n",
    "    post_hoc = sp.posthoc_ttest(data, val_col=var, group_col=group,\n",
    "                                p_adjust='fdr_bh').sort_index().sort_index(axis = 1)\n",
    "    post_hoc.columns = list(range(1, len(uni(data[group]))+1))\n",
    "    return post_hoc\n",
    "\n",
    "def vsim(data, parcel=None):\n",
    "    \n",
    "    if parcel is None:\n",
    "        parcel_row = pd.DataFrame(np.flip(np.array(data.T))).T\n",
    "        \n",
    "    else:\n",
    "        parcel_row = pd.DataFrame(np.flip(np.array(data.iloc[[parcel]].T))).T\n",
    "    a = np.array(parcel_row.T.iloc[:, 0: 1]).squeeze()\n",
    "    n = int(np.sqrt(len(a)*2))+1\n",
    "    mask = np.tri(n,dtype=bool, k=-1) # or np.arange(n)[:,None] > np.arange(n)\n",
    "    out = np.zeros((n,n))\n",
    "    out[mask] = a\n",
    "    out = out + out.T - np.diag(np.diag(out))\n",
    "    out[np.diag_indices_from(out)]\n",
    "    sim_mat = pd.DataFrame(np.flip(out))\n",
    "  \n",
    "\n",
    "    return(sim_mat)\n",
    "    \n",
    "def grad_centroid_vsim(data, grad): \n",
    "    new_row_cluster = data[data['grad'] == grad]\n",
    "    new_row_cluster = new_row_cluster.drop(['grad'], axis=1)\n",
    "    clust_centroid = pd.DataFrame(new_row_cluster.mean(), columns = ['Mean']).T\n",
    "    \n",
    "    sim_mat = vsim(clust_centroid)\n",
    "    \n",
    "    return(sim_mat)\n",
    "\n",
    "\n",
    "def threshold_proportional(W,p,copy=True):\n",
    "\n",
    "    if p>1 or p<0:\n",
    "        raise BCTParamError('Threshold must be in range [0,1]')\n",
    "    if copy: W=W.copy()\n",
    "    n=len(W)\t\t\t\t\t\t# number of nodes\n",
    "    np.fill_diagonal(W, 0)\t\t\t# clear diagonal\n",
    "\n",
    "    if np.all(W==W.T):\t\t\t\t# if symmetric matrix\n",
    "        W[np.tril_indices(n)]=0\t\t# ensure symmetry is preserved\n",
    "        ud=2\t\t\t\t\t\t# halve number of removed links\n",
    "    else:\n",
    "        ud=1\n",
    "\n",
    "    ind=np.where(W)\t\t\t\t\t# find all links\n",
    "\n",
    "    I=np.argsort(W[ind])[::-1]\t\t# sort indices by magnitude\n",
    "\n",
    "    en=int(round((n*n-n)*p/ud))\t\t# number of links to be preserved\n",
    "\n",
    "    W[(ind[0][I][en:],ind[1][I][en:])]=0\t# apply threshold\n",
    "    #W[np.ix_(ind[0][I][en:], ind[1][I][en:])]=0\n",
    "\n",
    "    if ud==2:\t\t\t\t\t\t# if symmetric matrix\n",
    "        W[:,:]=W+W.T\t\t\t\t\t\t# reconstruct symmetry\n",
    "\n",
    "    return W\n",
    "\n",
    "\n",
    "import plotly.graph_objs as go\n",
    "from plotly.subplots import make_subplots\n",
    "import itertools\n",
    "\n",
    "def plot_3Dfigure(newX, colors, title='', net=None, filepath=None):\n",
    "    fig = plt.figure()\n",
    "    \n",
    "    if net is not None:\n",
    "        data = go.Scatter3d(x=newX[:,0], y=newX[:,1], z=newX[:,2], \n",
    "                            mode='markers',\n",
    "                            marker=dict(size=5,\n",
    "                                        #color=newX[:,1],\n",
    "                                        color=colors,\n",
    "                                        opacity=0.7,\n",
    "                                        colorscale=colors)\n",
    "                           )\n",
    "    else:\n",
    "        data = go.Scatter3d(x=newX[:,0], y=newX[:,1], z=newX[:,2], \n",
    "                            mode='markers',\n",
    "                            marker=dict(size=5,\n",
    "                                        color=newX[:,1],\n",
    "                                        opacity=0.7,\n",
    "                                        colorscale='jet')\n",
    "                           )\n",
    "    \n",
    "    layout = go.Layout(title_text=title,title_x=0.5,title_y=0.8,title_font_size=12)\n",
    "    fig = go.Figure(data=[data], layout=layout)\n",
    "    fig.update_layout(showlegend=False)\n",
    "    fig.update_xaxes(showticklabels=False)\n",
    "    fig.update_yaxes(showticklabels=False)\n",
    "    fig.update_layout(scene = dict(\n",
    "                    xaxis = dict(title= '', ticks= '', showticklabels= False,),\n",
    "                    yaxis = dict(title= '', ticks= '', showticklabels= False,),\n",
    "                    zaxis = dict(title= '', ticks= '', showticklabels= False,),\n",
    "                    ))\n",
    "    fig.update_layout(margin=dict(l=0, r=0, b=0, t=0))\n",
    "    #fig.show()\n",
    "    \n",
    "    if filepath is not None:\n",
    "        fig.write_html(filepath+'3d_grads.html')\n",
    "        \n",
    "\n",
    "from pylab import *\n",
    "\n",
    "def get_color_maps(cmap, n, nrep):\n",
    "    from PIL import Image, ImageColor\n",
    "\n",
    "    cmap = cm.get_cmap(cmap, n)    # PiYG\n",
    "    converted_list = []\n",
    "    for i in range(cmap.N):\n",
    "        rgba = cmap(i)\n",
    "        # rgb2hex accepts rgb or rgba\n",
    "        hexc = matplotlib.colors.rgb2hex(rgba)\n",
    "        codes = ImageColor.getcolor(str(hexc), \"RGB\")\n",
    "\n",
    "        c1 = list(itertools.repeat(int(codes[0])/255, nrep))\n",
    "        c2 = list(itertools.repeat(int(codes[1])/255, nrep))\n",
    "        c3 = list(itertools.repeat(int(codes[2])/255, nrep))\n",
    "        \n",
    "        converted = pd.concat([pd.DataFrame(c1), pd.DataFrame(c2), pd.DataFrame(c3)], axis = 1)\n",
    "        converted.columns = ['r', 'g', 'b']\n",
    "        converted_list.append(converted)\n",
    "        \n",
    "    final = pd.concat(converted_list).reset_index(drop=True)\n",
    "    final['index_new'] = list(range(0,final.shape[0]))\n",
    "    \n",
    "    return final\n",
    "\n",
    "def show_grads(data):\n",
    "    import nibabel as nib\n",
    "    import nilearn.plotting as plotting\n",
    "    import numpy as np\n",
    "    import matplotlib.pyplot as plt\n",
    "    get_ipython().run_line_magic('matplotlib', 'inline')\n",
    "    import pandas as pd\n",
    "    import hcp_utils as hcp\n",
    "\n",
    "    def listToDict(lstA, lstB):\n",
    "        zipped = zip(lstA, lstB)\n",
    "        op = dict(zipped)\n",
    "        return op\n",
    "\n",
    "    def uni(list1):\n",
    "        unique_list = []\n",
    "        # traverse for all elements\n",
    "        for x in list1:\n",
    "            # check if exists in unique_list or not\n",
    "            if x not in unique_list:\n",
    "                unique_list.append(x)\n",
    "\n",
    "        return(unique_list)\n",
    "\n",
    "    glasser = pd.read_csv('/pl/active/banich/studies/wmem/fmri/operation_rsa/grp/leiden/analysis/glasser_regions/spearman_subtype_glasser_regions.csv').drop('regionID', axis =1).rename({'Unnamed: 0':'regionID'}, axis = 1)\n",
    "    glasser['regionID'] = glasser['regionID'] + 1\n",
    "    \n",
    "    mesh_path = '/pl/active/banich/studies/wmem/fmri/operation_rsa/grp/leiden/hcp-utils/hcp_utils/data/'\n",
    "    mesh_sub = hcp.load_surfaces(example_filename=mesh_path+'S1200.R.pial_MSMAll.32k_fs_LR.surf.gii')\n",
    "    \n",
    "    regs = data \n",
    "    regs['regionID'] = regs['index'] + 1\n",
    "    regs = pd.merge(regs, glasser, on = 'regionID')\n",
    "    regs = regs[['regionID', 'Subtype_x', 'grad', 'regionName', 'regionLongName', 'Lobe', 'cortex', 'r', 'g', 'b']]\n",
    "  \n",
    "    maps_df = pd.DataFrame(hcp.mmp.rgba).T\n",
    "    maps_df = maps_df.reset_index().rename({'index':'regionID'}, axis = 1)\n",
    "    maps_df['regionID'] = maps_df['regionID'] +1\n",
    "    maps_df = pd.DataFrame(hcp.mmp.rgba).T\n",
    "    maps_df = maps_df.reset_index().rename({'index':'regionID'}, axis = 1)\n",
    "    maps_df['regionID'] = maps_df['regionID'] +1\n",
    "\n",
    "    new_maps_df = pd.merge(regs, maps_df, on = \"regionID\").sort_values('regionID')\n",
    "    new_maps_df[0] = new_maps_df['r']\n",
    "    new_maps_df[1] = new_maps_df['g']\n",
    "    new_maps_df[2] = new_maps_df['b']\n",
    "    new_maps_df = new_maps_df[[0, 1,2,3]]\n",
    "\n",
    "    first = pd.DataFrame(np.array([0, 0, 0, 0])).T\n",
    "    more = pd.concat([pd.DataFrame(np.zeros(20)), pd.DataFrame(np.zeros(20)), pd.DataFrame(np.zeros(20)), pd.DataFrame(np.zeros(20))], axis= 1)\n",
    "    more.columns = [0,1,2,3]\n",
    "\n",
    "    new_maps_df = pd.concat([first, new_maps_df, more])\n",
    "\n",
    "    map_l = []\n",
    "    out_l = []\n",
    "    for i in range(0, len(new_maps_df)):\n",
    "        map_l.append(i)\n",
    "        out_l.append(np.array(new_maps_df.iloc[i:i+1])[0])\n",
    "\n",
    "    hcp.mmp.rgba = listToDict(map_l, out_l)\n",
    "\n",
    "    return hcp.view_parcellation(mesh_sub.inflated, hcp.mmp)\n",
    "\n",
    "def get_colors(cmap, n):\n",
    "        from PIL import Image, ImageColor\n",
    "\n",
    "        cmap = cm.get_cmap(cmap, n)    # PiYG\n",
    "        converted_list = []\n",
    "        for i in range(cmap.N):\n",
    "            rgba = cmap(i)\n",
    "            # rgb2hex accepts rgb or rgba\n",
    "            hexc = matplotlib.colors.rgb2hex(rgba)\n",
    "            converted_list.append(hexc)\n",
    "\n",
    "        return converted_list\n",
    "    \n",
    "    \n",
    "def show_code(function):  \n",
    "    import inspect\n",
    "    lines = inspect.getsource(function)\n",
    "    print(lines)\n",
    "    \n",
    "jets = get_colors('jet_r', 20)\n",
    "\n",
    "\n",
    "net_cols = ['#FCFF0D', '#21DFB4', '#4E00A2', '#F00087']\n",
    "ops_cols = ['#F0180A', '#F08B0A', '#6DAE45', '#0A5AF0']\n",
    "\n",
    "\n",
    "def reduce_memory_usage(df, verbose=False):\n",
    "    numerics = [\"int8\", \"int16\", \"int32\", \"int64\", \"float16\", \"float32\", \"float64\"]\n",
    "    start_mem = df.memory_usage().sum() / 1024 ** 2\n",
    "    for col in df.columns:\n",
    "        col_type = df[col].dtypes\n",
    "        if col_type in numerics:\n",
    "            c_min = df[col].min()\n",
    "            c_max = df[col].max()\n",
    "            if str(col_type)[:3] == \"int\":\n",
    "                if c_min > np.iinfo(np.int8).min and c_max < np.iinfo(np.int8).max:\n",
    "                    df[col] = df[col].astype(np.int8)\n",
    "                elif c_min > np.iinfo(np.int16).min and c_max < np.iinfo(np.int16).max:\n",
    "                    df[col] = df[col].astype(np.int16)\n",
    "                elif c_min > np.iinfo(np.int32).min and c_max < np.iinfo(np.int32).max:\n",
    "                    df[col] = df[col].astype(np.int32)\n",
    "                elif c_min > np.iinfo(np.int64).min and c_max < np.iinfo(np.int64).max:\n",
    "                    df[col] = df[col].astype(np.int64)\n",
    "            else:\n",
    "                if (\n",
    "                    c_min > np.finfo(np.float16).min\n",
    "                    and c_max < np.finfo(np.float16).max\n",
    "                ):\n",
    "                    df[col] = df[col].astype(np.float16)\n",
    "                elif (\n",
    "                    c_min > np.finfo(np.float32).min\n",
    "                    and c_max < np.finfo(np.float32).max\n",
    "                ):\n",
    "                    df[col] = df[col].astype(np.float32)\n",
    "                else:\n",
    "                    df[col] = df[col].astype(np.float64)\n",
    "    end_mem = df.memory_usage().sum() / 1024 ** 2\n",
    "    if verbose:\n",
    "        print(\n",
    "            \"Mem. usage decreased to {:.2f} Mb ({:.1f}% reduction)\".format(\n",
    "                end_mem, 100 * (start_mem - end_mem) / start_mem\n",
    "            )\n",
    "        )\n",
    "    return df"
   ]
  },
  {
   "cell_type": "code",
   "execution_count": 18,
   "metadata": {},
   "outputs": [],
   "source": [
    "import os\n",
    "import pandas as pd\n",
    "import numpy as np\n",
    "\n",
    "# Define the directory containing the RSA matrices\n",
    "rsa_matrices_dir = '/pl/active/banich/studies/wmem/fmri/operation_rsa/grp/rest/rsa_matrices'\n",
    "\n",
    "# Function to read all RSA matrices into a list\n",
    "def load_rsa_matrices(directory):\n",
    "    rsa_matrices = []\n",
    "    for file in sorted(os.listdir(directory)):\n",
    "        if file.endswith('.csv'):\n",
    "            file_path = os.path.join(directory, file)\n",
    "            rsa_matrix = pd.read_csv(file_path, index_col=0)\n",
    "            rsa_matrices.append(rsa_matrix.values)\n",
    "    return rsa_matrices\n",
    "\n",
    "# Function to compute the average group matrix from a list of RSA matrices\n",
    "def compute_group_average_matrix(rsa_matrices):\n",
    "    # Stack matrices along a new dimension and then compute the mean across that dimension\n",
    "    group_average_matrix = np.mean(np.stack(rsa_matrices, axis=0), axis=0)\n",
    "    return group_average_matrix\n",
    "\n",
    "# Load all RSA matrices\n",
    "rsa_matrices = load_rsa_matrices(rsa_matrices_dir)\n",
    "\n",
    "# Compute the averaged group matrix\n",
    "group_average_matrix = compute_group_average_matrix(rsa_matrices)\n",
    "\n",
    "# Optionally: Convert the average matrix to a DataFrame for easier handling\n",
    "group_average_df = pd.DataFrame(group_average_matrix)\n",
    "\n",
    "# Optionally: Save the averaged group matrix to a CSV file\n",
    "#group_average_df.to_csv(os.path.join(rsa_matrices_dir, 'group_average_rsa_matrix.csv'))\n"
   ]
  },
  {
   "cell_type": "code",
   "execution_count": 19,
   "metadata": {},
   "outputs": [],
   "source": [
    "def create_func_mat(data):\n",
    "    \n",
    "    from sklearn.preprocessing import MinMaxScaler\n",
    "    \n",
    "    X = np.array(data)\n",
    "    \n",
    "    #X_Z = (X - np.mean(X, axis=0, keepdims=True)) / np.std(X, axis=0, dtype=np.float64, ddof=1, keepdims=True)\n",
    "    #D, rho = spearmanr(np.array(X_Z), axis=1)\n",
    "    D = X\n",
    "    perc = np.array([np.percentile(x, 90) for x in D])\n",
    "\n",
    "    for i in range(D.shape[0]):\n",
    "        D[i, D[i,:] < perc[i]] = 0    \n",
    "    \n",
    "    D[D < 0] = 0\n",
    "    D = 1 - pairwise_distances(D, metric = 'cosine')\n",
    "    #scaler = MinMaxScaler(feature_range=(.5,1))\n",
    "    #D = scaler.fit_transform(D)\n",
    "    \n",
    "    D = pd.DataFrame(D)\n",
    "    # D = aff\n",
    "    \n",
    "    return(D)"
   ]
  },
  {
   "cell_type": "code",
   "execution_count": 20,
   "metadata": {},
   "outputs": [],
   "source": [
    "group_func_mat = create_func_mat(group_average_df)\n",
    "group_func_mat.columns = range(1,361)\n",
    "group_func_mat.index = range(1,361)"
   ]
  },
  {
   "cell_type": "code",
   "execution_count": 21,
   "metadata": {},
   "outputs": [
    {
     "data": {
      "text/plain": [
       "<AxesSubplot:>"
      ]
     },
     "execution_count": 21,
     "metadata": {},
     "output_type": "execute_result"
    },
    {
     "data": {
      "image/png": "[encoded data removed]",
      "text/plain": [
       "<Figure size 640x480 with 2 Axes>"
      ]
     },
     "metadata": {},
     "output_type": "display_data"
    }
   ],
   "source": [
    "sns.heatmap(group_func_mat, center=0, cmap='bwr')"
   ]
  },
  {
   "cell_type": "code",
   "execution_count": 22,
   "metadata": {},
   "outputs": [
    {
     "data": {
      "image/png": "[encoded data removed]",
      "text/plain": [
       "<Figure size 500x400 with 1 Axes>"
      ]
     },
     "metadata": {},
     "output_type": "display_data"
    },
    {
     "data": {
      "image/png": "[encoded data removed]",
      "text/plain": [
       "<Figure size 500x400 with 1 Axes>"
      ]
     },
     "metadata": {},
     "output_type": "display_data"
    }
   ],
   "source": [
    "def group_grads(func_mat):\n",
    "    from brainspace.gradient import GradientMaps\n",
    "    from brainspace.plotting import plot_hemispheres\n",
    "    from brainspace.utils.parcellation import map_to_labels\n",
    "    import pandas as pd\n",
    "    import numpy as np\n",
    "    import matplotlib.pyplot as plt\n",
    "\n",
    "    from brainspace.null_models import SurrogateMaps\n",
    "    import seaborn as sns\n",
    "\n",
    "    gj = GradientMaps(approach='dm', random_state=0, \n",
    "                      kernel='normalized_angle',\n",
    "                      #n_components=3\n",
    "                     )\n",
    "    gj_out = gj.fit(np.array(group_func_mat))\n",
    "\n",
    "  \n",
    "\n",
    "    #for i in range(1):\n",
    "    sns.set_context(\"paper\", font_scale = 2)\n",
    "\n",
    "    fig, ax = plt.subplots(1, figsize=(5, 4))\n",
    "    ax.scatter(range(gj_out.lambdas_.size), gj_out.lambdas_)\n",
    "    ax.set_xlabel('Component')\n",
    "    ax.set_ylabel('Eigenvalue')\n",
    "    fig.tight_layout()\n",
    "    #fig.savefig('/pl/active/banich/studies/wmem/fmri/operation_rsa/grp/rest/rest_gradients/grp/eigen_components.png')\n",
    "\n",
    "    fig, ax = plt.subplots(1, figsize=(5, 4))\n",
    "    variance = gj_out.lambdas_\n",
    "    ax.scatter(range(1,11), variance/variance.sum())\n",
    "    start, end = ax.get_ylim()\n",
    "    ax.yaxis.set_ticks(np.arange(start, end+.05, 0.05))\n",
    "    ax.set_xlabel('Component')\n",
    "    ax.set_ylabel('variance %')\n",
    "    variance/variance.sum()\n",
    "    fig.tight_layout()\n",
    "    #fig.savefig('/pl/active/banich/studies/wmem/fmri/operation_rsa/grp/rest/rest_gradients/grp/variance_explained.png')\n",
    "\n",
    "    \n",
    "    newX = pd.DataFrame(gj_out.gradients_[:, :3], columns=['g1', 'g2', 'g3'])\n",
    "\n",
    "    return newX\n",
    "\n",
    "group_grad_df = group_grads(group_func_mat)\n",
    "#group_grad_df.to_csv('/pl/active/banich/studies/wmem/fmri/operation_rsa/grp/rest/rest_gradients/grp/rest_group_grads.csv', index=False)"
   ]
  },
  {
   "cell_type": "code",
   "execution_count": 23,
   "metadata": {},
   "outputs": [],
   "source": [
    "wm_networks = pd.read_csv('/pl/active/banich/studies/wmem/fmri/operation_rsa/grp/rest/rest_gradients/wm_networks.csv')\n",
    "wm_networks = wm_networks.reset_index()\n",
    "wm_networks[['parcel_id']] = wm_networks[['index']] + 1\n",
    "wm_networks = wm_networks[['parcel_id', 'Subtype']]\n",
    "net_cols = ['#FCFF0D', '#21DFB4', '#4E00A2', '#F00087']\n",
    "\n",
    "colors = wm_networks.Subtype.map({1:net_cols[0], 2:net_cols[1], 3:net_cols[2], 4:net_cols[3]})\n",
    "colors_parcels = colors.reset_index()\n",
    "colors_parcels[['parcel_id']] = colors_parcels[['index']] + 1\n",
    "colors_parcels = colors_parcels[['parcel_id', 'Subtype']]"
   ]
  },
  {
   "cell_type": "code",
   "execution_count": 24,
   "metadata": {},
   "outputs": [],
   "source": [
    "colors_parcels = colors.reset_index()\n",
    "colors_parcels[['parcel_id']] = colors_parcels[['index']] + 1\n",
    "colors_parcels = colors_parcels[['parcel_id', 'Subtype']]"
   ]
  },
  {
   "cell_type": "code",
   "execution_count": 25,
   "metadata": {},
   "outputs": [
    {
     "data": {
      "image/png": "[encoded data removed]",
      "text/plain": [
       "<Figure size 1600x800 with 2 Axes>"
      ]
     },
     "metadata": {},
     "output_type": "display_data"
    }
   ],
   "source": [
    "import numpy as np\n",
    "import pandas as pd\n",
    "import matplotlib.pyplot as plt\n",
    "from mpl_toolkits.mplot3d import Axes3D\n",
    "\n",
    "# Setting up the figure for side-by-side plots with white background\n",
    "fig = plt.figure(figsize=(16, 8), facecolor='white')  # Reducing overall width and setting figure background to white\n",
    "\n",
    "# Adjusting the 2D Scatter plot on the left\n",
    "ax1 = fig.add_subplot(121, aspect=1.5, facecolor='#F2F2F2')  # Making plot background white\n",
    "ax1.scatter(group_grad_df['g1'], group_grad_df['g2']*-1, color=colors, s=30)\n",
    "ax1.set_xlabel('gradient 1')\n",
    "ax1.set_ylabel('gradient 2')\n",
    "ax1.set_title('Rest Gradients')\n",
    "\n",
    "# Keeping the 3D Scatter plot on the right the same, with background adjustments\n",
    "ax2 = fig.add_subplot(122, projection='3d', facecolor='white')  # Making plot background white\n",
    "ax2.scatter(group_grad_df['g1'], group_grad_df['g3']*-1, group_grad_df['g2']*-1, color=colors, s=30)\n",
    "#ax2.set_xlabel('gradient 1')\n",
    "#ax2.set_ylabel('gradient 2')\n",
    "#ax2.set_zlabel('gradient 3')\n",
    "ax2.set_title('Rest Group Gradients')\n",
    "ax2.view_init(elev=20, azim=45)\n",
    "\n",
    "plt.subplots_adjust(wspace=0.2)  # Reducing the space between subplots\n",
    "\n",
    "fig.savefig('/pl/active/banich/studies/wmem/fmri/operation_rsa/grp/rest/rest_rsa_gradients/grp/network_gradients.png')\n",
    "\n",
    "    \n",
    "plt.show()"
   ]
  },
  {
   "cell_type": "code",
   "execution_count": 134,
   "metadata": {},
   "outputs": [
    {
     "data": {
      "image/png": "[encoded data removed]",
      "text/plain": [
       "<Figure size 500x400 with 1 Axes>"
      ]
     },
     "metadata": {},
     "output_type": "display_data"
    },
    {
     "data": {
      "image/png": "[encoded data removed]",
      "text/plain": [
       "<Figure size 500x400 with 1 Axes>"
      ]
     },
     "metadata": {},
     "output_type": "display_data"
    }
   ],
   "source": [
    "def group_grads(func_mat):\n",
    "    from brainspace.gradient import GradientMaps\n",
    "    from brainspace.plotting import plot_hemispheres\n",
    "    from brainspace.utils.parcellation import map_to_labels\n",
    "    import pandas as pd\n",
    "    import numpy as np\n",
    "    import matplotlib.pyplot as plt\n",
    "\n",
    "    from brainspace.null_models import SurrogateMaps\n",
    "    import seaborn as sns\n",
    "\n",
    "    gj = GradientMaps(approach='dm', random_state=0, \n",
    "                      kernel='normalized_angle',\n",
    "                      #n_components=3\n",
    "                     )\n",
    "    gj_out = gj.fit(np.array(group_func_mat))\n",
    "\n",
    "  \n",
    "\n",
    "    #for i in range(1):\n",
    "    sns.set_context(\"paper\", font_scale = 2)\n",
    "\n",
    "    fig, ax = plt.subplots(1, figsize=(5, 4))\n",
    "    ax.scatter(range(gj_out.lambdas_.size), gj_out.lambdas_)\n",
    "    ax.set_xlabel('Component')\n",
    "    ax.set_ylabel('Eigenvalue')\n",
    "    fig.tight_layout()\n",
    "    fig.savefig('/pl/active/banich/studies/wmem/fmri/operation_rsa/grp/rest/rest_rsa_gradients/grp/eigen_components.png')\n",
    "\n",
    "    fig, ax = plt.subplots(1, figsize=(5, 4))\n",
    "    variance = gj_out.lambdas_\n",
    "    ax.scatter(range(1,11), variance/variance.sum())\n",
    "    start, end = ax.get_ylim()\n",
    "    ax.yaxis.set_ticks(np.arange(start, end+.05, 0.05))\n",
    "    ax.set_xlabel('Component')\n",
    "    ax.set_ylabel('variance %')\n",
    "    variance/variance.sum()\n",
    "    fig.tight_layout()\n",
    "    fig.savefig('/pl/active/banich/studies/wmem/fmri/operation_rsa/grp/rest/rest_rsa_gradients/grp/variance_explained.png')\n",
    "\n",
    "    \n",
    "    newX = pd.DataFrame(gj_out.gradients_[:, :3], columns=['g1', 'g2', 'g3'])\n",
    "\n",
    "    return newX\n",
    "\n",
    "group_grad_df = group_grads(group_func_mat)\n",
    "group_grad_df.to_csv('/pl/active/banich/studies/wmem/fmri/operation_rsa/grp/rest/rest_gradients/grp/rest_rsa_group_grads.csv', index=False)"
   ]
  },
  {
   "cell_type": "code",
   "execution_count": 135,
   "metadata": {},
   "outputs": [],
   "source": [
    "def get_new_mats(data, parcel_index, gfm):\n",
    "    \n",
    "    sfm = pd.DataFrame(create_func_mat(data))\n",
    "    sfm.columns = parcel_index\n",
    "    sfm.index = parcel_index\n",
    "    smf_cols = list(pd.DataFrame(sfm).columns)\n",
    "\n",
    "    not_in_list = [x for x in list(range(1,361)) if x not in smf_cols]\n",
    "    \n",
    "    sfm_copy = sfm.copy()\n",
    "    for i in not_in_list:\n",
    "        sfm_copy[i] = gfm[i]\n",
    "        \n",
    "    sfm_copy = sfm_copy.T\n",
    "\n",
    "    for i in not_in_list:\n",
    "        sfm_copy[i] = gfm[i]\n",
    "\n",
    "    sfm_copy = pd.DataFrame(sfm_copy.sort_index().sort_index(axis=1))\n",
    "\n",
    "\n",
    "    return(sfm_copy)\n"
   ]
  },
  {
   "cell_type": "code",
   "execution_count": 136,
   "metadata": {},
   "outputs": [
    {
     "name": "stdout",
     "output_type": "stream",
     "text": [
      "Processing subject: 001\n",
      "RSA matrix loaded for subject 001: shape (360, 360)\n",
      "Processing subject: 002\n",
      "RSA matrix loaded for subject 002: shape (360, 360)\n",
      "Processing subject: 004\n",
      "RSA matrix loaded for subject 004: shape (360, 360)\n",
      "Processing subject: 005\n",
      "RSA matrix loaded for subject 005: shape (360, 360)\n",
      "Processing subject: 006\n",
      "RSA matrix loaded for subject 006: shape (360, 360)\n",
      "Processing subject: 008\n",
      "RSA matrix loaded for subject 008: shape (360, 360)\n",
      "Processing subject: 009\n",
      "RSA matrix loaded for subject 009: shape (360, 360)\n",
      "Processing subject: 010\n",
      "RSA matrix loaded for subject 010: shape (360, 360)\n",
      "Processing subject: 011\n",
      "RSA matrix loaded for subject 011: shape (360, 360)\n",
      "Processing subject: 012\n",
      "RSA matrix loaded for subject 012: shape (360, 360)\n",
      "Processing subject: 013\n",
      "RSA matrix loaded for subject 013: shape (360, 360)\n",
      "Processing subject: 015\n",
      "RSA matrix loaded for subject 015: shape (360, 360)\n",
      "Processing subject: 017\n",
      "RSA matrix loaded for subject 017: shape (360, 360)\n",
      "Processing subject: 018\n",
      "RSA matrix loaded for subject 018: shape (360, 360)\n",
      "Processing subject: 020\n",
      "RSA matrix loaded for subject 020: shape (360, 360)\n",
      "Processing subject: 021\n",
      "RSA matrix loaded for subject 021: shape (360, 360)\n",
      "Processing subject: 022\n",
      "RSA matrix loaded for subject 022: shape (360, 360)\n",
      "Processing subject: 023\n",
      "RSA matrix loaded for subject 023: shape (360, 360)\n",
      "Processing subject: 027\n",
      "RSA matrix loaded for subject 027: shape (360, 360)\n",
      "Processing subject: 029\n",
      "RSA matrix loaded for subject 029: shape (360, 360)\n",
      "Processing subject: 031\n",
      "RSA matrix loaded for subject 031: shape (360, 360)\n",
      "Processing subject: 032\n",
      "RSA matrix loaded for subject 032: shape (360, 360)\n",
      "Processing subject: 033\n",
      "RSA matrix loaded for subject 033: shape (360, 360)\n",
      "Processing subject: 034\n",
      "RSA matrix loaded for subject 034: shape (360, 360)\n",
      "Processing subject: 035\n",
      "RSA matrix loaded for subject 035: shape (360, 360)\n",
      "Processing subject: 036\n",
      "RSA matrix loaded for subject 036: shape (360, 360)\n",
      "Processing subject: 040\n",
      "RSA matrix loaded for subject 040: shape (360, 360)\n",
      "Processing subject: 042\n",
      "RSA matrix loaded for subject 042: shape (360, 360)\n",
      "Processing subject: 044\n",
      "RSA matrix loaded for subject 044: shape (360, 360)\n",
      "Processing subject: 045\n",
      "RSA matrix loaded for subject 045: shape (360, 360)\n",
      "Processing subject: 046\n",
      "RSA matrix loaded for subject 046: shape (360, 360)\n",
      "Processing subject: 047\n",
      "RSA matrix loaded for subject 047: shape (360, 360)\n",
      "Processing subject: 050\n",
      "RSA matrix loaded for subject 050: shape (360, 360)\n",
      "Processing subject: 052\n",
      "RSA matrix loaded for subject 052: shape (360, 360)\n",
      "Processing subject: 053\n",
      "RSA matrix loaded for subject 053: shape (360, 360)\n",
      "Processing subject: 054\n",
      "RSA matrix loaded for subject 054: shape (360, 360)\n",
      "Processing subject: 055\n",
      "RSA matrix loaded for subject 055: shape (360, 360)\n",
      "Processing subject: 057\n",
      "RSA matrix loaded for subject 057: shape (360, 360)\n",
      "Processing subject: 059\n",
      "RSA matrix loaded for subject 059: shape (360, 360)\n",
      "Processing subject: 061\n",
      "RSA matrix loaded for subject 061: shape (360, 360)\n",
      "Processing subject: 062\n",
      "RSA matrix loaded for subject 062: shape (360, 360)\n",
      "Processing subject: 063\n",
      "RSA matrix loaded for subject 063: shape (360, 360)\n",
      "Processing subject: 064\n",
      "RSA matrix loaded for subject 064: shape (360, 360)\n",
      "Processing subject: 065\n",
      "RSA matrix loaded for subject 065: shape (360, 360)\n",
      "Processing subject: 067\n",
      "RSA matrix loaded for subject 067: shape (360, 360)\n",
      "Processing subject: 068\n",
      "RSA matrix loaded for subject 068: shape (360, 360)\n",
      "Processing subject: 069\n",
      "RSA matrix loaded for subject 069: shape (360, 360)\n",
      "Processing subject: 072\n",
      "RSA matrix loaded for subject 072: shape (360, 360)\n",
      "Processing subject: 075\n",
      "RSA matrix loaded for subject 075: shape (360, 360)\n",
      "Processing subject: 076\n",
      "RSA matrix loaded for subject 076: shape (360, 360)\n",
      "Processing subject: 077\n",
      "RSA matrix loaded for subject 077: shape (360, 360)\n",
      "Processing subject: 078\n",
      "RSA matrix loaded for subject 078: shape (360, 360)\n",
      "Processing subject: 079\n",
      "RSA matrix loaded for subject 079: shape (360, 360)\n",
      "Processing subject: 080\n",
      "RSA matrix loaded for subject 080: shape (360, 360)\n",
      "Processing subject: 081\n",
      "RSA matrix loaded for subject 081: shape (360, 360)\n",
      "Processing subject: 082\n",
      "RSA matrix loaded for subject 082: shape (360, 360)\n",
      "Processing subject: 083\n",
      "RSA matrix loaded for subject 083: shape (360, 360)\n",
      "Processing subject: 084\n",
      "RSA matrix loaded for subject 084: shape (360, 360)\n"
     ]
    }
   ],
   "source": [
    "import os\n",
    "import pandas as pd\n",
    "import glob\n",
    "\n",
    "class SubjectData:\n",
    "    def __init__(self, subject_num, cor_mat, colors, plot_path, subtype_index):\n",
    "        self.subject_num = subject_num  # Store the subject number\n",
    "        self.cor_mat = cor_mat          # Store the correlation matrix\n",
    "        self.colors = colors            # Store the colors associated with parcels\n",
    "        self.plot_path = plot_path      # Store the path for plots\n",
    "        self.subtype_index = subtype_index\n",
    "\n",
    "    @classmethod\n",
    "    def from_subject_rsa(cls, subject_rsa_file, group_func_mat=None):\n",
    "        # Extract subject number from the filename\n",
    "        subject_num = os.path.basename(subject_rsa_file).split('_')[0]\n",
    "        print(f\"Processing subject: {subject_num}\")  # Debugging print\n",
    "        \n",
    "        # Load the RSA matrix\n",
    "        df = pd.read_csv(subject_rsa_file, index_col=0)\n",
    "        print(f\"RSA matrix loaded for subject {subject_num}: shape {df.shape}\")  # Debugging print\n",
    "        \n",
    "        # Load wm_networks.csv\n",
    "        wm_networks = pd.read_csv('/pl/active/banich/studies/wmem/fmri/operation_rsa/grp/rest/rest_gradients/wm_networks.csv')\n",
    "        wm_networks = wm_networks.reset_index()\n",
    "        wm_networks['parcel_id'] = wm_networks['index'] + 1\n",
    "        wm_networks = wm_networks[['parcel_id', 'Subtype']]\n",
    "        net_cols = ['#FCFF0D', '#21DFB4', '#4E00A2', '#F00087']\n",
    "\n",
    "        colors = wm_networks.Subtype.map({1: net_cols[0], 2: net_cols[1], 3: net_cols[2], 4: net_cols[3]})\n",
    "        colors_parcels = colors.reset_index()\n",
    "        colors_parcels['parcel_id'] = colors_parcels['index'] + 1\n",
    "        colors_parcels = colors_parcels[['parcel_id', 'Subtype']]\n",
    "        \n",
    "        subtype_index = wm_networks\n",
    "        colors = colors_parcels['Subtype'].to_list()\n",
    "\n",
    "        # Generate plot path\n",
    "        plot_path = os.path.join('/pl/active/banich/studies/wmem/fmri/operation_rsa/grp/rest/rest_rsa_gradients', 'sub', subject_num)\n",
    "        if not os.path.exists(plot_path):\n",
    "            os.makedirs(plot_path)\n",
    "\n",
    "        return cls(subject_num, df, colors, plot_path, subtype_index)\n",
    "\n",
    "# Load all subject RSA matrices from the directory\n",
    "def load_subject_rsa_matrices(directory):\n",
    "    subject_rsa_files = sorted(glob.glob(os.path.join(directory, '*.csv')))\n",
    "    if not subject_rsa_files:\n",
    "        print(f\"No CSV files found in directory: {directory}\")  # Debugging print\n",
    "    subject_data_list = []\n",
    "    for subject_rsa_file in subject_rsa_files:\n",
    "        subject_data = SubjectData.from_subject_rsa(subject_rsa_file)\n",
    "        subject_data_list.append(subject_data)\n",
    "    return subject_data_list\n",
    "\n",
    "# Directory where RSA matrices are stored\n",
    "rsa_matrices_dir = '/pl/active/banich/studies/wmem/fmri/operation_rsa/grp/rest/rsa_matrices'\n",
    "\n",
    "# Load all subject data\n",
    "sub_class_list = load_subject_rsa_matrices(rsa_matrices_dir)\n"
   ]
  },
  {
   "cell_type": "code",
   "execution_count": 138,
   "metadata": {},
   "outputs": [],
   "source": [
    "from brainspace.gradient import GradientMaps\n",
    "from brainspace.plotting import plot_hemispheres\n",
    "from brainspace.utils.parcellation import map_to_labels\n",
    "import pandas as pd\n",
    "import numpy as np\n",
    "import matplotlib.pyplot as plt\n",
    "\n",
    "from brainspace.null_models import SurrogateMaps\n",
    "import seaborn as sns\n",
    "\n",
    "\n",
    "def align_subs(data):\n",
    "    \n",
    "    global group_grad_df\n",
    "    \n",
    "    gj = GradientMaps(approach='dm', kernel='normalized_angle', alignment='procrustes', random_state=1, n_components=3)\n",
    "    gj_out_rest = gj.fit(np.array(data.cor_mat), reference = group_grad_df)\n",
    "    #print('finished main alignment for: ' +  data.subject_num)\n",
    "    \n",
    "    data.rest_aligned = gj_out_rest.aligned_\n",
    "\n",
    "    return data\n"
   ]
  },
  {
   "cell_type": "code",
   "execution_count": 139,
   "metadata": {},
   "outputs": [
    {
     "name": "stdout",
     "output_type": "stream",
     "text": [
      "1.2691417718306184\n"
     ]
    }
   ],
   "source": [
    "from timeit import default_timer as timer\n",
    "start = timer()\n",
    "sub_class_list = *map(align_subs, sub_class_list),\n",
    "end = timer()\n",
    "print(end - start)"
   ]
  },
  {
   "cell_type": "code",
   "execution_count": 140,
   "metadata": {},
   "outputs": [
    {
     "name": "stdout",
     "output_type": "stream",
     "text": [
      "Subject Number: /pl/active/banich/studies/wmem/fmri/operation_rsa/grp/rest/rest_rsa_gradients/sub/001\n",
      "--------------------------------------------------------------------------------\n",
      "Subject Number: /pl/active/banich/studies/wmem/fmri/operation_rsa/grp/rest/rest_rsa_gradients/sub/002\n",
      "--------------------------------------------------------------------------------\n",
      "Subject Number: /pl/active/banich/studies/wmem/fmri/operation_rsa/grp/rest/rest_rsa_gradients/sub/004\n",
      "--------------------------------------------------------------------------------\n",
      "Subject Number: /pl/active/banich/studies/wmem/fmri/operation_rsa/grp/rest/rest_rsa_gradients/sub/005\n",
      "--------------------------------------------------------------------------------\n",
      "Subject Number: /pl/active/banich/studies/wmem/fmri/operation_rsa/grp/rest/rest_rsa_gradients/sub/006\n",
      "--------------------------------------------------------------------------------\n",
      "Subject Number: /pl/active/banich/studies/wmem/fmri/operation_rsa/grp/rest/rest_rsa_gradients/sub/008\n",
      "--------------------------------------------------------------------------------\n",
      "Subject Number: /pl/active/banich/studies/wmem/fmri/operation_rsa/grp/rest/rest_rsa_gradients/sub/009\n",
      "--------------------------------------------------------------------------------\n",
      "Subject Number: /pl/active/banich/studies/wmem/fmri/operation_rsa/grp/rest/rest_rsa_gradients/sub/010\n",
      "--------------------------------------------------------------------------------\n",
      "Subject Number: /pl/active/banich/studies/wmem/fmri/operation_rsa/grp/rest/rest_rsa_gradients/sub/011\n",
      "--------------------------------------------------------------------------------\n",
      "Subject Number: /pl/active/banich/studies/wmem/fmri/operation_rsa/grp/rest/rest_rsa_gradients/sub/012\n",
      "--------------------------------------------------------------------------------\n",
      "Subject Number: /pl/active/banich/studies/wmem/fmri/operation_rsa/grp/rest/rest_rsa_gradients/sub/013\n",
      "--------------------------------------------------------------------------------\n",
      "Subject Number: /pl/active/banich/studies/wmem/fmri/operation_rsa/grp/rest/rest_rsa_gradients/sub/015\n",
      "--------------------------------------------------------------------------------\n",
      "Subject Number: /pl/active/banich/studies/wmem/fmri/operation_rsa/grp/rest/rest_rsa_gradients/sub/017\n",
      "--------------------------------------------------------------------------------\n",
      "Subject Number: /pl/active/banich/studies/wmem/fmri/operation_rsa/grp/rest/rest_rsa_gradients/sub/018\n",
      "--------------------------------------------------------------------------------\n",
      "Subject Number: /pl/active/banich/studies/wmem/fmri/operation_rsa/grp/rest/rest_rsa_gradients/sub/020\n",
      "--------------------------------------------------------------------------------\n",
      "Subject Number: /pl/active/banich/studies/wmem/fmri/operation_rsa/grp/rest/rest_rsa_gradients/sub/021\n",
      "--------------------------------------------------------------------------------\n",
      "Subject Number: /pl/active/banich/studies/wmem/fmri/operation_rsa/grp/rest/rest_rsa_gradients/sub/022\n",
      "--------------------------------------------------------------------------------\n",
      "Subject Number: /pl/active/banich/studies/wmem/fmri/operation_rsa/grp/rest/rest_rsa_gradients/sub/023\n",
      "--------------------------------------------------------------------------------\n",
      "Subject Number: /pl/active/banich/studies/wmem/fmri/operation_rsa/grp/rest/rest_rsa_gradients/sub/027\n",
      "--------------------------------------------------------------------------------\n",
      "Subject Number: /pl/active/banich/studies/wmem/fmri/operation_rsa/grp/rest/rest_rsa_gradients/sub/029\n",
      "--------------------------------------------------------------------------------\n",
      "Subject Number: /pl/active/banich/studies/wmem/fmri/operation_rsa/grp/rest/rest_rsa_gradients/sub/031\n",
      "--------------------------------------------------------------------------------\n",
      "Subject Number: /pl/active/banich/studies/wmem/fmri/operation_rsa/grp/rest/rest_rsa_gradients/sub/032\n",
      "--------------------------------------------------------------------------------\n",
      "Subject Number: /pl/active/banich/studies/wmem/fmri/operation_rsa/grp/rest/rest_rsa_gradients/sub/033\n",
      "--------------------------------------------------------------------------------\n",
      "Subject Number: /pl/active/banich/studies/wmem/fmri/operation_rsa/grp/rest/rest_rsa_gradients/sub/034\n",
      "--------------------------------------------------------------------------------\n",
      "Subject Number: /pl/active/banich/studies/wmem/fmri/operation_rsa/grp/rest/rest_rsa_gradients/sub/035\n",
      "--------------------------------------------------------------------------------\n",
      "Subject Number: /pl/active/banich/studies/wmem/fmri/operation_rsa/grp/rest/rest_rsa_gradients/sub/036\n",
      "--------------------------------------------------------------------------------\n",
      "Subject Number: /pl/active/banich/studies/wmem/fmri/operation_rsa/grp/rest/rest_rsa_gradients/sub/040\n",
      "--------------------------------------------------------------------------------\n",
      "Subject Number: /pl/active/banich/studies/wmem/fmri/operation_rsa/grp/rest/rest_rsa_gradients/sub/042\n",
      "--------------------------------------------------------------------------------\n",
      "Subject Number: /pl/active/banich/studies/wmem/fmri/operation_rsa/grp/rest/rest_rsa_gradients/sub/044\n",
      "--------------------------------------------------------------------------------\n",
      "Subject Number: /pl/active/banich/studies/wmem/fmri/operation_rsa/grp/rest/rest_rsa_gradients/sub/045\n",
      "--------------------------------------------------------------------------------\n",
      "Subject Number: /pl/active/banich/studies/wmem/fmri/operation_rsa/grp/rest/rest_rsa_gradients/sub/046\n",
      "--------------------------------------------------------------------------------\n",
      "Subject Number: /pl/active/banich/studies/wmem/fmri/operation_rsa/grp/rest/rest_rsa_gradients/sub/047\n",
      "--------------------------------------------------------------------------------\n",
      "Subject Number: /pl/active/banich/studies/wmem/fmri/operation_rsa/grp/rest/rest_rsa_gradients/sub/050\n",
      "--------------------------------------------------------------------------------\n",
      "Subject Number: /pl/active/banich/studies/wmem/fmri/operation_rsa/grp/rest/rest_rsa_gradients/sub/052\n",
      "--------------------------------------------------------------------------------\n",
      "Subject Number: /pl/active/banich/studies/wmem/fmri/operation_rsa/grp/rest/rest_rsa_gradients/sub/053\n",
      "--------------------------------------------------------------------------------\n",
      "Subject Number: /pl/active/banich/studies/wmem/fmri/operation_rsa/grp/rest/rest_rsa_gradients/sub/054\n",
      "--------------------------------------------------------------------------------\n",
      "Subject Number: /pl/active/banich/studies/wmem/fmri/operation_rsa/grp/rest/rest_rsa_gradients/sub/055\n",
      "--------------------------------------------------------------------------------\n",
      "Subject Number: /pl/active/banich/studies/wmem/fmri/operation_rsa/grp/rest/rest_rsa_gradients/sub/057\n",
      "--------------------------------------------------------------------------------\n",
      "Subject Number: /pl/active/banich/studies/wmem/fmri/operation_rsa/grp/rest/rest_rsa_gradients/sub/059\n",
      "--------------------------------------------------------------------------------\n",
      "Subject Number: /pl/active/banich/studies/wmem/fmri/operation_rsa/grp/rest/rest_rsa_gradients/sub/061\n",
      "--------------------------------------------------------------------------------\n",
      "Subject Number: /pl/active/banich/studies/wmem/fmri/operation_rsa/grp/rest/rest_rsa_gradients/sub/062\n",
      "--------------------------------------------------------------------------------\n",
      "Subject Number: /pl/active/banich/studies/wmem/fmri/operation_rsa/grp/rest/rest_rsa_gradients/sub/063\n",
      "--------------------------------------------------------------------------------\n",
      "Subject Number: /pl/active/banich/studies/wmem/fmri/operation_rsa/grp/rest/rest_rsa_gradients/sub/064\n",
      "--------------------------------------------------------------------------------\n",
      "Subject Number: /pl/active/banich/studies/wmem/fmri/operation_rsa/grp/rest/rest_rsa_gradients/sub/065\n",
      "--------------------------------------------------------------------------------\n",
      "Subject Number: /pl/active/banich/studies/wmem/fmri/operation_rsa/grp/rest/rest_rsa_gradients/sub/067\n",
      "--------------------------------------------------------------------------------\n",
      "Subject Number: /pl/active/banich/studies/wmem/fmri/operation_rsa/grp/rest/rest_rsa_gradients/sub/068\n",
      "--------------------------------------------------------------------------------\n",
      "Subject Number: /pl/active/banich/studies/wmem/fmri/operation_rsa/grp/rest/rest_rsa_gradients/sub/069\n",
      "--------------------------------------------------------------------------------\n",
      "Subject Number: /pl/active/banich/studies/wmem/fmri/operation_rsa/grp/rest/rest_rsa_gradients/sub/072\n",
      "--------------------------------------------------------------------------------\n",
      "Subject Number: /pl/active/banich/studies/wmem/fmri/operation_rsa/grp/rest/rest_rsa_gradients/sub/075\n",
      "--------------------------------------------------------------------------------\n",
      "Subject Number: /pl/active/banich/studies/wmem/fmri/operation_rsa/grp/rest/rest_rsa_gradients/sub/076\n",
      "--------------------------------------------------------------------------------\n",
      "Subject Number: /pl/active/banich/studies/wmem/fmri/operation_rsa/grp/rest/rest_rsa_gradients/sub/077\n",
      "--------------------------------------------------------------------------------\n",
      "Subject Number: /pl/active/banich/studies/wmem/fmri/operation_rsa/grp/rest/rest_rsa_gradients/sub/078\n",
      "--------------------------------------------------------------------------------\n",
      "Subject Number: /pl/active/banich/studies/wmem/fmri/operation_rsa/grp/rest/rest_rsa_gradients/sub/079\n",
      "--------------------------------------------------------------------------------\n",
      "Subject Number: /pl/active/banich/studies/wmem/fmri/operation_rsa/grp/rest/rest_rsa_gradients/sub/080\n",
      "--------------------------------------------------------------------------------\n",
      "Subject Number: /pl/active/banich/studies/wmem/fmri/operation_rsa/grp/rest/rest_rsa_gradients/sub/081\n",
      "--------------------------------------------------------------------------------\n",
      "Subject Number: /pl/active/banich/studies/wmem/fmri/operation_rsa/grp/rest/rest_rsa_gradients/sub/082\n",
      "--------------------------------------------------------------------------------\n",
      "Subject Number: /pl/active/banich/studies/wmem/fmri/operation_rsa/grp/rest/rest_rsa_gradients/sub/083\n",
      "--------------------------------------------------------------------------------\n",
      "Subject Number: /pl/active/banich/studies/wmem/fmri/operation_rsa/grp/rest/rest_rsa_gradients/sub/084\n",
      "--------------------------------------------------------------------------------\n"
     ]
    }
   ],
   "source": [
    "for subject in sub_class_list:\n",
    "    print(f\"Subject Number: {subject.plot_path}\")\n",
    "    print(\"-\" * 80)  # Print a separator for readability\n"
   ]
  },
  {
   "cell_type": "code",
   "execution_count": 141,
   "metadata": {},
   "outputs": [],
   "source": [
    "def process_grads(sub_class_list):\n",
    "    \n",
    "    filepath = sub_class_list.plot_path+'/rest_'\n",
    "    \n",
    "    df = sub_class_list.rest_aligned\n",
    "    \n",
    "    rc_g1=df[:,0]\n",
    "    rc_g2=df[:,1]\n",
    "    rc_g3=df[:,2]\n",
    "\n",
    "    Y = np.stack((rc_g1, rc_g2, rc_g3)).T\n",
    "\n",
    "    fig = plt.figure(figsize=(8.5,5.5))\n",
    "  \n",
    "    ax1 = fig.add_subplot(121)\n",
    "    ax2 = fig.add_subplot(122)\n",
    "    \n",
    "    colors = sub_class_list.colors\n",
    "\n",
    "    ax1.scatter(Y[:, 0], Y[:, 1], c=Y[:, 1], cmap='jet_r')\n",
    "    ax2.scatter(Y[:, 0], Y[:, 1], c=colors)\n",
    "\n",
    "    fig.tight_layout()\n",
    "    fig.savefig(f'{filepath}_grad_axes.png')\n",
    "\n",
    "    plt.clf()\n",
    "  \n",
    "    #get_anim(Y)\n",
    "    plot_3Dfigure(Y, colors, net=True, filepath=sub_class_list.plot_path+'/gradient_network_')\n",
    "    plot_3Dfigure(Y, colors, filepath=sub_class_list.plot_path+'/gradients_')\n",
    "    \n",
    "    grads = pd.DataFrame(Y)\n",
    "    #grads.index = parcel_index\n",
    "    grads.columns = ['g1', 'g2', 'g3']\n",
    "    op_mat = sub_class_list.subtype_index\n",
    "    df_grads = pd.concat([op_mat[['Subtype']], grads], axis = 1)\n",
    "    sub_grads = df_grads[['Subtype', 'g1', 'g2', 'g3']].reset_index()\n",
    "    #sub_grads.index = parcel_index\n",
    "   \n",
    "    N = int(op_mat.shape[0])\n",
    "    \n",
    "    if N == 360:\n",
    "        grad_nums = []\n",
    "        for i in range(1,21):\n",
    "            grad_nums.append(list(itertools.repeat(i, int(360/20))))\n",
    "            #grad_nums = list(itertools.chain.from_iterable(grad_nums))\n",
    "        grad_nums = list(pd.DataFrame(np.array(grad_nums)).melt().sort_values('value')['value'])\n",
    "            \n",
    "    else:\n",
    "        rounded = round(N*0.05)\n",
    "        num_bins = trunc(N/rounded)\n",
    "        subtract = num_bins*rounded\n",
    "        num_in_added_bin = op_mat.shape[0] - subtract\n",
    "        bin_list = []\n",
    "        for i in list(range(1, (int(num_bins)) + 1)):\n",
    "            for j in range(rounded):\n",
    "                bin_list.append(i)\n",
    "\n",
    "        grad_nums = bin_list + [int(num_bins + 1)]*int(num_in_added_bin)\n",
    "\n",
    "    g1_new_order = sub_grads[['index', 'Subtype', 'g1']].sort_values(by = 'g1')\n",
    "    g1_new_order['grad'] = grad_nums\n",
    "    g1_new_order['index_new'] = list(range(0,N))\n",
    "    \n",
    "    g2_new_order = sub_grads[['index', 'Subtype', 'g2']].sort_values(by = 'g2')\n",
    "    g2_new_order['grad'] = grad_nums\n",
    "    g2_new_order['index_new'] =  list(range(0,N))\n",
    "    \n",
    "    g3_new_order = sub_grads[['index', 'Subtype', 'g3']].sort_values(by = 'g3')\n",
    "    g3_new_order['grad'] = grad_nums\n",
    "    g3_new_order['index_new'] =  list(range(0,N))\n",
    "        \n",
    "    sub_class_list.rest_grads_processed = g1_new_order, g2_new_order, g3_new_order\n",
    "    sub_class_list.rest_grads_combined = sub_grads\n",
    "    return sub_class_list\n"
   ]
  },
  {
   "cell_type": "code",
   "execution_count": 142,
   "metadata": {},
   "outputs": [
    {
     "data": {
      "text/plain": [
       "<Figure size 850x550 with 0 Axes>"
      ]
     },
     "metadata": {},
     "output_type": "display_data"
    },
    {
     "data": {
      "text/plain": [
       "<Figure size 640x480 with 0 Axes>"
      ]
     },
     "metadata": {},
     "output_type": "display_data"
    },
    {
     "data": {
      "text/plain": [
       "<Figure size 640x480 with 0 Axes>"
      ]
     },
     "metadata": {},
     "output_type": "display_data"
    },
    {
     "data": {
      "text/plain": [
       "<Figure size 850x550 with 0 Axes>"
      ]
     },
     "metadata": {},
     "output_type": "display_data"
    },
    {
     "data": {
      "text/plain": [
       "<Figure size 640x480 with 0 Axes>"
      ]
     },
     "metadata": {},
     "output_type": "display_data"
    },
    {
     "data": {
      "text/plain": [
       "<Figure size 640x480 with 0 Axes>"
      ]
     },
     "metadata": {},
     "output_type": "display_data"
    },
    {
     "data": {
      "text/plain": [
       "<Figure size 850x550 with 0 Axes>"
      ]
     },
     "metadata": {},
     "output_type": "display_data"
    },
    {
     "data": {
      "text/plain": [
       "<Figure size 640x480 with 0 Axes>"
      ]
     },
     "metadata": {},
     "output_type": "display_data"
    },
    {
     "data": {
      "text/plain": [
       "<Figure size 640x480 with 0 Axes>"
      ]
     },
     "metadata": {},
     "output_type": "display_data"
    },
    {
     "data": {
      "text/plain": [
       "<Figure size 850x550 with 0 Axes>"
      ]
     },
     "metadata": {},
     "output_type": "display_data"
    },
    {
     "data": {
      "text/plain": [
       "<Figure size 640x480 with 0 Axes>"
      ]
     },
     "metadata": {},
     "output_type": "display_data"
    },
    {
     "data": {
      "text/plain": [
       "<Figure size 640x480 with 0 Axes>"
      ]
     },
     "metadata": {},
     "output_type": "display_data"
    },
    {
     "data": {
      "text/plain": [
       "<Figure size 850x550 with 0 Axes>"
      ]
     },
     "metadata": {},
     "output_type": "display_data"
    },
    {
     "data": {
      "text/plain": [
       "<Figure size 640x480 with 0 Axes>"
      ]
     },
     "metadata": {},
     "output_type": "display_data"
    },
    {
     "data": {
      "text/plain": [
       "<Figure size 640x480 with 0 Axes>"
      ]
     },
     "metadata": {},
     "output_type": "display_data"
    },
    {
     "data": {
      "text/plain": [
       "<Figure size 850x550 with 0 Axes>"
      ]
     },
     "metadata": {},
     "output_type": "display_data"
    },
    {
     "data": {
      "text/plain": [
       "<Figure size 640x480 with 0 Axes>"
      ]
     },
     "metadata": {},
     "output_type": "display_data"
    },
    {
     "data": {
      "text/plain": [
       "<Figure size 640x480 with 0 Axes>"
      ]
     },
     "metadata": {},
     "output_type": "display_data"
    },
    {
     "data": {
      "text/plain": [
       "<Figure size 850x550 with 0 Axes>"
      ]
     },
     "metadata": {},
     "output_type": "display_data"
    },
    {
     "data": {
      "text/plain": [
       "<Figure size 640x480 with 0 Axes>"
      ]
     },
     "metadata": {},
     "output_type": "display_data"
    },
    {
     "data": {
      "text/plain": [
       "<Figure size 640x480 with 0 Axes>"
      ]
     },
     "metadata": {},
     "output_type": "display_data"
    },
    {
     "data": {
      "text/plain": [
       "<Figure size 850x550 with 0 Axes>"
      ]
     },
     "metadata": {},
     "output_type": "display_data"
    },
    {
     "data": {
      "text/plain": [
       "<Figure size 640x480 with 0 Axes>"
      ]
     },
     "metadata": {},
     "output_type": "display_data"
    },
    {
     "data": {
      "text/plain": [
       "<Figure size 640x480 with 0 Axes>"
      ]
     },
     "metadata": {},
     "output_type": "display_data"
    },
    {
     "data": {
      "text/plain": [
       "<Figure size 850x550 with 0 Axes>"
      ]
     },
     "metadata": {},
     "output_type": "display_data"
    },
    {
     "data": {
      "text/plain": [
       "<Figure size 640x480 with 0 Axes>"
      ]
     },
     "metadata": {},
     "output_type": "display_data"
    },
    {
     "data": {
      "text/plain": [
       "<Figure size 640x480 with 0 Axes>"
      ]
     },
     "metadata": {},
     "output_type": "display_data"
    },
    {
     "data": {
      "text/plain": [
       "<Figure size 850x550 with 0 Axes>"
      ]
     },
     "metadata": {},
     "output_type": "display_data"
    },
    {
     "data": {
      "text/plain": [
       "<Figure size 640x480 with 0 Axes>"
      ]
     },
     "metadata": {},
     "output_type": "display_data"
    },
    {
     "data": {
      "text/plain": [
       "<Figure size 640x480 with 0 Axes>"
      ]
     },
     "metadata": {},
     "output_type": "display_data"
    },
    {
     "data": {
      "text/plain": [
       "<Figure size 850x550 with 0 Axes>"
      ]
     },
     "metadata": {},
     "output_type": "display_data"
    },
    {
     "data": {
      "text/plain": [
       "<Figure size 640x480 with 0 Axes>"
      ]
     },
     "metadata": {},
     "output_type": "display_data"
    },
    {
     "data": {
      "text/plain": [
       "<Figure size 640x480 with 0 Axes>"
      ]
     },
     "metadata": {},
     "output_type": "display_data"
    },
    {
     "data": {
      "text/plain": [
       "<Figure size 850x550 with 0 Axes>"
      ]
     },
     "metadata": {},
     "output_type": "display_data"
    },
    {
     "data": {
      "text/plain": [
       "<Figure size 640x480 with 0 Axes>"
      ]
     },
     "metadata": {},
     "output_type": "display_data"
    },
    {
     "data": {
      "text/plain": [
       "<Figure size 640x480 with 0 Axes>"
      ]
     },
     "metadata": {},
     "output_type": "display_data"
    },
    {
     "data": {
      "text/plain": [
       "<Figure size 850x550 with 0 Axes>"
      ]
     },
     "metadata": {},
     "output_type": "display_data"
    },
    {
     "data": {
      "text/plain": [
       "<Figure size 640x480 with 0 Axes>"
      ]
     },
     "metadata": {},
     "output_type": "display_data"
    },
    {
     "data": {
      "text/plain": [
       "<Figure size 640x480 with 0 Axes>"
      ]
     },
     "metadata": {},
     "output_type": "display_data"
    },
    {
     "data": {
      "text/plain": [
       "<Figure size 850x550 with 0 Axes>"
      ]
     },
     "metadata": {},
     "output_type": "display_data"
    },
    {
     "data": {
      "text/plain": [
       "<Figure size 640x480 with 0 Axes>"
      ]
     },
     "metadata": {},
     "output_type": "display_data"
    },
    {
     "data": {
      "text/plain": [
       "<Figure size 640x480 with 0 Axes>"
      ]
     },
     "metadata": {},
     "output_type": "display_data"
    },
    {
     "data": {
      "text/plain": [
       "<Figure size 850x550 with 0 Axes>"
      ]
     },
     "metadata": {},
     "output_type": "display_data"
    },
    {
     "data": {
      "text/plain": [
       "<Figure size 640x480 with 0 Axes>"
      ]
     },
     "metadata": {},
     "output_type": "display_data"
    },
    {
     "data": {
      "text/plain": [
       "<Figure size 640x480 with 0 Axes>"
      ]
     },
     "metadata": {},
     "output_type": "display_data"
    },
    {
     "data": {
      "text/plain": [
       "<Figure size 850x550 with 0 Axes>"
      ]
     },
     "metadata": {},
     "output_type": "display_data"
    },
    {
     "data": {
      "text/plain": [
       "<Figure size 640x480 with 0 Axes>"
      ]
     },
     "metadata": {},
     "output_type": "display_data"
    },
    {
     "data": {
      "text/plain": [
       "<Figure size 640x480 with 0 Axes>"
      ]
     },
     "metadata": {},
     "output_type": "display_data"
    },
    {
     "data": {
      "text/plain": [
       "<Figure size 850x550 with 0 Axes>"
      ]
     },
     "metadata": {},
     "output_type": "display_data"
    },
    {
     "data": {
      "text/plain": [
       "<Figure size 640x480 with 0 Axes>"
      ]
     },
     "metadata": {},
     "output_type": "display_data"
    },
    {
     "data": {
      "text/plain": [
       "<Figure size 640x480 with 0 Axes>"
      ]
     },
     "metadata": {},
     "output_type": "display_data"
    },
    {
     "data": {
      "text/plain": [
       "<Figure size 850x550 with 0 Axes>"
      ]
     },
     "metadata": {},
     "output_type": "display_data"
    },
    {
     "data": {
      "text/plain": [
       "<Figure size 640x480 with 0 Axes>"
      ]
     },
     "metadata": {},
     "output_type": "display_data"
    },
    {
     "data": {
      "text/plain": [
       "<Figure size 640x480 with 0 Axes>"
      ]
     },
     "metadata": {},
     "output_type": "display_data"
    },
    {
     "data": {
      "text/plain": [
       "<Figure size 850x550 with 0 Axes>"
      ]
     },
     "metadata": {},
     "output_type": "display_data"
    },
    {
     "data": {
      "text/plain": [
       "<Figure size 640x480 with 0 Axes>"
      ]
     },
     "metadata": {},
     "output_type": "display_data"
    },
    {
     "data": {
      "text/plain": [
       "<Figure size 640x480 with 0 Axes>"
      ]
     },
     "metadata": {},
     "output_type": "display_data"
    },
    {
     "data": {
      "text/plain": [
       "<Figure size 850x550 with 0 Axes>"
      ]
     },
     "metadata": {},
     "output_type": "display_data"
    },
    {
     "data": {
      "text/plain": [
       "<Figure size 640x480 with 0 Axes>"
      ]
     },
     "metadata": {},
     "output_type": "display_data"
    },
    {
     "data": {
      "text/plain": [
       "<Figure size 640x480 with 0 Axes>"
      ]
     },
     "metadata": {},
     "output_type": "display_data"
    },
    {
     "data": {
      "text/plain": [
       "<Figure size 850x550 with 0 Axes>"
      ]
     },
     "metadata": {},
     "output_type": "display_data"
    },
    {
     "data": {
      "text/plain": [
       "<Figure size 640x480 with 0 Axes>"
      ]
     },
     "metadata": {},
     "output_type": "display_data"
    },
    {
     "data": {
      "text/plain": [
       "<Figure size 640x480 with 0 Axes>"
      ]
     },
     "metadata": {},
     "output_type": "display_data"
    },
    {
     "data": {
      "text/plain": [
       "<Figure size 850x550 with 0 Axes>"
      ]
     },
     "metadata": {},
     "output_type": "display_data"
    },
    {
     "data": {
      "text/plain": [
       "<Figure size 640x480 with 0 Axes>"
      ]
     },
     "metadata": {},
     "output_type": "display_data"
    },
    {
     "data": {
      "text/plain": [
       "<Figure size 640x480 with 0 Axes>"
      ]
     },
     "metadata": {},
     "output_type": "display_data"
    },
    {
     "data": {
      "text/plain": [
       "<Figure size 850x550 with 0 Axes>"
      ]
     },
     "metadata": {},
     "output_type": "display_data"
    },
    {
     "data": {
      "text/plain": [
       "<Figure size 640x480 with 0 Axes>"
      ]
     },
     "metadata": {},
     "output_type": "display_data"
    },
    {
     "data": {
      "text/plain": [
       "<Figure size 640x480 with 0 Axes>"
      ]
     },
     "metadata": {},
     "output_type": "display_data"
    },
    {
     "data": {
      "text/plain": [
       "<Figure size 850x550 with 0 Axes>"
      ]
     },
     "metadata": {},
     "output_type": "display_data"
    },
    {
     "data": {
      "text/plain": [
       "<Figure size 640x480 with 0 Axes>"
      ]
     },
     "metadata": {},
     "output_type": "display_data"
    },
    {
     "data": {
      "text/plain": [
       "<Figure size 640x480 with 0 Axes>"
      ]
     },
     "metadata": {},
     "output_type": "display_data"
    },
    {
     "data": {
      "text/plain": [
       "<Figure size 850x550 with 0 Axes>"
      ]
     },
     "metadata": {},
     "output_type": "display_data"
    },
    {
     "data": {
      "text/plain": [
       "<Figure size 640x480 with 0 Axes>"
      ]
     },
     "metadata": {},
     "output_type": "display_data"
    },
    {
     "data": {
      "text/plain": [
       "<Figure size 640x480 with 0 Axes>"
      ]
     },
     "metadata": {},
     "output_type": "display_data"
    },
    {
     "data": {
      "text/plain": [
       "<Figure size 850x550 with 0 Axes>"
      ]
     },
     "metadata": {},
     "output_type": "display_data"
    },
    {
     "data": {
      "text/plain": [
       "<Figure size 640x480 with 0 Axes>"
      ]
     },
     "metadata": {},
     "output_type": "display_data"
    },
    {
     "data": {
      "text/plain": [
       "<Figure size 640x480 with 0 Axes>"
      ]
     },
     "metadata": {},
     "output_type": "display_data"
    },
    {
     "data": {
      "text/plain": [
       "<Figure size 850x550 with 0 Axes>"
      ]
     },
     "metadata": {},
     "output_type": "display_data"
    },
    {
     "data": {
      "text/plain": [
       "<Figure size 640x480 with 0 Axes>"
      ]
     },
     "metadata": {},
     "output_type": "display_data"
    },
    {
     "data": {
      "text/plain": [
       "<Figure size 640x480 with 0 Axes>"
      ]
     },
     "metadata": {},
     "output_type": "display_data"
    },
    {
     "data": {
      "text/plain": [
       "<Figure size 850x550 with 0 Axes>"
      ]
     },
     "metadata": {},
     "output_type": "display_data"
    },
    {
     "data": {
      "text/plain": [
       "<Figure size 640x480 with 0 Axes>"
      ]
     },
     "metadata": {},
     "output_type": "display_data"
    },
    {
     "data": {
      "text/plain": [
       "<Figure size 640x480 with 0 Axes>"
      ]
     },
     "metadata": {},
     "output_type": "display_data"
    },
    {
     "data": {
      "text/plain": [
       "<Figure size 850x550 with 0 Axes>"
      ]
     },
     "metadata": {},
     "output_type": "display_data"
    },
    {
     "data": {
      "text/plain": [
       "<Figure size 640x480 with 0 Axes>"
      ]
     },
     "metadata": {},
     "output_type": "display_data"
    },
    {
     "data": {
      "text/plain": [
       "<Figure size 640x480 with 0 Axes>"
      ]
     },
     "metadata": {},
     "output_type": "display_data"
    },
    {
     "data": {
      "text/plain": [
       "<Figure size 850x550 with 0 Axes>"
      ]
     },
     "metadata": {},
     "output_type": "display_data"
    },
    {
     "data": {
      "text/plain": [
       "<Figure size 640x480 with 0 Axes>"
      ]
     },
     "metadata": {},
     "output_type": "display_data"
    },
    {
     "data": {
      "text/plain": [
       "<Figure size 640x480 with 0 Axes>"
      ]
     },
     "metadata": {},
     "output_type": "display_data"
    },
    {
     "data": {
      "text/plain": [
       "<Figure size 850x550 with 0 Axes>"
      ]
     },
     "metadata": {},
     "output_type": "display_data"
    },
    {
     "data": {
      "text/plain": [
       "<Figure size 640x480 with 0 Axes>"
      ]
     },
     "metadata": {},
     "output_type": "display_data"
    },
    {
     "data": {
      "text/plain": [
       "<Figure size 640x480 with 0 Axes>"
      ]
     },
     "metadata": {},
     "output_type": "display_data"
    },
    {
     "data": {
      "text/plain": [
       "<Figure size 850x550 with 0 Axes>"
      ]
     },
     "metadata": {},
     "output_type": "display_data"
    },
    {
     "data": {
      "text/plain": [
       "<Figure size 640x480 with 0 Axes>"
      ]
     },
     "metadata": {},
     "output_type": "display_data"
    },
    {
     "data": {
      "text/plain": [
       "<Figure size 640x480 with 0 Axes>"
      ]
     },
     "metadata": {},
     "output_type": "display_data"
    },
    {
     "data": {
      "text/plain": [
       "<Figure size 850x550 with 0 Axes>"
      ]
     },
     "metadata": {},
     "output_type": "display_data"
    },
    {
     "data": {
      "text/plain": [
       "<Figure size 640x480 with 0 Axes>"
      ]
     },
     "metadata": {},
     "output_type": "display_data"
    },
    {
     "data": {
      "text/plain": [
       "<Figure size 640x480 with 0 Axes>"
      ]
     },
     "metadata": {},
     "output_type": "display_data"
    },
    {
     "data": {
      "text/plain": [
       "<Figure size 850x550 with 0 Axes>"
      ]
     },
     "metadata": {},
     "output_type": "display_data"
    },
    {
     "data": {
      "text/plain": [
       "<Figure size 640x480 with 0 Axes>"
      ]
     },
     "metadata": {},
     "output_type": "display_data"
    },
    {
     "data": {
      "text/plain": [
       "<Figure size 640x480 with 0 Axes>"
      ]
     },
     "metadata": {},
     "output_type": "display_data"
    },
    {
     "data": {
      "text/plain": [
       "<Figure size 850x550 with 0 Axes>"
      ]
     },
     "metadata": {},
     "output_type": "display_data"
    },
    {
     "data": {
      "text/plain": [
       "<Figure size 640x480 with 0 Axes>"
      ]
     },
     "metadata": {},
     "output_type": "display_data"
    },
    {
     "data": {
      "text/plain": [
       "<Figure size 640x480 with 0 Axes>"
      ]
     },
     "metadata": {},
     "output_type": "display_data"
    },
    {
     "data": {
      "text/plain": [
       "<Figure size 850x550 with 0 Axes>"
      ]
     },
     "metadata": {},
     "output_type": "display_data"
    },
    {
     "data": {
      "text/plain": [
       "<Figure size 640x480 with 0 Axes>"
      ]
     },
     "metadata": {},
     "output_type": "display_data"
    },
    {
     "data": {
      "text/plain": [
       "<Figure size 640x480 with 0 Axes>"
      ]
     },
     "metadata": {},
     "output_type": "display_data"
    },
    {
     "data": {
      "text/plain": [
       "<Figure size 850x550 with 0 Axes>"
      ]
     },
     "metadata": {},
     "output_type": "display_data"
    },
    {
     "data": {
      "text/plain": [
       "<Figure size 640x480 with 0 Axes>"
      ]
     },
     "metadata": {},
     "output_type": "display_data"
    },
    {
     "data": {
      "text/plain": [
       "<Figure size 640x480 with 0 Axes>"
      ]
     },
     "metadata": {},
     "output_type": "display_data"
    },
    {
     "data": {
      "text/plain": [
       "<Figure size 850x550 with 0 Axes>"
      ]
     },
     "metadata": {},
     "output_type": "display_data"
    },
    {
     "data": {
      "text/plain": [
       "<Figure size 640x480 with 0 Axes>"
      ]
     },
     "metadata": {},
     "output_type": "display_data"
    },
    {
     "data": {
      "text/plain": [
       "<Figure size 640x480 with 0 Axes>"
      ]
     },
     "metadata": {},
     "output_type": "display_data"
    },
    {
     "data": {
      "text/plain": [
       "<Figure size 850x550 with 0 Axes>"
      ]
     },
     "metadata": {},
     "output_type": "display_data"
    },
    {
     "data": {
      "text/plain": [
       "<Figure size 640x480 with 0 Axes>"
      ]
     },
     "metadata": {},
     "output_type": "display_data"
    },
    {
     "data": {
      "text/plain": [
       "<Figure size 640x480 with 0 Axes>"
      ]
     },
     "metadata": {},
     "output_type": "display_data"
    },
    {
     "data": {
      "text/plain": [
       "<Figure size 850x550 with 0 Axes>"
      ]
     },
     "metadata": {},
     "output_type": "display_data"
    },
    {
     "data": {
      "text/plain": [
       "<Figure size 640x480 with 0 Axes>"
      ]
     },
     "metadata": {},
     "output_type": "display_data"
    },
    {
     "data": {
      "text/plain": [
       "<Figure size 640x480 with 0 Axes>"
      ]
     },
     "metadata": {},
     "output_type": "display_data"
    },
    {
     "data": {
      "text/plain": [
       "<Figure size 850x550 with 0 Axes>"
      ]
     },
     "metadata": {},
     "output_type": "display_data"
    },
    {
     "data": {
      "text/plain": [
       "<Figure size 640x480 with 0 Axes>"
      ]
     },
     "metadata": {},
     "output_type": "display_data"
    },
    {
     "data": {
      "text/plain": [
       "<Figure size 640x480 with 0 Axes>"
      ]
     },
     "metadata": {},
     "output_type": "display_data"
    },
    {
     "data": {
      "text/plain": [
       "<Figure size 850x550 with 0 Axes>"
      ]
     },
     "metadata": {},
     "output_type": "display_data"
    },
    {
     "data": {
      "text/plain": [
       "<Figure size 640x480 with 0 Axes>"
      ]
     },
     "metadata": {},
     "output_type": "display_data"
    },
    {
     "data": {
      "text/plain": [
       "<Figure size 640x480 with 0 Axes>"
      ]
     },
     "metadata": {},
     "output_type": "display_data"
    },
    {
     "data": {
      "text/plain": [
       "<Figure size 850x550 with 0 Axes>"
      ]
     },
     "metadata": {},
     "output_type": "display_data"
    },
    {
     "data": {
      "text/plain": [
       "<Figure size 640x480 with 0 Axes>"
      ]
     },
     "metadata": {},
     "output_type": "display_data"
    },
    {
     "data": {
      "text/plain": [
       "<Figure size 640x480 with 0 Axes>"
      ]
     },
     "metadata": {},
     "output_type": "display_data"
    },
    {
     "data": {
      "text/plain": [
       "<Figure size 850x550 with 0 Axes>"
      ]
     },
     "metadata": {},
     "output_type": "display_data"
    },
    {
     "data": {
      "text/plain": [
       "<Figure size 640x480 with 0 Axes>"
      ]
     },
     "metadata": {},
     "output_type": "display_data"
    },
    {
     "data": {
      "text/plain": [
       "<Figure size 640x480 with 0 Axes>"
      ]
     },
     "metadata": {},
     "output_type": "display_data"
    },
    {
     "data": {
      "text/plain": [
       "<Figure size 850x550 with 0 Axes>"
      ]
     },
     "metadata": {},
     "output_type": "display_data"
    },
    {
     "data": {
      "text/plain": [
       "<Figure size 640x480 with 0 Axes>"
      ]
     },
     "metadata": {},
     "output_type": "display_data"
    },
    {
     "data": {
      "text/plain": [
       "<Figure size 640x480 with 0 Axes>"
      ]
     },
     "metadata": {},
     "output_type": "display_data"
    },
    {
     "data": {
      "text/plain": [
       "<Figure size 850x550 with 0 Axes>"
      ]
     },
     "metadata": {},
     "output_type": "display_data"
    },
    {
     "data": {
      "text/plain": [
       "<Figure size 640x480 with 0 Axes>"
      ]
     },
     "metadata": {},
     "output_type": "display_data"
    },
    {
     "data": {
      "text/plain": [
       "<Figure size 640x480 with 0 Axes>"
      ]
     },
     "metadata": {},
     "output_type": "display_data"
    },
    {
     "data": {
      "text/plain": [
       "<Figure size 850x550 with 0 Axes>"
      ]
     },
     "metadata": {},
     "output_type": "display_data"
    },
    {
     "data": {
      "text/plain": [
       "<Figure size 640x480 with 0 Axes>"
      ]
     },
     "metadata": {},
     "output_type": "display_data"
    },
    {
     "data": {
      "text/plain": [
       "<Figure size 640x480 with 0 Axes>"
      ]
     },
     "metadata": {},
     "output_type": "display_data"
    },
    {
     "data": {
      "text/plain": [
       "<Figure size 850x550 with 0 Axes>"
      ]
     },
     "metadata": {},
     "output_type": "display_data"
    },
    {
     "data": {
      "text/plain": [
       "<Figure size 640x480 with 0 Axes>"
      ]
     },
     "metadata": {},
     "output_type": "display_data"
    },
    {
     "data": {
      "text/plain": [
       "<Figure size 640x480 with 0 Axes>"
      ]
     },
     "metadata": {},
     "output_type": "display_data"
    },
    {
     "data": {
      "text/plain": [
       "<Figure size 850x550 with 0 Axes>"
      ]
     },
     "metadata": {},
     "output_type": "display_data"
    },
    {
     "data": {
      "text/plain": [
       "<Figure size 640x480 with 0 Axes>"
      ]
     },
     "metadata": {},
     "output_type": "display_data"
    },
    {
     "data": {
      "text/plain": [
       "<Figure size 640x480 with 0 Axes>"
      ]
     },
     "metadata": {},
     "output_type": "display_data"
    },
    {
     "data": {
      "text/plain": [
       "<Figure size 850x550 with 0 Axes>"
      ]
     },
     "metadata": {},
     "output_type": "display_data"
    },
    {
     "data": {
      "text/plain": [
       "<Figure size 640x480 with 0 Axes>"
      ]
     },
     "metadata": {},
     "output_type": "display_data"
    },
    {
     "data": {
      "text/plain": [
       "<Figure size 640x480 with 0 Axes>"
      ]
     },
     "metadata": {},
     "output_type": "display_data"
    },
    {
     "data": {
      "text/plain": [
       "<Figure size 850x550 with 0 Axes>"
      ]
     },
     "metadata": {},
     "output_type": "display_data"
    },
    {
     "data": {
      "text/plain": [
       "<Figure size 640x480 with 0 Axes>"
      ]
     },
     "metadata": {},
     "output_type": "display_data"
    },
    {
     "data": {
      "text/plain": [
       "<Figure size 640x480 with 0 Axes>"
      ]
     },
     "metadata": {},
     "output_type": "display_data"
    },
    {
     "data": {
      "text/plain": [
       "<Figure size 850x550 with 0 Axes>"
      ]
     },
     "metadata": {},
     "output_type": "display_data"
    },
    {
     "data": {
      "text/plain": [
       "<Figure size 640x480 with 0 Axes>"
      ]
     },
     "metadata": {},
     "output_type": "display_data"
    },
    {
     "data": {
      "text/plain": [
       "<Figure size 640x480 with 0 Axes>"
      ]
     },
     "metadata": {},
     "output_type": "display_data"
    },
    {
     "data": {
      "text/plain": [
       "<Figure size 850x550 with 0 Axes>"
      ]
     },
     "metadata": {},
     "output_type": "display_data"
    },
    {
     "data": {
      "text/plain": [
       "<Figure size 640x480 with 0 Axes>"
      ]
     },
     "metadata": {},
     "output_type": "display_data"
    },
    {
     "data": {
      "text/plain": [
       "<Figure size 640x480 with 0 Axes>"
      ]
     },
     "metadata": {},
     "output_type": "display_data"
    },
    {
     "data": {
      "text/plain": [
       "<Figure size 850x550 with 0 Axes>"
      ]
     },
     "metadata": {},
     "output_type": "display_data"
    },
    {
     "data": {
      "text/plain": [
       "<Figure size 640x480 with 0 Axes>"
      ]
     },
     "metadata": {},
     "output_type": "display_data"
    },
    {
     "data": {
      "text/plain": [
       "<Figure size 640x480 with 0 Axes>"
      ]
     },
     "metadata": {},
     "output_type": "display_data"
    },
    {
     "data": {
      "text/plain": [
       "<Figure size 850x550 with 0 Axes>"
      ]
     },
     "metadata": {},
     "output_type": "display_data"
    },
    {
     "data": {
      "text/plain": [
       "<Figure size 640x480 with 0 Axes>"
      ]
     },
     "metadata": {},
     "output_type": "display_data"
    },
    {
     "data": {
      "text/plain": [
       "<Figure size 640x480 with 0 Axes>"
      ]
     },
     "metadata": {},
     "output_type": "display_data"
    },
    {
     "data": {
      "text/plain": [
       "<Figure size 850x550 with 0 Axes>"
      ]
     },
     "metadata": {},
     "output_type": "display_data"
    },
    {
     "data": {
      "text/plain": [
       "<Figure size 640x480 with 0 Axes>"
      ]
     },
     "metadata": {},
     "output_type": "display_data"
    },
    {
     "data": {
      "text/plain": [
       "<Figure size 640x480 with 0 Axes>"
      ]
     },
     "metadata": {},
     "output_type": "display_data"
    },
    {
     "data": {
      "text/plain": [
       "<Figure size 850x550 with 0 Axes>"
      ]
     },
     "metadata": {},
     "output_type": "display_data"
    },
    {
     "data": {
      "text/plain": [
       "<Figure size 640x480 with 0 Axes>"
      ]
     },
     "metadata": {},
     "output_type": "display_data"
    },
    {
     "data": {
      "text/plain": [
       "<Figure size 640x480 with 0 Axes>"
      ]
     },
     "metadata": {},
     "output_type": "display_data"
    },
    {
     "data": {
      "text/plain": [
       "<Figure size 850x550 with 0 Axes>"
      ]
     },
     "metadata": {},
     "output_type": "display_data"
    },
    {
     "data": {
      "text/plain": [
       "<Figure size 640x480 with 0 Axes>"
      ]
     },
     "metadata": {},
     "output_type": "display_data"
    },
    {
     "data": {
      "text/plain": [
       "<Figure size 640x480 with 0 Axes>"
      ]
     },
     "metadata": {},
     "output_type": "display_data"
    }
   ],
   "source": [
    "from timeit import default_timer as timer\n",
    "from functools import partial\n",
    "\n",
    "sub_class_list = *map(partial(process_grads), sub_class_list),"
   ]
  },
  {
   "cell_type": "code",
   "execution_count": 143,
   "metadata": {},
   "outputs": [],
   "source": [
    "def get_long_grads(sub_class_list):\n",
    "    \n",
    "    g1_long = sub_class_list.rest_grads_combined[['index', 'g1']].T.iloc[1:]\n",
    "    g1_long.columns = [f'g1_rest_{idx}' for idx in g1_long.columns]\n",
    "    g1_long.reset_index(drop=True, inplace=True) \n",
    "\n",
    "    g2_long = sub_class_list.rest_grads_combined[['index', 'g2']].T.iloc[1:]\n",
    "    g2_long.columns = [f'g2_rest_{idx}' for idx in g2_long.columns]\n",
    "    g2_long.reset_index(drop=True, inplace=True) \n",
    "\n",
    "    g3_long = sub_class_list.rest_grads_combined[['index', 'g3']].T.iloc[1:]\n",
    "    g3_long.columns = [f'g3_rest_{idx}' for idx in g3_long.columns]\n",
    "    g3_long.reset_index(drop=True, inplace=True) \n",
    "\n",
    "    grads_long = pd.concat([g1_long, g2_long, g3_long], axis=1)\n",
    "    pull_cols = ['SubID'] + grads_long.columns.to_list()\n",
    "\n",
    "    grads_long[['SubID']] =  int(sub_class_list.subject_num)\n",
    "\n",
    "    grads_long = grads_long[pull_cols]\n",
    "\n",
    "    sub_class_list.rest_all_grads_long = grads_long \n",
    "    \n",
    "    grads_long.to_csv(sub_class_list.plot_path+'/rest_rsa_grads_long.csv', index=False)\n",
    "    \n",
    "    return sub_class_list"
   ]
  },
  {
   "cell_type": "code",
   "execution_count": 144,
   "metadata": {},
   "outputs": [],
   "source": [
    "from timeit import default_timer as timer\n",
    "from functools import partial\n",
    "\n",
    "sub_class_list = *map(partial(get_long_grads), sub_class_list),"
   ]
  },
  {
   "cell_type": "code",
   "execution_count": 145,
   "metadata": {},
   "outputs": [],
   "source": [
    "z_data = pd.read_csv('/pl/active/banich/studies/wmem/fmri/operation_rsa/grp/gradients/analysis/ClearMem_Z_Average.csv')\n",
    "\n",
    "rrs_data = z_data[['SubID','RRS_total', 'RRS_depression', 'RRS_brooding', 'RRS_reflection']]\n",
    "\n",
    "z_data = z_data[['SubID', 'z_ave', 'PSWQ_total', 'WBSI_total']]#.merge(op_mat_sub_ids, on ='SubID')"
   ]
  },
  {
   "cell_type": "code",
   "execution_count": 146,
   "metadata": {},
   "outputs": [],
   "source": [
    "leiden_networks = (pd.read_csv('/pl/active/banich/studies/wmem/fmri/operation_rsa/grp/gradients/analysis/leiden_network_glasser_regions.csv')\n",
    "                   .iloc[:, :2])\n",
    "\n",
    "leiden_networks.columns = ['parcel', 'network']   \n",
    "\n",
    "vn_parcels = leiden_networks.query('network == \"Visual Network\"').parcel.to_list()\n",
    "smn_parcels = leiden_networks.query('network == \"Somatomotor Network\"').parcel.to_list()\n",
    "fpcn_parcels = leiden_networks.query('network == \"Frontoparietal Network\"').parcel.to_list()\n",
    "dmn_parcels = leiden_networks.query('network == \"Default Mode Network\"').parcel.to_list()"
   ]
  },
  {
   "cell_type": "code",
   "execution_count": 147,
   "metadata": {},
   "outputs": [],
   "source": [
    "subject_wide_grads_list = []\n",
    "for subject in sub_class_list:\n",
    "    subject_wide_grads_list.append(subject.rest_all_grads_long)"
   ]
  },
  {
   "cell_type": "code",
   "execution_count": 148,
   "metadata": {},
   "outputs": [],
   "source": [
    "subject_wide_grads = pd.concat(subject_wide_grads_list).reset_index(drop=True)"
   ]
  },
  {
   "cell_type": "code",
   "execution_count": 149,
   "metadata": {},
   "outputs": [],
   "source": [
    "subject_int_list = subject_wide_grads.SubID.to_list()"
   ]
  },
  {
   "cell_type": "code",
   "execution_count": 150,
   "metadata": {},
   "outputs": [],
   "source": [
    "def get_combined_grads(data, sub):\n",
    "    \n",
    "    global wm_networks\n",
    "    \n",
    "    g1_long = (data.query('SubID == @sub').filter(regex='g1').melt()\n",
    "               .reset_index().rename({'index':'parcel_id', 'value':'g1'}, axis=1).drop('variable', axis=1))\n",
    "\n",
    "    g2_long = (data.query('SubID == @sub').filter(regex='g2').melt()\n",
    "               .reset_index().rename({'index':'parcel_id', 'value':'g2'}, axis=1).drop('variable', axis=1))\n",
    "\n",
    "    g3_long = (data.query('SubID == @sub').filter(regex='g3').melt()\n",
    "               .reset_index().rename({'index':'parcel_id',  'value':'g3'}, axis=1).drop('variable', axis=1))\n",
    "\n",
    "    combined_grads = pd.concat([g1_long, g2_long[['g2']], g3_long[['g3']]], axis=1)\n",
    "    combined_grads[['parcel_id']] = combined_grads[['parcel_id']]+1\n",
    "    combined_grads = pd.merge(wm_networks, combined_grads, on='parcel_id').reset_index()\n",
    "    \n",
    "    pull_cols = ['SubID']+combined_grads.columns.to_list()\n",
    "    \n",
    "    combined_grads[['SubID']] = sub\n",
    "    \n",
    "    combined_grads = combined_grads[pull_cols]\n",
    "    \n",
    "    return combined_grads\n",
    "\n",
    "subject_int_list = subject_wide_grads.SubID.to_list()\n",
    "sub_combined_grads = []\n",
    "for i in subject_int_list:\n",
    "    sub_combined_grads.append(get_combined_grads(subject_wide_grads, i))"
   ]
  },
  {
   "cell_type": "code",
   "execution_count": 151,
   "metadata": {},
   "outputs": [],
   "source": [
    "def mah_cent_dist(data):\n",
    "    \n",
    "    from scipy.spatial.distance import mahalanobis\n",
    "    \n",
    "    df = data[['g1', 'g2', 'g3']]\n",
    "\n",
    "    # Calculate the mean vector for each column\n",
    "    mu = df.mean()\n",
    "\n",
    "    cov = df.cov()\n",
    "    # Calculate the inverse of the covariance matrix\n",
    "    inv_cov = np.linalg.inv(cov)\n",
    "\n",
    "    # Calculate the pairwise Mahalanobis distance between each row and the mean vector\n",
    "    distances = []\n",
    "    for index, row in df.iterrows():\n",
    "        distance = mahalanobis(row, mu, inv_cov)\n",
    "        distances.append(distance)\n",
    "\n",
    "    # Convert the distances list to a pandas series and add it as a new column to the data frame\n",
    "    df['md'] = pd.DataFrame(distances, index=df.index)\n",
    "\n",
    "    df = df.assign(SubID=data[['SubID']], parcel=data['index'])\n",
    "    df = df.assign(cent_mah_md = 'rest_'+ df['parcel'].astype(str) + '_md')\n",
    "    df = df[['cent_mah_md', 'SubID', 'md']]\n",
    "\n",
    "    return df"
   ]
  },
  {
   "cell_type": "code",
   "execution_count": 152,
   "metadata": {},
   "outputs": [],
   "source": [
    "def mah_dist(data, parcels, network):\n",
    "    \n",
    "    data_sub = data.reset_index().iloc[parcels]\n",
    "   \n",
    "    from scipy.spatial.distance import mahalanobis\n",
    "\n",
    "    # Generate a random data frame with 95 rows and 3 columns\n",
    "    df = data_sub[['g1', 'g2', 'g3']]\n",
    "\n",
    "    # Calculate the mean vector for each column\n",
    "    mu = df.mean()\n",
    "\n",
    "    cov = df.cov()\n",
    "    # Calculate the inverse of the covariance matrix\n",
    "    inv_cov = np.linalg.inv(cov)\n",
    "\n",
    "    # Calculate the pairwise Mahalanobis distance between each row and the mean vector\n",
    "    distances = []\n",
    "    for index, row in df.iterrows():\n",
    "        distance = mahalanobis(row, mu, inv_cov)\n",
    "        distances.append(distance)\n",
    "\n",
    "    # Convert the distances list to a pandas series and add it as a new column to the data frame\n",
    "    df['md'] = pd.DataFrame(distances, index=df.index)\n",
    "    df['md'] = df['md']#*-1\n",
    "    df = df.assign(SubID=data['SubID'], parcel=data['index'], net=network)\n",
    "    df = df.assign(net_mah_md = 'rest_'+ df['parcel'].astype(str) + '_md_'+df['net'])\n",
    "    df = df[['net_mah_md', 'parcel', 'SubID', 'md']]\n",
    "    \n",
    "    return df"
   ]
  },
  {
   "cell_type": "code",
   "execution_count": 153,
   "metadata": {},
   "outputs": [],
   "source": [
    "sub_mah_dist_list = []\n",
    "for i in range(len(sub_combined_grads)):\n",
    "    sub_mah_dist_list.append(mah_cent_dist(sub_combined_grads[i]))\n",
    "\n",
    "sub_net_dist_list = []\n",
    "for i in sub_combined_grads:\n",
    "     for k,l in zip([vn_parcels, smn_parcels, fpcn_parcels,dmn_parcels], \n",
    "                       ['vn', 'smn', 'fpcn','dmn']):\n",
    "            sub_net_dist_list.append(mah_dist(i, k, l))"
   ]
  },
  {
   "cell_type": "code",
   "execution_count": 154,
   "metadata": {},
   "outputs": [],
   "source": [
    "net_mah = (pd.concat(sub_net_dist_list)\n",
    "           .pivot(index='SubID', columns='net_mah_md', values='md')\n",
    "           .reset_index())"
   ]
  },
  {
   "cell_type": "code",
   "execution_count": 155,
   "metadata": {},
   "outputs": [],
   "source": [
    "def md_mean(data, parcels, net):\n",
    "    \n",
    "    means = (data\n",
    "             .filter(regex='md')\n",
    "             .filter(regex='rest')\n",
    "             .filter(regex=net)\n",
    "             .sum(axis=1)\n",
    "            )#.rename(columns=lambda x: x.replace(op+'_md_', '')).iloc[:, parcels].mean(axis=1)\n",
    "    \n",
    "    data['rest_'+net+'_dispersion_md'] = means\n",
    "    return data\n",
    "\n",
    "for j,k in zip([vn_parcels, smn_parcels, fpcn_parcels, dmn_parcels], ['vn', 'smn', 'fpcn', 'dmn']):\n",
    "    all_sub_data= md_mean(net_mah , j, k)"
   ]
  },
  {
   "cell_type": "code",
   "execution_count": 156,
   "metadata": {},
   "outputs": [
    {
     "data": {
      "text/html": [
       "<div>\n",
       "<style scoped>\n",
       "    .dataframe tbody tr th:only-of-type {\n",
       "        vertical-align: middle;\n",
       "    }\n",
       "\n",
       "    .dataframe tbody tr th {\n",
       "        vertical-align: top;\n",
       "    }\n",
       "\n",
       "    .dataframe thead th {\n",
       "        text-align: right;\n",
       "    }\n",
       "</style>\n",
       "<table border=\"1\" class=\"dataframe\">\n",
       "  <thead>\n",
       "    <tr style=\"text-align: right;\">\n",
       "      <th>net_mah_md</th>\n",
       "      <th>SubID</th>\n",
       "      <th>rest_vn_dispersion_md</th>\n",
       "      <th>rest_smn_dispersion_md</th>\n",
       "      <th>rest_fpcn_dispersion_md</th>\n",
       "      <th>rest_dmn_dispersion_md</th>\n",
       "    </tr>\n",
       "  </thead>\n",
       "  <tbody>\n",
       "    <tr>\n",
       "      <th>0</th>\n",
       "      <td>1</td>\n",
       "      <td>145.193960</td>\n",
       "      <td>101.772498</td>\n",
       "      <td>166.919242</td>\n",
       "      <td>157.959983</td>\n",
       "    </tr>\n",
       "    <tr>\n",
       "      <th>1</th>\n",
       "      <td>2</td>\n",
       "      <td>147.685115</td>\n",
       "      <td>101.674672</td>\n",
       "      <td>156.483663</td>\n",
       "      <td>145.335503</td>\n",
       "    </tr>\n",
       "    <tr>\n",
       "      <th>2</th>\n",
       "      <td>4</td>\n",
       "      <td>139.060873</td>\n",
       "      <td>85.493709</td>\n",
       "      <td>162.472245</td>\n",
       "      <td>151.632740</td>\n",
       "    </tr>\n",
       "    <tr>\n",
       "      <th>3</th>\n",
       "      <td>5</td>\n",
       "      <td>153.175434</td>\n",
       "      <td>99.555389</td>\n",
       "      <td>165.805179</td>\n",
       "      <td>142.915301</td>\n",
       "    </tr>\n",
       "    <tr>\n",
       "      <th>4</th>\n",
       "      <td>6</td>\n",
       "      <td>154.618469</td>\n",
       "      <td>97.684237</td>\n",
       "      <td>164.637304</td>\n",
       "      <td>147.408483</td>\n",
       "    </tr>\n",
       "    <tr>\n",
       "      <th>5</th>\n",
       "      <td>8</td>\n",
       "      <td>144.550411</td>\n",
       "      <td>92.724211</td>\n",
       "      <td>156.032343</td>\n",
       "      <td>161.695358</td>\n",
       "    </tr>\n",
       "    <tr>\n",
       "      <th>6</th>\n",
       "      <td>9</td>\n",
       "      <td>148.069718</td>\n",
       "      <td>101.734023</td>\n",
       "      <td>161.488922</td>\n",
       "      <td>161.679227</td>\n",
       "    </tr>\n",
       "    <tr>\n",
       "      <th>7</th>\n",
       "      <td>10</td>\n",
       "      <td>109.325349</td>\n",
       "      <td>97.083180</td>\n",
       "      <td>157.433991</td>\n",
       "      <td>155.973719</td>\n",
       "    </tr>\n",
       "    <tr>\n",
       "      <th>8</th>\n",
       "      <td>11</td>\n",
       "      <td>145.993265</td>\n",
       "      <td>96.972514</td>\n",
       "      <td>161.680181</td>\n",
       "      <td>160.180068</td>\n",
       "    </tr>\n",
       "    <tr>\n",
       "      <th>9</th>\n",
       "      <td>12</td>\n",
       "      <td>142.526944</td>\n",
       "      <td>96.101270</td>\n",
       "      <td>157.519478</td>\n",
       "      <td>155.212755</td>\n",
       "    </tr>\n",
       "    <tr>\n",
       "      <th>10</th>\n",
       "      <td>13</td>\n",
       "      <td>142.710114</td>\n",
       "      <td>95.066098</td>\n",
       "      <td>157.812113</td>\n",
       "      <td>155.616365</td>\n",
       "    </tr>\n",
       "    <tr>\n",
       "      <th>11</th>\n",
       "      <td>15</td>\n",
       "      <td>141.833778</td>\n",
       "      <td>100.295953</td>\n",
       "      <td>155.721732</td>\n",
       "      <td>152.588354</td>\n",
       "    </tr>\n",
       "    <tr>\n",
       "      <th>12</th>\n",
       "      <td>17</td>\n",
       "      <td>142.356697</td>\n",
       "      <td>94.778843</td>\n",
       "      <td>153.944588</td>\n",
       "      <td>151.357445</td>\n",
       "    </tr>\n",
       "    <tr>\n",
       "      <th>13</th>\n",
       "      <td>18</td>\n",
       "      <td>147.438249</td>\n",
       "      <td>103.785763</td>\n",
       "      <td>165.310023</td>\n",
       "      <td>151.777039</td>\n",
       "    </tr>\n",
       "    <tr>\n",
       "      <th>14</th>\n",
       "      <td>20</td>\n",
       "      <td>137.210144</td>\n",
       "      <td>92.133246</td>\n",
       "      <td>155.568906</td>\n",
       "      <td>145.749816</td>\n",
       "    </tr>\n",
       "    <tr>\n",
       "      <th>15</th>\n",
       "      <td>21</td>\n",
       "      <td>147.043904</td>\n",
       "      <td>91.475234</td>\n",
       "      <td>153.340017</td>\n",
       "      <td>145.258533</td>\n",
       "    </tr>\n",
       "    <tr>\n",
       "      <th>16</th>\n",
       "      <td>22</td>\n",
       "      <td>137.313093</td>\n",
       "      <td>89.565503</td>\n",
       "      <td>162.741740</td>\n",
       "      <td>159.108083</td>\n",
       "    </tr>\n",
       "    <tr>\n",
       "      <th>17</th>\n",
       "      <td>23</td>\n",
       "      <td>147.603158</td>\n",
       "      <td>104.151551</td>\n",
       "      <td>160.787740</td>\n",
       "      <td>158.024382</td>\n",
       "    </tr>\n",
       "    <tr>\n",
       "      <th>18</th>\n",
       "      <td>27</td>\n",
       "      <td>153.521677</td>\n",
       "      <td>93.297607</td>\n",
       "      <td>157.192165</td>\n",
       "      <td>147.479842</td>\n",
       "    </tr>\n",
       "    <tr>\n",
       "      <th>19</th>\n",
       "      <td>29</td>\n",
       "      <td>141.557658</td>\n",
       "      <td>100.077903</td>\n",
       "      <td>158.643804</td>\n",
       "      <td>156.591442</td>\n",
       "    </tr>\n",
       "    <tr>\n",
       "      <th>20</th>\n",
       "      <td>31</td>\n",
       "      <td>138.088106</td>\n",
       "      <td>93.949976</td>\n",
       "      <td>163.474596</td>\n",
       "      <td>155.440876</td>\n",
       "    </tr>\n",
       "    <tr>\n",
       "      <th>21</th>\n",
       "      <td>32</td>\n",
       "      <td>137.379449</td>\n",
       "      <td>85.892107</td>\n",
       "      <td>161.307974</td>\n",
       "      <td>152.941692</td>\n",
       "    </tr>\n",
       "    <tr>\n",
       "      <th>22</th>\n",
       "      <td>33</td>\n",
       "      <td>149.480992</td>\n",
       "      <td>96.628188</td>\n",
       "      <td>163.477543</td>\n",
       "      <td>147.792743</td>\n",
       "    </tr>\n",
       "    <tr>\n",
       "      <th>23</th>\n",
       "      <td>34</td>\n",
       "      <td>149.135341</td>\n",
       "      <td>97.831360</td>\n",
       "      <td>157.300654</td>\n",
       "      <td>156.626813</td>\n",
       "    </tr>\n",
       "    <tr>\n",
       "      <th>24</th>\n",
       "      <td>35</td>\n",
       "      <td>149.104379</td>\n",
       "      <td>103.040823</td>\n",
       "      <td>162.899968</td>\n",
       "      <td>152.891800</td>\n",
       "    </tr>\n",
       "    <tr>\n",
       "      <th>25</th>\n",
       "      <td>36</td>\n",
       "      <td>152.604630</td>\n",
       "      <td>100.242659</td>\n",
       "      <td>156.744023</td>\n",
       "      <td>147.707581</td>\n",
       "    </tr>\n",
       "    <tr>\n",
       "      <th>26</th>\n",
       "      <td>40</td>\n",
       "      <td>133.977049</td>\n",
       "      <td>94.606942</td>\n",
       "      <td>156.759493</td>\n",
       "      <td>148.791722</td>\n",
       "    </tr>\n",
       "    <tr>\n",
       "      <th>27</th>\n",
       "      <td>42</td>\n",
       "      <td>127.319295</td>\n",
       "      <td>98.637576</td>\n",
       "      <td>157.922992</td>\n",
       "      <td>155.899710</td>\n",
       "    </tr>\n",
       "    <tr>\n",
       "      <th>28</th>\n",
       "      <td>44</td>\n",
       "      <td>111.905477</td>\n",
       "      <td>96.124955</td>\n",
       "      <td>152.901509</td>\n",
       "      <td>134.681212</td>\n",
       "    </tr>\n",
       "    <tr>\n",
       "      <th>29</th>\n",
       "      <td>45</td>\n",
       "      <td>142.896964</td>\n",
       "      <td>90.013887</td>\n",
       "      <td>162.618153</td>\n",
       "      <td>156.124894</td>\n",
       "    </tr>\n",
       "    <tr>\n",
       "      <th>30</th>\n",
       "      <td>46</td>\n",
       "      <td>139.145304</td>\n",
       "      <td>97.320889</td>\n",
       "      <td>163.666992</td>\n",
       "      <td>148.525947</td>\n",
       "    </tr>\n",
       "    <tr>\n",
       "      <th>31</th>\n",
       "      <td>47</td>\n",
       "      <td>140.428390</td>\n",
       "      <td>92.211159</td>\n",
       "      <td>160.672982</td>\n",
       "      <td>145.675408</td>\n",
       "    </tr>\n",
       "    <tr>\n",
       "      <th>32</th>\n",
       "      <td>50</td>\n",
       "      <td>150.348853</td>\n",
       "      <td>103.276935</td>\n",
       "      <td>161.849430</td>\n",
       "      <td>155.082159</td>\n",
       "    </tr>\n",
       "    <tr>\n",
       "      <th>33</th>\n",
       "      <td>52</td>\n",
       "      <td>134.069011</td>\n",
       "      <td>96.150455</td>\n",
       "      <td>159.958797</td>\n",
       "      <td>152.755788</td>\n",
       "    </tr>\n",
       "    <tr>\n",
       "      <th>34</th>\n",
       "      <td>53</td>\n",
       "      <td>141.354300</td>\n",
       "      <td>101.010627</td>\n",
       "      <td>160.284826</td>\n",
       "      <td>147.856204</td>\n",
       "    </tr>\n",
       "    <tr>\n",
       "      <th>35</th>\n",
       "      <td>54</td>\n",
       "      <td>136.953828</td>\n",
       "      <td>90.717964</td>\n",
       "      <td>157.773171</td>\n",
       "      <td>152.000294</td>\n",
       "    </tr>\n",
       "    <tr>\n",
       "      <th>36</th>\n",
       "      <td>55</td>\n",
       "      <td>133.261990</td>\n",
       "      <td>99.079170</td>\n",
       "      <td>158.025622</td>\n",
       "      <td>156.581728</td>\n",
       "    </tr>\n",
       "    <tr>\n",
       "      <th>37</th>\n",
       "      <td>57</td>\n",
       "      <td>137.701737</td>\n",
       "      <td>94.012726</td>\n",
       "      <td>162.510310</td>\n",
       "      <td>146.065470</td>\n",
       "    </tr>\n",
       "    <tr>\n",
       "      <th>38</th>\n",
       "      <td>59</td>\n",
       "      <td>150.190305</td>\n",
       "      <td>84.196305</td>\n",
       "      <td>161.924865</td>\n",
       "      <td>149.987291</td>\n",
       "    </tr>\n",
       "    <tr>\n",
       "      <th>39</th>\n",
       "      <td>61</td>\n",
       "      <td>133.743265</td>\n",
       "      <td>96.443611</td>\n",
       "      <td>158.304768</td>\n",
       "      <td>155.954906</td>\n",
       "    </tr>\n",
       "    <tr>\n",
       "      <th>40</th>\n",
       "      <td>62</td>\n",
       "      <td>143.356888</td>\n",
       "      <td>103.203309</td>\n",
       "      <td>162.374538</td>\n",
       "      <td>157.309790</td>\n",
       "    </tr>\n",
       "    <tr>\n",
       "      <th>41</th>\n",
       "      <td>63</td>\n",
       "      <td>133.554119</td>\n",
       "      <td>94.380310</td>\n",
       "      <td>146.333889</td>\n",
       "      <td>151.163414</td>\n",
       "    </tr>\n",
       "    <tr>\n",
       "      <th>42</th>\n",
       "      <td>64</td>\n",
       "      <td>151.268203</td>\n",
       "      <td>90.816608</td>\n",
       "      <td>160.832449</td>\n",
       "      <td>152.573591</td>\n",
       "    </tr>\n",
       "    <tr>\n",
       "      <th>43</th>\n",
       "      <td>65</td>\n",
       "      <td>141.193222</td>\n",
       "      <td>100.567043</td>\n",
       "      <td>151.261264</td>\n",
       "      <td>158.811023</td>\n",
       "    </tr>\n",
       "    <tr>\n",
       "      <th>44</th>\n",
       "      <td>67</td>\n",
       "      <td>142.662073</td>\n",
       "      <td>100.956617</td>\n",
       "      <td>150.871210</td>\n",
       "      <td>149.752394</td>\n",
       "    </tr>\n",
       "    <tr>\n",
       "      <th>45</th>\n",
       "      <td>68</td>\n",
       "      <td>137.201618</td>\n",
       "      <td>81.535132</td>\n",
       "      <td>150.173118</td>\n",
       "      <td>157.867865</td>\n",
       "    </tr>\n",
       "    <tr>\n",
       "      <th>46</th>\n",
       "      <td>69</td>\n",
       "      <td>156.704694</td>\n",
       "      <td>101.153513</td>\n",
       "      <td>166.553848</td>\n",
       "      <td>153.790360</td>\n",
       "    </tr>\n",
       "    <tr>\n",
       "      <th>47</th>\n",
       "      <td>72</td>\n",
       "      <td>149.848897</td>\n",
       "      <td>102.149817</td>\n",
       "      <td>157.582685</td>\n",
       "      <td>145.585366</td>\n",
       "    </tr>\n",
       "    <tr>\n",
       "      <th>48</th>\n",
       "      <td>75</td>\n",
       "      <td>152.288145</td>\n",
       "      <td>101.757788</td>\n",
       "      <td>156.247597</td>\n",
       "      <td>154.222700</td>\n",
       "    </tr>\n",
       "    <tr>\n",
       "      <th>49</th>\n",
       "      <td>76</td>\n",
       "      <td>142.507982</td>\n",
       "      <td>89.224113</td>\n",
       "      <td>158.979313</td>\n",
       "      <td>153.042657</td>\n",
       "    </tr>\n",
       "    <tr>\n",
       "      <th>50</th>\n",
       "      <td>77</td>\n",
       "      <td>142.719371</td>\n",
       "      <td>98.439943</td>\n",
       "      <td>162.118881</td>\n",
       "      <td>152.296337</td>\n",
       "    </tr>\n",
       "    <tr>\n",
       "      <th>51</th>\n",
       "      <td>78</td>\n",
       "      <td>148.325075</td>\n",
       "      <td>98.876688</td>\n",
       "      <td>152.299888</td>\n",
       "      <td>162.605309</td>\n",
       "    </tr>\n",
       "    <tr>\n",
       "      <th>52</th>\n",
       "      <td>79</td>\n",
       "      <td>134.179562</td>\n",
       "      <td>93.582680</td>\n",
       "      <td>162.019153</td>\n",
       "      <td>159.572895</td>\n",
       "    </tr>\n",
       "    <tr>\n",
       "      <th>53</th>\n",
       "      <td>80</td>\n",
       "      <td>145.821174</td>\n",
       "      <td>85.616016</td>\n",
       "      <td>144.883055</td>\n",
       "      <td>145.128089</td>\n",
       "    </tr>\n",
       "    <tr>\n",
       "      <th>54</th>\n",
       "      <td>81</td>\n",
       "      <td>143.269527</td>\n",
       "      <td>100.699459</td>\n",
       "      <td>155.344742</td>\n",
       "      <td>155.903495</td>\n",
       "    </tr>\n",
       "    <tr>\n",
       "      <th>55</th>\n",
       "      <td>82</td>\n",
       "      <td>144.562168</td>\n",
       "      <td>101.945048</td>\n",
       "      <td>146.094156</td>\n",
       "      <td>152.905915</td>\n",
       "    </tr>\n",
       "    <tr>\n",
       "      <th>56</th>\n",
       "      <td>83</td>\n",
       "      <td>142.585200</td>\n",
       "      <td>93.443468</td>\n",
       "      <td>154.912657</td>\n",
       "      <td>156.567127</td>\n",
       "    </tr>\n",
       "    <tr>\n",
       "      <th>57</th>\n",
       "      <td>84</td>\n",
       "      <td>149.562059</td>\n",
       "      <td>98.635538</td>\n",
       "      <td>152.800994</td>\n",
       "      <td>158.335376</td>\n",
       "    </tr>\n",
       "  </tbody>\n",
       "</table>\n",
       "</div>"
      ],
      "text/plain": [
       "net_mah_md  SubID  rest_vn_dispersion_md  rest_smn_dispersion_md  \\\n",
       "0               1             145.193960              101.772498   \n",
       "1               2             147.685115              101.674672   \n",
       "2               4             139.060873               85.493709   \n",
       "3               5             153.175434               99.555389   \n",
       "4               6             154.618469               97.684237   \n",
       "5               8             144.550411               92.724211   \n",
       "6               9             148.069718              101.734023   \n",
       "7              10             109.325349               97.083180   \n",
       "8              11             145.993265               96.972514   \n",
       "9              12             142.526944               96.101270   \n",
       "10             13             142.710114               95.066098   \n",
       "11             15             141.833778              100.295953   \n",
       "12             17             142.356697               94.778843   \n",
       "13             18             147.438249              103.785763   \n",
       "14             20             137.210144               92.133246   \n",
       "15             21             147.043904               91.475234   \n",
       "16             22             137.313093               89.565503   \n",
       "17             23             147.603158              104.151551   \n",
       "18             27             153.521677               93.297607   \n",
       "19             29             141.557658              100.077903   \n",
       "20             31             138.088106               93.949976   \n",
       "21             32             137.379449               85.892107   \n",
       "22             33             149.480992               96.628188   \n",
       "23             34             149.135341               97.831360   \n",
       "24             35             149.104379              103.040823   \n",
       "25             36             152.604630              100.242659   \n",
       "26             40             133.977049               94.606942   \n",
       "27             42             127.319295               98.637576   \n",
       "28             44             111.905477               96.124955   \n",
       "29             45             142.896964               90.013887   \n",
       "30             46             139.145304               97.320889   \n",
       "31             47             140.428390               92.211159   \n",
       "32             50             150.348853              103.276935   \n",
       "33             52             134.069011               96.150455   \n",
       "34             53             141.354300              101.010627   \n",
       "35             54             136.953828               90.717964   \n",
       "36             55             133.261990               99.079170   \n",
       "37             57             137.701737               94.012726   \n",
       "38             59             150.190305               84.196305   \n",
       "39             61             133.743265               96.443611   \n",
       "40             62             143.356888              103.203309   \n",
       "41             63             133.554119               94.380310   \n",
       "42             64             151.268203               90.816608   \n",
       "43             65             141.193222              100.567043   \n",
       "44             67             142.662073              100.956617   \n",
       "45             68             137.201618               81.535132   \n",
       "46             69             156.704694              101.153513   \n",
       "47             72             149.848897              102.149817   \n",
       "48             75             152.288145              101.757788   \n",
       "49             76             142.507982               89.224113   \n",
       "50             77             142.719371               98.439943   \n",
       "51             78             148.325075               98.876688   \n",
       "52             79             134.179562               93.582680   \n",
       "53             80             145.821174               85.616016   \n",
       "54             81             143.269527              100.699459   \n",
       "55             82             144.562168              101.945048   \n",
       "56             83             142.585200               93.443468   \n",
       "57             84             149.562059               98.635538   \n",
       "\n",
       "net_mah_md  rest_fpcn_dispersion_md  rest_dmn_dispersion_md  \n",
       "0                        166.919242              157.959983  \n",
       "1                        156.483663              145.335503  \n",
       "2                        162.472245              151.632740  \n",
       "3                        165.805179              142.915301  \n",
       "4                        164.637304              147.408483  \n",
       "5                        156.032343              161.695358  \n",
       "6                        161.488922              161.679227  \n",
       "7                        157.433991              155.973719  \n",
       "8                        161.680181              160.180068  \n",
       "9                        157.519478              155.212755  \n",
       "10                       157.812113              155.616365  \n",
       "11                       155.721732              152.588354  \n",
       "12                       153.944588              151.357445  \n",
       "13                       165.310023              151.777039  \n",
       "14                       155.568906              145.749816  \n",
       "15                       153.340017              145.258533  \n",
       "16                       162.741740              159.108083  \n",
       "17                       160.787740              158.024382  \n",
       "18                       157.192165              147.479842  \n",
       "19                       158.643804              156.591442  \n",
       "20                       163.474596              155.440876  \n",
       "21                       161.307974              152.941692  \n",
       "22                       163.477543              147.792743  \n",
       "23                       157.300654              156.626813  \n",
       "24                       162.899968              152.891800  \n",
       "25                       156.744023              147.707581  \n",
       "26                       156.759493              148.791722  \n",
       "27                       157.922992              155.899710  \n",
       "28                       152.901509              134.681212  \n",
       "29                       162.618153              156.124894  \n",
       "30                       163.666992              148.525947  \n",
       "31                       160.672982              145.675408  \n",
       "32                       161.849430              155.082159  \n",
       "33                       159.958797              152.755788  \n",
       "34                       160.284826              147.856204  \n",
       "35                       157.773171              152.000294  \n",
       "36                       158.025622              156.581728  \n",
       "37                       162.510310              146.065470  \n",
       "38                       161.924865              149.987291  \n",
       "39                       158.304768              155.954906  \n",
       "40                       162.374538              157.309790  \n",
       "41                       146.333889              151.163414  \n",
       "42                       160.832449              152.573591  \n",
       "43                       151.261264              158.811023  \n",
       "44                       150.871210              149.752394  \n",
       "45                       150.173118              157.867865  \n",
       "46                       166.553848              153.790360  \n",
       "47                       157.582685              145.585366  \n",
       "48                       156.247597              154.222700  \n",
       "49                       158.979313              153.042657  \n",
       "50                       162.118881              152.296337  \n",
       "51                       152.299888              162.605309  \n",
       "52                       162.019153              159.572895  \n",
       "53                       144.883055              145.128089  \n",
       "54                       155.344742              155.903495  \n",
       "55                       146.094156              152.905915  \n",
       "56                       154.912657              156.567127  \n",
       "57                       152.800994              158.335376  "
      ]
     },
     "execution_count": 156,
     "metadata": {},
     "output_type": "execute_result"
    }
   ],
   "source": [
    "sub_within_network_disp = all_sub_data.filter(regex='SubID|dispersion_md')\n",
    "sub_within_network_disp "
   ]
  },
  {
   "cell_type": "code",
   "execution_count": 157,
   "metadata": {},
   "outputs": [],
   "source": [
    "combined_all = pd.concat(sub_combined_grads).drop('parcel_id', axis=1)\n",
    "combined_all.columns = ['SubID', 'index', 'Subtype', 'rest_rsa_g1', 'rest_rsa_g2', 'rest_rsa_g3']"
   ]
  },
  {
   "cell_type": "code",
   "execution_count": 158,
   "metadata": {},
   "outputs": [],
   "source": [
    "def get_modularity(data, op):\n",
    "    \n",
    "    from scipy.stats import spearmanr, pearsonr\n",
    "    from scipy import stats\n",
    "    from scipy.spatial import distance\n",
    "    import math\n",
    "    import networkx as nx\n",
    "    import numpy as np\n",
    "    \n",
    "        #=======================================================================================================#\n",
    "    def hadamard(nearest):\n",
    "        \"\"\"\n",
    "        This function converts a directed adjacency matrix to a matrix of Hadamard distances\n",
    "        based on the overlap of neighbors. The implementation is efficiently based\n",
    "        on matrix multiplications.\n",
    "        A an N-by-N adjacency matrix holding TRUE or 1 values for edges an N-by-N matrix with\n",
    "        the Hadamard coefficient of neighbor overlap.\n",
    "        \"\"\"\n",
    "\n",
    "        common = nearest.T @ nearest\n",
    "        ranks = np.outer(np.diag(common), np.ones(nearest.shape[0]))\n",
    "        neighborUnion = ranks + ranks.T - common\n",
    "        G = common / neighborUnion\n",
    "        np.fill_diagonal(G, 0)\n",
    "\n",
    "        return G\n",
    "\n",
    "    #=======================================================================================================#\n",
    "    def topMax(x, N):\n",
    "        \"\"\"\n",
    "        find Nth largest number in an array\n",
    "        \"\"\"\n",
    "\n",
    "        L = len(x)\n",
    "        assert N < L, 'Number of neighbors cannot be larger than length of data'\n",
    "\n",
    "        while L != 1:\n",
    "            initial_guess = x[0]\n",
    "            top_list = x[x > initial_guess]\n",
    "            bottom_list = x[x < initial_guess]\n",
    "\n",
    "            topL = len(top_list)\n",
    "            bottomL = len(bottom_list)\n",
    "\n",
    "            if (topL < N) and (L - bottomL >= N):\n",
    "                x = initial_guess\n",
    "                break\n",
    "\n",
    "            if topL >= N:\n",
    "                x = top_list\n",
    "            else:\n",
    "                x = bottom_list\n",
    "                N = N - L + bottomL\n",
    "            L = len(x)\n",
    "\n",
    "        return x\n",
    "\n",
    "    #=======================================================================================================#\n",
    "    def bottomMin(x, N):\n",
    "        \"\"\"\n",
    "        find Nth smallest number in an array\n",
    "        \"\"\"\n",
    "\n",
    "        return np.round(topMax(x, len(x) - N + 1))\n",
    "\n",
    "    #=======================================================================================================#\n",
    "    def find_neighbors(D, k):\n",
    "        \"\"\"\n",
    "        Tranform distance matrix to binary k-nearest neighbors graph\n",
    "        \"\"\"\n",
    "\n",
    "        nearest = np.zeros(D.shape)\n",
    "        for i in range(nearest.shape[1]):\n",
    "            nearest[:,i] = np.round(D[:,i]) <= bottomMin(np.round(D[:,i]), k)\n",
    "\n",
    "\n",
    "        return nearest\n",
    "\n",
    "    df = data.filter(regex=op)\n",
    "    # Assuming your DataFrame is named df and has columns 'maintain_g1', 'maintain_g2', 'maintain_g3'\n",
    "    data_columns = df.columns\n",
    "    \n",
    "   #mahal = '''\n",
    "    ########\n",
    "        # Calculate the inverse of the covariance matrix\n",
    "    from scipy.linalg import inv  # Ensure this import statement is included\n",
    "\n",
    "    cov_matrix = np.cov(df[data_columns].values, rowvar=False)\n",
    "    inv_cov_matrix = inv(cov_matrix)\n",
    "\n",
    "    # Function to calculate the Mahalanobis distance matrix\n",
    "    def mahalanobis_matrix(data, inv_cov_matrix):\n",
    "        n = data.shape[0]\n",
    "        mahal_matrix = np.zeros((n, n))\n",
    "\n",
    "        for i in range(n):\n",
    "            for j in range(i, n):\n",
    "                diff = data[i] - data[j]\n",
    "                dist = np.dot(np.dot(diff, inv_cov_matrix), diff.T)\n",
    "                mahal_matrix[i, j] = np.sqrt(dist)\n",
    "                mahal_matrix[j, i] = mahal_matrix[i, j]  # Since the matrix is symmetric\n",
    "\n",
    "        return mahal_matrix\n",
    "\n",
    "    # Calculate the Mahalanobis distance matrix\n",
    "    data_values = df[data_columns].values\n",
    "    mahal_matrix = mahalanobis_matrix(data_values, inv_cov_matrix)\n",
    "    # If you want to put this matrix into a DataFrame (optional):\n",
    "    mahal_df = pd.DataFrame(mahal_matrix, index=df.index, columns=df.index)\n",
    "    ########\n",
    "    #'''\n",
    "        \n",
    "    #X_Z =  np.array(df)\n",
    "    #D, rho = spearmanr(np.array(X_Z), axis=1)\n",
    "    #D = np.round((X_Z.shape[1]**3 - X_Z.shape[1]) * (1 - D) / 6).astype(np.int)\n",
    "    #D = rho\n",
    "    D = np.array(mahal_df)\n",
    "    #k = np.ceil(math.sqrt(D.shape[0]))\n",
    "\n",
    "    #nearest = find_neighbors(D, k + 1)\n",
    "    #G = hadamard(nearest)  \n",
    "    adjacency_matrix = np.array(mahal_df)\n",
    "    gframe = pd.DataFrame(D)\n",
    "    #gframe = reduce_memory_usage(gframe)\n",
    "    graph = Graph.Weighted_Adjacency(gframe.values.tolist(), mode=ADJ_UNDIRECTED, attr=\"weight\")\n",
    "    G = graph.to_networkx()\n",
    "    \n",
    "    def calculate_modularity_and_contributions(adjacency_matrix, communities):\n",
    "        \n",
    "        m = adjacency_matrix.sum() / 2.0  # Total weight of edges in the graph, for weighted networks\n",
    "        total_modularity = 0.0\n",
    "        community_contributions = []\n",
    "\n",
    "        for community in communities:\n",
    "            L_c = 0.0  # Total weight of all the edges within a community, for weighted networks\n",
    "            D_c = 0.0  # Total degree (sum of edge weights) of the nodes in the community\n",
    "            for i in community:\n",
    "                for j in community:\n",
    "                    L_c += adjacency_matrix[i, j]\n",
    "                D_c += adjacency_matrix[i].sum()\n",
    "\n",
    "            # Modularity contribution from this community\n",
    "            contribution = (L_c / (2 * m)) - (D_c / (2 * m)) ** 2\n",
    "            community_contributions.append(abs(contribution))\n",
    "            total_modularity += abs(contribution)\n",
    "\n",
    "        return total_modularity, community_contributions\n",
    "\n",
    "    communities = np.array(data.Subtype)\n",
    "\n",
    "    import numpy as np\n",
    "\n",
    "    # Assuming `communities` is a NumPy array where each element is the community label of a node\n",
    "    unique_communities = np.unique(communities)\n",
    "    community_lists = [np.where(communities == community)[0].tolist() for community in unique_communities]\n",
    "\n",
    "    # Now you can use `community_lists` with the function\n",
    "    total_modularity, contributions = calculate_modularity_and_contributions(adjacency_matrix, community_lists)\n",
    "\n",
    "    return total_modularity, contributions\n",
    "\n",
    "\n",
    "def get_mods(data, sub):\n",
    "    # Get modularity for 'rest'\n",
    "    group_mod = get_modularity(data, 'rest')\n",
    "    \n",
    "    # Extract and clean modularity values\n",
    "    rest_mod = [group_mod[0]]\n",
    "    vn_rest_mod, smn_rest_mod, fpcn_rest_mod, dmn_rest_mod = group_mod[1]\n",
    "    \n",
    "    # Create DataFrame with the cleaned modularity values\n",
    "    mods_df = pd.DataFrame({\n",
    "        'SubID': [sub],\n",
    "        'rest_mod': rest_mod,\n",
    "        'vn_rest_mod': [vn_rest_mod],\n",
    "        'smn_rest_mod': [smn_rest_mod],\n",
    "        'fpcn_rest_mod': [fpcn_rest_mod],\n",
    "        'dmn_rest_mod': [dmn_rest_mod]\n",
    "    })\n",
    "    \n",
    "    return mods_df\n"
   ]
  },
  {
   "cell_type": "code",
   "execution_count": 159,
   "metadata": {},
   "outputs": [],
   "source": [
    "sub_mods =[]\n",
    "for i in combined_all.SubID.unique():\n",
    "    #print(i)\n",
    "    sub_mod_grads = combined_all.query('SubID == @i')\n",
    "    sub_mods.append(get_mods(sub_mod_grads, i))\n",
    "\n",
    "sub_mods_df = pd.concat(sub_mods).reset_index(drop=True) \n",
    "sub_mods_df['SubID'] = sub_mods_df.SubID.astype(int)"
   ]
  },
  {
   "cell_type": "code",
   "execution_count": 160,
   "metadata": {},
   "outputs": [],
   "source": [
    "from scipy.stats import spearmanr, pearsonr\n",
    "from scipy import stats\n",
    "from scipy.spatial import distance\n",
    "import math\n",
    "import networkx as nx\n",
    "import numpy as np\n",
    "from igraph import *\n",
    "\n",
    "    #=======================================================================================================#\n",
    "def hadamard(nearest):\n",
    "    \"\"\"\n",
    "    This function converts a directed adjacency matrix to a matrix of Hadamard distances\n",
    "    based on the overlap of neighbors. The implementation is efficiently based\n",
    "    on matrix multiplications.\n",
    "    A an N-by-N adjacency matrix holding TRUE or 1 values for edges an N-by-N matrix with\n",
    "    the Hadamard coefficient of neighbor overlap.\n",
    "    \"\"\"\n",
    "\n",
    "    common = nearest.T @ nearest\n",
    "    ranks = np.outer(np.diag(common), np.ones(nearest.shape[0]))\n",
    "    neighborUnion = ranks + ranks.T - common\n",
    "    G = common / neighborUnion\n",
    "    np.fill_diagonal(G, 0)\n",
    "\n",
    "    return G\n",
    "\n",
    "#=======================================================================================================#\n",
    "def topMax(x, N):\n",
    "    \"\"\"\n",
    "    find Nth largest number in an array\n",
    "    \"\"\"\n",
    "\n",
    "    L = len(x)\n",
    "    assert N < L, 'Number of neighbors cannot be larger than length of data'\n",
    "\n",
    "    while L != 1:\n",
    "        initial_guess = x[0]\n",
    "        top_list = x[x > initial_guess]\n",
    "        bottom_list = x[x < initial_guess]\n",
    "\n",
    "        topL = len(top_list)\n",
    "        bottomL = len(bottom_list)\n",
    "\n",
    "        if (topL < N) and (L - bottomL >= N):\n",
    "            x = initial_guess\n",
    "            break\n",
    "\n",
    "        if topL >= N:\n",
    "            x = top_list\n",
    "        else:\n",
    "            x = bottom_list\n",
    "            N = N - L + bottomL\n",
    "        L = len(x)\n",
    "\n",
    "    return x\n",
    "\n",
    "#=======================================================================================================#\n",
    "def bottomMin(x, N):\n",
    "    \"\"\"\n",
    "    find Nth smallest number in an array\n",
    "    \"\"\"\n",
    "\n",
    "    return np.round(topMax(x, len(x) - N + 1))\n",
    "\n",
    "#=======================================================================================================#\n",
    "def find_neighbors(D, k):\n",
    "    \"\"\"\n",
    "    Tranform distance matrix to binary k-nearest neighbors graph\n",
    "    \"\"\"\n",
    "\n",
    "    nearest = np.zeros(D.shape)\n",
    "    for i in range(nearest.shape[1]):\n",
    "        nearest[:,i] = np.round(D[:,i]) <= bottomMin(np.round(D[:,i]), k)\n",
    "\n",
    "\n",
    "    return nearest"
   ]
  },
  {
   "cell_type": "code",
   "execution_count": 161,
   "metadata": {},
   "outputs": [],
   "source": [
    "import numpy as np\n",
    "import pandas as pd\n",
    "import networkx as nx\n",
    "import math\n",
    "from scipy.stats import spearmanr\n",
    "\n",
    "def compute_network_metrics(data, op, net, sub):\n",
    "\n",
    "    df = data.filter(regex=op)\n",
    "    # Assuming your DataFrame is named df and has columns 'maintain_g1', 'maintain_g2', 'maintain_g3'\n",
    "    data_columns = df.columns\n",
    "    \n",
    "    \n",
    "    #mahal = '''\n",
    "    ########\n",
    "        # Calculate the inverse of the covariance matrix\n",
    "    from scipy.linalg import inv  # Ensure this import statement is included\n",
    "\n",
    "    cov_matrix = np.cov(df[data_columns].values, rowvar=False)\n",
    "    inv_cov_matrix = inv(cov_matrix)\n",
    "\n",
    "    # Function to calculate the Mahalanobis distance matrix\n",
    "    def mahalanobis_matrix(data, inv_cov_matrix):\n",
    "        n = data.shape[0]\n",
    "        mahal_matrix = np.zeros((n, n))\n",
    "\n",
    "        for i in range(n):\n",
    "            for j in range(i, n):\n",
    "                diff = data[i] - data[j]\n",
    "                dist = np.dot(np.dot(diff, inv_cov_matrix), diff.T)\n",
    "                mahal_matrix[i, j] = np.sqrt(dist)\n",
    "                mahal_matrix[j, i] = mahal_matrix[i, j]  # Since the matrix is symmetric\n",
    "\n",
    "        return mahal_matrix\n",
    "\n",
    "    # Calculate the Mahalanobis distance matrix\n",
    "    data_values = df[data_columns].values\n",
    "    mahal_matrix = mahalanobis_matrix(data_values, inv_cov_matrix)\n",
    "    # If you want to put this matrix into a DataFrame (optional):\n",
    "    mahal_df = pd.DataFrame(mahal_matrix, index=df.index, columns=df.index)\n",
    "    ########\n",
    "    #'''\n",
    "        \n",
    "    #X_Z =  np.array(df)\n",
    "    #D, rho = spearmanr(np.array(X_Z), axis=1)\n",
    "    #D = np.round((X_Z.shape[1]**3 - X_Z.shape[1]) * (1 - D) / 6).astype(np.int)\n",
    "    #D = rho\n",
    "    G = np.array(mahal_df)\n",
    "    #k = np.ceil(math.sqrt(D.shape[0]))\n",
    "    \n",
    "    #nearest = find_neighbors(D, k + 1)\n",
    "    #G = hadamard(nearest)  \n",
    "\n",
    "    gframe = pd.DataFrame(G)\n",
    "    #gframe = reduce_memory_usage(gframe)\n",
    "    graph = Graph.Weighted_Adjacency(gframe.values.tolist(), mode=ADJ_UNDIRECTED, attr=\"weight\")\n",
    "    G = graph.to_networkx()\n",
    " \n",
    "    metrics = pd.DataFrame({\n",
    "        #'efficiency': nx.global_efficiency(G),\n",
    "        #'local_efficiency': nx.local_efficiency(G),\n",
    "        #'degree_centrality': nx.degree_centrality(G),\n",
    "        'eigenvector_centrality': nx.eigenvector_centrality(G, weight='weight', max_iter=500, tol=1e-06),\n",
    "        #'closeness_centrality': nx.closeness_centrality(G, distance='weight'), \n",
    "        #'pagerank' : nx.pagerank(G),  \n",
    "    })\n",
    "    #print(metrics)\n",
    "    metrics = pd.DataFrame(metrics.sum()).T\n",
    "    \n",
    "    metrics.columns = [f'{op}_{net}_{i}' for i in metrics.columns]\n",
    "    \n",
    "    cols = ['SubID'] + metrics.columns.to_list()\n",
    "    \n",
    "    metrics=metrics.assign(SubID = sub)\n",
    "    metrics = metrics[cols]\n",
    "\n",
    "    return metrics"
   ]
  },
  {
   "cell_type": "code",
   "execution_count": 162,
   "metadata": {},
   "outputs": [],
   "source": [
    "sub_graph_effs =[]\n",
    "for i in combined_all.SubID.unique():\n",
    "    for j in ['rest']:\n",
    "        for k, l in zip(list(range(1,5)), ['vn', 'smn', 'fpcn', 'dmn']):\n",
    "            sub_eff = combined_all.query('SubID == @i').query('Subtype == @k')\n",
    "            sub_graph_effs.append(compute_network_metrics(sub_eff, j, l, i))\n",
    "            \n",
    "sub_graph_effs_df = pd.concat(sub_graph_effs).reset_index(drop=True) \n",
    "sub_graph_effs_df['SubID'] = sub_graph_effs_df.SubID.astype(int)\n",
    "\n",
    "# Define a custom aggregation function that ignores NAs\n",
    "# This function takes the first non-NA value it finds across the rows\n",
    "def first_non_na(series):\n",
    "    return series.dropna().iloc[0] if not series.dropna().empty else np.nan\n",
    "\n",
    "# Group by 'SubID' and apply the custom aggregation function to each column\n",
    "sub_graph_effs_df = sub_graph_effs_df.groupby('SubID', as_index=False).agg(first_non_na)"
   ]
  },
  {
   "cell_type": "code",
   "execution_count": 163,
   "metadata": {},
   "outputs": [],
   "source": [
    "def net_ecc(subid):\n",
    "    global combined_all\n",
    "\n",
    "    df = combined_all.query(f'SubID == {subid}')\n",
    "\n",
    "    import pandas as pd\n",
    "    import numpy as np\n",
    "    from scipy.spatial.distance import mahalanobis\n",
    "\n",
    "    # List of operations\n",
    "    operations = ['rest']\n",
    "\n",
    "    # Network codes and names mapping\n",
    "    network_names = {\n",
    "        1: 'vn',\n",
    "        2: 'smn',\n",
    "        3: 'fpcn',\n",
    "        4: 'dmn'\n",
    "    }\n",
    "\n",
    "    # Initialize an empty DataFrame to store results\n",
    "    results_df = pd.DataFrame()\n",
    "\n",
    "    # Iterate over each operation\n",
    "    for op in operations:\n",
    "        # Filter data for each operation\n",
    "        df_operation = df.filter(regex=f'Subtype|{op}')\n",
    "        \n",
    "        # Calculate the mean vector and covariance matrix for this operation\n",
    "        operation_mean = df_operation.drop('Subtype', axis=1).mean()\n",
    "        operation_cov = df_operation.drop('Subtype', axis=1).cov()\n",
    "        inv_operation_cov = np.linalg.inv(operation_cov)\n",
    "\n",
    "        for net_code, net_name in network_names.items():\n",
    "            # Filter data for each network based on operation\n",
    "            df_network = df_operation.query(f'Subtype == {net_code}').drop('Subtype', axis=1)\n",
    "\n",
    "            distances = []\n",
    "\n",
    "            for index, row in df_network.iterrows():\n",
    "                # Calculate the Mahalanobis distance from the mean of the entire data\n",
    "                distance = mahalanobis(row, operation_mean, inv_operation_cov)\n",
    "                distances.append(distance)  # Square the distance to calculate eccentricity\n",
    "\n",
    "            # Calculate the sum of squared distances\n",
    "            eccentricity = sum(distances)\n",
    "\n",
    "            # Prepare result for this network and operation\n",
    "            result = pd.DataFrame([[subid, eccentricity]], columns=['SubID', f'{op}_{net_name}_eccentricity'])\n",
    "\n",
    "            # Append result to the results DataFrame\n",
    "            results_df = pd.concat([results_df, result], ignore_index=True)\n",
    "            \n",
    "     # Define a custom aggregation function that ignores NAs\n",
    "    def first_non_na(series):\n",
    "        return series.dropna().iloc[0] if not series.dropna().empty else np.nan\n",
    "\n",
    "    results_df = results_df.groupby(['SubID'], as_index=False).agg(first_non_na)\n",
    "\n",
    "    return results_df\n"
   ]
  },
  {
   "cell_type": "code",
   "execution_count": 164,
   "metadata": {},
   "outputs": [],
   "source": [
    "def op_ecc(subid):\n",
    "    global combined_all\n",
    "\n",
    "    df = combined_all.query(f'SubID == {subid}')\n",
    "\n",
    "    import pandas as pd\n",
    "    import numpy as np\n",
    "    from scipy.spatial.distance import mahalanobis\n",
    "\n",
    "    # List of operations\n",
    "    operations = ['rest']\n",
    "\n",
    "    # Initialize an empty DataFrame to store results\n",
    "    results_df = pd.DataFrame()\n",
    "\n",
    "    # Iterate over each operation\n",
    "    for op in operations:\n",
    "        # Filter data for each operation\n",
    "        df_operation = df.filter(regex=f'{op}')\n",
    "        \n",
    "        # Calculate the mean vector and covariance matrix for this operation\n",
    "        operation_mean = df_operation.mean()\n",
    "        operation_cov = df_operation.cov()\n",
    "        inv_operation_cov = np.linalg.inv(operation_cov)\n",
    "\n",
    "        for net_code, net_name in network_names.items():\n",
    "            # Filter data for each network based on operation\n",
    "            df_network = df_operation.query(f'op == {net_code}').drop('Subtype', axis=1)\n",
    "\n",
    "            distances = []\n",
    "\n",
    "            for index, row in df_network.iterrows():\n",
    "                # Calculate the Mahalanobis distance from the mean of the entire data\n",
    "                distance = mahalanobis(row, operation_mean, inv_operation_cov)\n",
    "                distances.append(distance)  # Square the distance to calculate eccentricity\n",
    "\n",
    "            # Calculate the sum of squared distances\n",
    "            eccentricity = sum(distances)\n",
    "\n",
    "            # Prepare result for this network and operation\n",
    "            result = pd.DataFrame([[subid, eccentricity]], columns=['SubID', f'{op}_{net_name}_eccentricity'])\n",
    "\n",
    "            # Append result to the results DataFrame\n",
    "            results_df = pd.concat([results_df, result], ignore_index=True)\n",
    "            \n",
    "     # Define a custom aggregation function that ignores NAs\n",
    "    def first_non_na(series):\n",
    "        return series.dropna().iloc[0] if not series.dropna().empty else np.nan\n",
    "\n",
    "    results_df = results_df.groupby(['SubID'], as_index=False).agg(first_non_na)\n",
    "\n",
    "    return results_df\n"
   ]
  },
  {
   "cell_type": "code",
   "execution_count": 165,
   "metadata": {},
   "outputs": [],
   "source": [
    "net_ecc_lists = [net_ecc(i) for i in combined_all.SubID.unique()]\n",
    "net_ecc = pd.concat(net_ecc_lists).reset_index(drop=True)"
   ]
  },
  {
   "cell_type": "code",
   "execution_count": 166,
   "metadata": {},
   "outputs": [],
   "source": [
    "def process_sub_ranges(data, sub):\n",
    "    \n",
    "    range_cols = ['rest_rsa_g1', 'rest_rsa_g2', 'rest_rsa_g3']\n",
    "\n",
    "    def range_dif(data, sub, col):\n",
    "\n",
    "        data = data.query('SubID == @sub')\n",
    "\n",
    "        dif = data[col].max() - data[col].min()\n",
    "\n",
    "        return dif \n",
    "\n",
    "    sub_ranges = []\n",
    "    for i in range_cols:\n",
    "        sub_ranges.append(range_dif(data, sub, i))\n",
    "\n",
    "    sub_range_df = pd.DataFrame(sub_ranges).T\n",
    "    sub_range_df.columns = range_cols\n",
    "    sub_range_df = sub_range_df.assign(SubID = sub)\n",
    "    sub_range_df = sub_range_df[['SubID'] + range_cols]\n",
    "    \n",
    "    return sub_range_df\n",
    "\n",
    "sub_ranges = []\n",
    "for i in combined_all.SubID.unique():\n",
    "    sub_ranges.append(process_sub_ranges(combined_all, i))\n",
    "    \n",
    "sub_range_df = pd.concat(sub_ranges)"
   ]
  },
  {
   "cell_type": "code",
   "execution_count": 183,
   "metadata": {},
   "outputs": [],
   "source": [
    "net_ecc.columns = ['SubID', 'rest_rsa_vn_eccentricity', 'rest_rsa_smn_eccentricity',\n",
    "                   'rest_rsa_fpcn_eccentricity', 'rest_rsa_dmn_eccentricity']\n",
    "\n",
    "sub_within_network_disp.columns = ['SubID', 'rest_rsa_vn_dispersion_md', 'rest_rsa_smn_dispersion_md',\n",
    "                                   'rest_rsa_fpcn_dispersion_md', 'rest_rsa_dmn_dispersion_md']"
   ]
  },
  {
   "cell_type": "code",
   "execution_count": 184,
   "metadata": {},
   "outputs": [],
   "source": [
    "sub_within_network_disp.to_csv('/pl/active/banich/studies/wmem/fmri/operation_rsa/grp/rest/dispersion_data/derosa_rest_rsa_within_network_dispersion.csv', index=False)\n",
    "net_ecc.to_csv('/pl/active/banich/studies/wmem/fmri/operation_rsa/grp/rest/dispersion_data/derosa_rest_rsa_eccentricity.csv', index=False)\n",
    "#across_network_disp.to_csv('/pl/active/banich/studies/wmem/fmri/operation_rsa/grp/rest/dispersion_data/derosa_rest_rsa_across_network_dispersion.csv', index=False)\n",
    "sub_mods_df.to_csv('/pl/active/banich/studies/wmem/fmri/operation_rsa/grp/rest/dispersion_data/derosa_rest_network_rsa_modularity.csv', index=False)\n",
    "sub_graph_effs_df.to_csv('/pl/active/banich/studies/wmem/fmri/operation_rsa/grp/rest/dispersion_data/derosa_rest_rsa_network_eigcent.csv', index=False)\n",
    "sub_range_df.to_csv('/pl/active/banich/studies/wmem/fmri/operation_rsa/grp/rest/dispersion_data/derosa_rest_rsa_gradient_range.csv', index=False)\n"
   ]
  },
  {
   "cell_type": "code",
   "execution_count": 208,
   "metadata": {},
   "outputs": [],
   "source": [
    "rsa_ecc_disp = pd.merge(sub_within_network_disp, net_ecc, on='SubID')\n",
    "rsa_ecc_disp = pd.merge(z_data, rsa_ecc_disp, on='SubID')"
   ]
  },
  {
   "cell_type": "code",
   "execution_count": 209,
   "metadata": {},
   "outputs": [],
   "source": [
    "import pandas as pd\n",
    "import statsmodels.api as sm\n",
    "import statsmodels.formula.api as smf\n",
    "import itertools\n",
    "\n",
    "class RegressionAnalysis:\n",
    "    def __init__(self, data, variable_list, target='z_ave', interaction=None):\n",
    "        self.data = data\n",
    "        self.variable_list = variable_list\n",
    "        self.target = target\n",
    "        self.interaction = interaction\n",
    "        self.regression_results = {}\n",
    "        self.regression_models = {}\n",
    "\n",
    "    def run_regression(self, target, y_vars):\n",
    "        if self.interaction is not None:\n",
    "            if len(y_vars) > 1:\n",
    "                joined_vars = ' * '.join(y_vars)\n",
    "            else:\n",
    "                joined_vars = y_vars[0]\n",
    "            formula = f'{target} ~ {joined_vars}'\n",
    "        else:\n",
    "            joined_vars = ' + '.join(y_vars)\n",
    "            formula = f'{target} ~ {joined_vars}'\n",
    "\n",
    "        model = smf.ols(formula=formula, data=self.data).fit()\n",
    "        summary = model.summary()\n",
    "        var = pd.DataFrame(summary.tables[0].data).iloc[0, 1]\n",
    "\n",
    "        table1 = pd.DataFrame(summary.tables[0].data).iloc[:4, 3:].T.assign(var=var)\n",
    "        table1.columns = ['r2', 'adjr2', 'fstat', 'pval', 'var']\n",
    "        table1 = table1[['var', 'r2', 'adjr2', 'fstat', 'pval']]\n",
    "\n",
    "        table2_cols = pd.DataFrame(summary.tables[1].data).loc[0].to_list() + ['var']\n",
    "        table2_cols[0] = 'parameter'\n",
    "        table2 = pd.DataFrame(summary.tables[1].data).iloc[1:].assign(var=var)\n",
    "        table2.columns = table2_cols\n",
    "        table2 = table2[['var', 'parameter', 'coef', 'std err', 't', 'P>|t|']]\n",
    "\n",
    "        df = pd.merge(table1, table2, how='outer', left_on='var', right_on='parameter')\n",
    "        df['var'] = df['var_x'].fillna(df['var_y'])\n",
    "        df.drop(columns=['var_x', 'var_y'], inplace=True)\n",
    "        df = df[['var'] + [col for col in df.columns if col != 'var']]\n",
    "        df = df.assign(formula=formula)\n",
    "\n",
    "        return df, model\n",
    "\n",
    "    def run_all_regressions(self):\n",
    "        for metric in self.variable_list:\n",
    "            df, model = self.run_regression(self.target, [metric])\n",
    "            self.regression_results[metric] = df\n",
    "            self.regression_models[metric] = model\n",
    "\n",
    "    def get_combined_results(self):\n",
    "        combined_results = []\n",
    "        for metric in self.regression_results:\n",
    "            combined_results.append(self.regression_results[metric])\n",
    "\n",
    "        output_regressions = pd.concat(combined_results, ignore_index=True)\n",
    "        columns_to_convert = ['r2', 'adjr2', 'fstat', 'pval', 'coef', 'std err', 't', 'P>|t|']\n",
    "        for column in columns_to_convert:\n",
    "            output_regressions[column] = pd.to_numeric(output_regressions[column], errors='coerce')\n",
    "\n",
    "        return output_regressions\n",
    "    \n",
    "def clean_formulas(dataframe, pval_threshold=0.05, target_prefix='thought_problems ~ '):\n",
    "    \"\"\"\n",
    "    Filters formulas in a DataFrame based on p-value and removes the target prefix from each formula.\n",
    "\n",
    "    Parameters:\n",
    "    dataframe (pd.DataFrame): The DataFrame containing the regression results.\n",
    "    pval_threshold (float): The p-value threshold for filtering formulas. Default is 0.05.\n",
    "    target_prefix (str): The prefix to remove from each formula. Default is 'thought_problems ~ '.\n",
    "\n",
    "    Returns:\n",
    "    list: A list of cleaned formulas.\n",
    "    \"\"\"\n",
    "    filtered_formulas = dataframe.query('pval < @pval_threshold').formula.to_list()\n",
    "    cleaned_formulas = [formula.replace(target_prefix, '') for formula in filtered_formulas]\n",
    "    return cleaned_formulas"
   ]
  },
  {
   "cell_type": "code",
   "execution_count": 210,
   "metadata": {},
   "outputs": [],
   "source": [
    "fc_list = rsa_ecc_disp.iloc[:, 4:].columns.to_list()"
   ]
  },
  {
   "cell_type": "code",
   "execution_count": 211,
   "metadata": {},
   "outputs": [
    {
     "data": {
      "text/plain": [
       "[]"
      ]
     },
     "execution_count": 211,
     "metadata": {},
     "output_type": "execute_result"
    }
   ],
   "source": [
    "rsa_within_disp_analysis = RegressionAnalysis(rsa_ecc_disp, fc_list)\n",
    "rsa_within_disp_analysis.run_all_regressions()\n",
    "rsa_within_disp_output_regressions = rsa_within_disp_analysis.get_combined_results()\n",
    "rsa_within_disp_regression_models = rsa_within_disp_analysis.regression_models\n",
    "rsa_within_disp_sig_vars = clean_formulas(rsa_within_disp_output_regressions)\n",
    "rsa_within_disp_sig_vars"
   ]
  },
  {
   "cell_type": "code",
   "execution_count": null,
   "metadata": {},
   "outputs": [],
   "source": []
  }
 ],
 "metadata": {
  "kernelspec": {
   "display_name": "Python 3 (ipykernel)",
   "language": "python",
   "name": "python3"
  },
  "language_info": {
   "codemirror_mode": {
    "name": "ipython",
    "version": 3
   },
   "file_extension": ".py",
   "mimetype": "text/x-python",
   "name": "python",
   "nbconvert_exporter": "python",
   "pygments_lexer": "ipython3",
   "version": "3.7.12"
  }
 },
 "nbformat": 4,
 "nbformat_minor": 4
}
